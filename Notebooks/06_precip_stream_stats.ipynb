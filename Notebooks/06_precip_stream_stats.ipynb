{
 "cells": [
  {
   "cell_type": "markdown",
   "id": "7088971d-57c8-4088-97ff-e146938ba0ef",
   "metadata": {},
   "source": [
    "## 1. Precipitation Accumulation and Area Weighting \n",
    "## 2. Sine Curve Std Error Calcuations\n",
    "## 3. MCW Weighted Stream Samples"
   ]
  },
  {
   "cell_type": "code",
   "execution_count": 1,
   "id": "ce5a1074-9781-462f-afcb-e85ac4a4e8a4",
   "metadata": {},
   "outputs": [],
   "source": [
    "from pathlib import Path\n",
    "sys.path.append(str(Path().resolve().parent / 'Scripts'))\n",
    "from packages import *\n",
    "import colors\n",
    "from matplotlib import patheffects"
   ]
  },
  {
   "cell_type": "code",
   "execution_count": 2,
   "id": "e054f69a-387c-4868-b407-bec5bfabc4ef",
   "metadata": {},
   "outputs": [
    {
     "data": {
      "text/html": [
       "<div>\n",
       "<style scoped>\n",
       "    .dataframe tbody tr th:only-of-type {\n",
       "        vertical-align: middle;\n",
       "    }\n",
       "\n",
       "    .dataframe tbody tr th {\n",
       "        vertical-align: top;\n",
       "    }\n",
       "\n",
       "    .dataframe thead th {\n",
       "        text-align: right;\n",
       "    }\n",
       "</style>\n",
       "<table border=\"1\" class=\"dataframe\">\n",
       "  <thead>\n",
       "    <tr style=\"text-align: right;\">\n",
       "      <th></th>\n",
       "      <th>Sample Name</th>\n",
       "      <th>Site_ID</th>\n",
       "      <th>Collection_Date</th>\n",
       "      <th>D_2H</th>\n",
       "      <th>D_2H_StDev</th>\n",
       "      <th>D_18O</th>\n",
       "      <th>D_18O_StDev</th>\n",
       "      <th>Type</th>\n",
       "      <th>Site_no</th>\n",
       "      <th>D_18O_Rain</th>\n",
       "      <th>D_18O_Snow</th>\n",
       "      <th>D_18O_MC</th>\n",
       "      <th>D_18O_BC</th>\n",
       "      <th>D_2H_Rain</th>\n",
       "      <th>D_2H_Snow</th>\n",
       "      <th>D_18O_std_Rain</th>\n",
       "      <th>D_18O_std_Snow</th>\n",
       "      <th>D_18O_StDev_Precip</th>\n",
       "      <th>D_18O_Precip</th>\n",
       "      <th>D_2H_Precip</th>\n",
       "    </tr>\n",
       "  </thead>\n",
       "  <tbody>\n",
       "    <tr>\n",
       "      <th>4</th>\n",
       "      <td>5</td>\n",
       "      <td>RC_01</td>\n",
       "      <td>2022-10-27</td>\n",
       "      <td>-92.796701</td>\n",
       "      <td>1.390</td>\n",
       "      <td>-12.540525</td>\n",
       "      <td>0.232</td>\n",
       "      <td>RC</td>\n",
       "      <td>1.0</td>\n",
       "      <td>-12.540525</td>\n",
       "      <td>NaN</td>\n",
       "      <td>NaN</td>\n",
       "      <td>NaN</td>\n",
       "      <td>-92.796701</td>\n",
       "      <td>NaN</td>\n",
       "      <td>0.232</td>\n",
       "      <td>NaN</td>\n",
       "      <td>0.232</td>\n",
       "      <td>-12.540525</td>\n",
       "      <td>-92.796701</td>\n",
       "    </tr>\n",
       "    <tr>\n",
       "      <th>5</th>\n",
       "      <td>6</td>\n",
       "      <td>RC_02</td>\n",
       "      <td>2022-10-27</td>\n",
       "      <td>-95.549245</td>\n",
       "      <td>0.928</td>\n",
       "      <td>-13.497653</td>\n",
       "      <td>0.164</td>\n",
       "      <td>RC</td>\n",
       "      <td>2.0</td>\n",
       "      <td>-13.497653</td>\n",
       "      <td>NaN</td>\n",
       "      <td>NaN</td>\n",
       "      <td>NaN</td>\n",
       "      <td>-95.549245</td>\n",
       "      <td>NaN</td>\n",
       "      <td>0.164</td>\n",
       "      <td>NaN</td>\n",
       "      <td>0.164</td>\n",
       "      <td>-13.497653</td>\n",
       "      <td>-95.549245</td>\n",
       "    </tr>\n",
       "    <tr>\n",
       "      <th>6</th>\n",
       "      <td>7</td>\n",
       "      <td>RC_03</td>\n",
       "      <td>2022-10-27</td>\n",
       "      <td>-104.588535</td>\n",
       "      <td>1.740</td>\n",
       "      <td>-14.756808</td>\n",
       "      <td>0.255</td>\n",
       "      <td>RC</td>\n",
       "      <td>3.0</td>\n",
       "      <td>-14.756808</td>\n",
       "      <td>NaN</td>\n",
       "      <td>NaN</td>\n",
       "      <td>NaN</td>\n",
       "      <td>-104.588535</td>\n",
       "      <td>NaN</td>\n",
       "      <td>0.255</td>\n",
       "      <td>NaN</td>\n",
       "      <td>0.255</td>\n",
       "      <td>-14.756808</td>\n",
       "      <td>-104.588535</td>\n",
       "    </tr>\n",
       "  </tbody>\n",
       "</table>\n",
       "</div>"
      ],
      "text/plain": [
       "   Sample Name Site_ID Collection_Date        D_2H  D_2H_StDev      D_18O  \\\n",
       "4            5   RC_01      2022-10-27  -92.796701       1.390 -12.540525   \n",
       "5            6   RC_02      2022-10-27  -95.549245       0.928 -13.497653   \n",
       "6            7   RC_03      2022-10-27 -104.588535       1.740 -14.756808   \n",
       "\n",
       "   D_18O_StDev Type  Site_no  D_18O_Rain  D_18O_Snow  D_18O_MC  D_18O_BC  \\\n",
       "4        0.232   RC      1.0  -12.540525         NaN       NaN       NaN   \n",
       "5        0.164   RC      2.0  -13.497653         NaN       NaN       NaN   \n",
       "6        0.255   RC      3.0  -14.756808         NaN       NaN       NaN   \n",
       "\n",
       "    D_2H_Rain  D_2H_Snow  D_18O_std_Rain  D_18O_std_Snow  D_18O_StDev_Precip  \\\n",
       "4  -92.796701        NaN           0.232             NaN               0.232   \n",
       "5  -95.549245        NaN           0.164             NaN               0.164   \n",
       "6 -104.588535        NaN           0.255             NaN               0.255   \n",
       "\n",
       "   D_18O_Precip  D_2H_Precip  \n",
       "4    -12.540525   -92.796701  \n",
       "5    -13.497653   -95.549245  \n",
       "6    -14.756808  -104.588535  "
      ]
     },
     "execution_count": 2,
     "metadata": {},
     "output_type": "execute_result"
    }
   ],
   "source": [
    "import read_mcw\n",
    "df = read_mcw.read_and_process()\n",
    "df.drop(df[df['Type'] == 'MC'].index, inplace = True)\n",
    "df.drop(df[df['Type'] == 'BC'].index, inplace = True)\n",
    "df.head(3)"
   ]
  },
  {
   "cell_type": "markdown",
   "id": "3bbaa227-9ad3-4761-a9fe-d8cfc1ae53f7",
   "metadata": {},
   "source": [
    "# 1. Precipitaiton Accumulation  \n",
    "Obtained from WRF Model Output"
   ]
  },
  {
   "cell_type": "code",
   "execution_count": 3,
   "id": "df5c0de9-409b-441b-824e-4fdcef17cc75",
   "metadata": {},
   "outputs": [],
   "source": [
    "#Water Year 23 Precip total at each site (mm)\n",
    "# r = Rain Samples\n",
    "r1_sum = 334.32\n",
    "r2_sum = 328.422199\n",
    "r3_sum = 298.616493\n",
    "r4_sum = 367.6122\n",
    "r5_sum = 262.759259\n",
    "r6_sum = 482.840065\n",
    "r7_sum = 269.239056\n",
    "r8_sum = 568.247197\n",
    "r9_sum = 424.304921\n",
    "r10_sum = 472.136001\n",
    "\n",
    "# s = Snow Samples\n",
    "s1_sum = 168.586419\n",
    "s2_sum = 260.923149\n",
    "s3_sum = 224.600441\n",
    "s4_sum = 322.325984\n",
    "s5_sum = 832.765625\n",
    "s6_sum = 624.480625\n",
    "s7_sum = 875.439823\n",
    "s8_sum = 615.160983\n",
    "s9_sum = 773.38994\n",
    "s10_sum = 857.194671"
   ]
  },
  {
   "cell_type": "code",
   "execution_count": 4,
   "id": "4d8d6b5b-22a8-405d-aa7e-2480a0f8a819",
   "metadata": {},
   "outputs": [
    {
     "data": {
      "text/html": [
       "<div>\n",
       "<style scoped>\n",
       "    .dataframe tbody tr th:only-of-type {\n",
       "        vertical-align: middle;\n",
       "    }\n",
       "\n",
       "    .dataframe tbody tr th {\n",
       "        vertical-align: top;\n",
       "    }\n",
       "\n",
       "    .dataframe thead th {\n",
       "        text-align: right;\n",
       "    }\n",
       "</style>\n",
       "<table border=\"1\" class=\"dataframe\">\n",
       "  <thead>\n",
       "    <tr style=\"text-align: right;\">\n",
       "      <th></th>\n",
       "      <th>Collection_Date</th>\n",
       "      <th>Site_ID</th>\n",
       "      <th>Precip_Accum</th>\n",
       "    </tr>\n",
       "  </thead>\n",
       "  <tbody>\n",
       "    <tr>\n",
       "      <th>0</th>\n",
       "      <td>2022-10-27</td>\n",
       "      <td>RC_01</td>\n",
       "      <td>16.355125</td>\n",
       "    </tr>\n",
       "    <tr>\n",
       "      <th>1</th>\n",
       "      <td>2022-11-13</td>\n",
       "      <td>RC_01</td>\n",
       "      <td>48.301849</td>\n",
       "    </tr>\n",
       "  </tbody>\n",
       "</table>\n",
       "</div>"
      ],
      "text/plain": [
       "  Collection_Date Site_ID  Precip_Accum\n",
       "0      2022-10-27   RC_01     16.355125\n",
       "1      2022-11-13   RC_01     48.301849"
      ]
     },
     "execution_count": 4,
     "metadata": {},
     "output_type": "execute_result"
    }
   ],
   "source": [
    "#Precipitation Accumulation between each sampling date pulled from WRF Model output\n",
    "ff = pd.read_csv('../Data/12.prcp_Accum_RC_IB.csv', parse_dates=[0])\n",
    "ff.head(2)"
   ]
  },
  {
   "cell_type": "code",
   "execution_count": 5,
   "id": "3f6ec1bd-b78a-4c10-bc7f-3a2c2c360405",
   "metadata": {},
   "outputs": [
    {
     "data": {
      "text/plain": [
       "Index(['Sample Name', 'Site_ID', 'Collection_Date', 'D_2H', 'D_2H_StDev',\n",
       "       'D_18O', 'D_18O_StDev', 'Type', 'Site_no', 'D_18O_Rain', 'D_18O_Snow',\n",
       "       'D_18O_MC', 'D_18O_BC', 'D_2H_Rain', 'D_2H_Snow', 'D_18O_std_Rain',\n",
       "       'D_18O_std_Snow', 'D_18O_StDev_Precip', 'D_18O_Precip', 'D_2H_Precip',\n",
       "       'Precip_Accum'],\n",
       "      dtype='object')"
      ]
     },
     "execution_count": 5,
     "metadata": {},
     "output_type": "execute_result"
    }
   ],
   "source": [
    "df['Collection_Date'] = pd.to_datetime(df['Collection_Date'])\n",
    "ff['Collection_Date'] = pd.to_datetime(ff['Collection_Date'])\n",
    "\n",
    "# combine datasets\n",
    "df = pd.merge(df, ff, on=['Collection_Date', 'Site_ID'], how='outer')\n",
    "df.columns "
   ]
  },
  {
   "cell_type": "markdown",
   "id": "c7118b4a-e93f-4978-aaa9-8e1f98a98a23",
   "metadata": {},
   "source": [
    "# Volume weighted avg each site and total\n",
    "Calculate indivicual and total weighted average for each site: "
   ]
  },
  {
   "cell_type": "code",
   "execution_count": 6,
   "id": "987a3f44-20b6-4b59-bbfa-500836ab80f3",
   "metadata": {},
   "outputs": [
    {
     "name": "stdout",
     "output_type": "stream",
     "text": [
      "Weighted Average Isotope Value for Each Site:\n",
      "Site_ID\n",
      "IB_01   -18.847412\n",
      "IB_02   -18.280613\n",
      "IB_03   -19.237480\n",
      "IB_04   -19.556656\n",
      "IB_05   -20.859719\n",
      "IB_06   -19.515083\n",
      "IB_07   -20.276814\n",
      "IB_08   -18.035749\n",
      "IB_09   -18.379337\n",
      "IB_10   -19.175375\n",
      "RC_01    -9.715544\n",
      "RC_02   -14.013843\n",
      "RC_03   -14.166187\n",
      "RC_04   -13.353554\n",
      "RC_05   -11.983849\n",
      "RC_06   -13.165263\n",
      "RC_07   -11.439583\n",
      "RC_08   -13.836019\n",
      "RC_09   -14.458827\n",
      "RC_10   -14.140188\n",
      "dtype: float64\n",
      "\n",
      "Overall Weighted Average Isotope Value: -16.121854817233135\n"
     ]
    }
   ],
   "source": [
    "# Step 1: Calculate the product of precipitation volume and isotope value for each site and each event\n",
    "df['Volume_Weighted_Isotope'] = df['Precip_Accum'] * df['D_18O_Precip']\n",
    "\n",
    "# Step 2: Sum up the products for each site across all events\n",
    "site_sum_products = df.groupby('Site_ID')['Volume_Weighted_Isotope'].sum()\n",
    "\n",
    "# Step 3: Sum up the precipitation volumes for each site across all events\n",
    "site_sum_volumes = df.groupby('Site_ID')['Precip_Accum'].sum()\n",
    "\n",
    "# Step 4: Divide the sum of products by the sum of precipitation volumes for each site\n",
    "site_weighted_average = site_sum_products / site_sum_volumes\n",
    "\n",
    "# Step 5: Calculate the overall weighted average\n",
    "overall_weighted_average = site_weighted_average.mean()\n",
    "\n",
    "print(\"Weighted Average Isotope Value for Each Site:\")\n",
    "print(site_weighted_average)\n",
    "print(\"\\nOverall Weighted Average Isotope Value:\", overall_weighted_average)"
   ]
  },
  {
   "cell_type": "markdown",
   "id": "4fcc8c31-4535-4606-895c-412e9e7bc5df",
   "metadata": {},
   "source": [
    "precip linear regression"
   ]
  },
  {
   "cell_type": "code",
   "execution_count": 7,
   "id": "f19c98ba-6ed6-4311-ab03-329f541ca7eb",
   "metadata": {},
   "outputs": [
    {
     "data": {
      "text/plain": [
       "np.float64(-141.05046433411562)"
      ]
     },
     "execution_count": 7,
     "metadata": {},
     "output_type": "execute_result"
    }
   ],
   "source": [
    "#equation for samples\n",
    "# (RC_01 sample D18O * RC_01 precip accum event) / total RC_01 event\n",
    "#can make into new column if values look right\n",
    "filtered_01 = df[(df[\"Site_ID\"] == \"IB_10\")]\n",
    "RC01 = (filtered_01['D_2H_Snow'] * filtered_01['Precip_Accum']).sum() / s10_sum\n",
    "RC01"
   ]
  },
  {
   "cell_type": "code",
   "execution_count": 8,
   "id": "3697f43d-ec39-4cd4-9090-afa6d26cf77f",
   "metadata": {},
   "outputs": [],
   "source": [
    "# D2H Weighted Isotope Values\n",
    "D2H_RC_01 = -76.66\n",
    "D2H_RC_02 = -101.90\n",
    "D2H_RC_03 = -104.64\n",
    "D2H_RC_04 = -85.04\n",
    "D2H_RC_05 = -85.71\n",
    "D2H_RC_06 = -97.22\n",
    "D2H_RC_07 = -83.27\n",
    "D2H_RC_08 = -102.14\n",
    "D2H_RC_09 = -105.53\n",
    "D2H_RC_10 = -103.77\n",
    "D2H_IB_01 = -143.143\n",
    "D2H_IB_02 = -139.02\n",
    "D2H_IB_03 = -144.36\n",
    "D2H_IB_04 = -148.62\n",
    "D2H_IB_05 = -156.28\n",
    "D2H_IB_06 = -147.14\n",
    "D2H_IB_07 = -150.87\n",
    "D2H_IB_08 = -133.44\n",
    "D2H_IB_09 = -135.86\n",
    "D2H_IB_10 = -141.05"
   ]
  },
  {
   "cell_type": "raw",
   "id": "e4a71a7b-6eee-4d1e-bfc9-388ea822906b",
   "metadata": {},
   "source": [
    "#equation for weight precip samples\n",
    "# (RC_01 sample D18O * RC_01 precip accum event) / total RC_01 event\n",
    "#can make into new column if values look right\n",
    "RC_01 = ((mdf['D_18O_Rain'] * mdf['RC01']).sum()) / r1_sum\n",
    "RC_02 = (mdf['D_18O_Rain'] * mdf['RC02'] / r2_sum).sum()\n",
    "RC_03 = (mdf['D_18O_Rain'] * mdf['RC03'] / r3_sum).sum()\n",
    "RC_04 = (mdf['D_18O_Rain'] * mdf['RC04'] / r4_sum).sum()\n",
    "RC_05 = (mdf['D_18O_Rain'] * mdf['RC05'] / r5_sum).sum()\n",
    "RC_06 = (mdf['D_18O_Rain'] * mdf['RC06'] / r6_sum).sum()\n",
    "RC_07 = (mdf['D_18O_Rain'] * mdf['RC07'] / r7_sum).sum()\n",
    "RC_08 = (mdf['D_18O_Rain'] * mdf['RC08'] / r8_sum).sum()\n",
    "RC_09 = (mdf['D_18O_Rain'] * mdf['RC09'] / r9_sum).sum()\n",
    "RC_10 = (mdf['D_18O_Rain'] * mdf['RC10'] / r10_sum).sum()\n",
    "\n",
    "IB_01 = mdf['D_18O_Snow'] * mdf['IB01'] / s1_sum\n",
    "IB_02 = mdf['D_18O_Snow'] * mdf['IB02'] / s2_sum\n",
    "IB_03 = mdf['D_18O_Snow'] * mdf['IB03'] / s3_sum\n",
    "IB_04 = mdf['D_18O_Snow'] * mdf['IB04'] / s4_sum\n",
    "IB_05 = mdf['D_18O_Snow'] * mdf['IB05'] / s5_sum\n",
    "IB_06 = mdf['D_18O_Snow'] * mdf['IB06'] / s6_sum\n",
    "IB_07 = mdf['D_18O_Snow'] * mdf['IB07'] / s7_sum\n",
    "IB_08 = mdf['D_18O_Snow'] * mdf['IB08'] / s8_sum\n",
    "IB_09 = mdf['D_18O_Snow'] * mdf['IB09'] / s9_sum\n",
    "IB_10 = mdf['D_18O_Snow'] * mdf['IB10'] / s10_sum"
   ]
  },
  {
   "cell_type": "code",
   "execution_count": 9,
   "id": "3695be6f-f68f-4e6c-b961-20440241a416",
   "metadata": {},
   "outputs": [
    {
     "name": "stdout",
     "output_type": "stream",
     "text": [
      "Rain Volume-Weighted Mean -12.8615266\n",
      "Snow Volume-Wighted Mean -19.216421500000003\n",
      "All Volume weighted precip =  -16.03897405\n"
     ]
    }
   ],
   "source": [
    "# Weighted Isotope Values D18O\n",
    "RC_01 = -9.7155\n",
    "RC_02 = -14.01384\n",
    "RC_03 = -14.16618\n",
    "RC_04 = -11.6961\n",
    "RC_05 = -11.9838\n",
    "RC_06 = -13.16526\n",
    "RC_07 = -11.43958\n",
    "RC_08 = -13.836019\n",
    "RC_09 = -14.4588\n",
    "RC_10 = -14.140187\n",
    "IB_01 = -18.84741\n",
    "IB_02 = -18.280612\n",
    "IB_03 = -19.237479\n",
    "IB_04 = -19.55665\n",
    "IB_05 = -20.859719\n",
    "IB_06 = -19.51508\n",
    "IB_07 = -20.27681\n",
    "IB_08 = -18.035748\n",
    "IB_09 = -18.379337\n",
    "IB_10 = -19.17537\n",
    "\n",
    "rain_mean = (RC_01 + RC_02 + RC_03 + RC_04 + RC_05 + RC_06 + RC_07 + RC_08 + RC_09 + RC_10) /10 \n",
    "print('Rain Volume-Weighted Mean', rain_mean)\n",
    "snow_mean = ( IB_01 + IB_02 + IB_03 + IB_04 + IB_05 + IB_06 + IB_07+ IB_08+ IB_09+ IB_10) / 10\n",
    "print('Snow Volume-Wighted Mean', snow_mean)\n",
    "precip_mean = (RC_01 + RC_02 + RC_03 + RC_04 + RC_05 + RC_06 + RC_07 + RC_08 + RC_09 + RC_10 \n",
    "               + IB_01 + IB_02 + IB_03 + IB_04 + IB_05 + IB_06 + IB_07+ IB_08+ IB_09+ IB_10) / 20\n",
    "print('All Volume weighted precip = ', precip_mean)"
   ]
  },
  {
   "cell_type": "code",
   "execution_count": 10,
   "id": "269ae5da-4316-44d6-8971-9458641c1180",
   "metadata": {},
   "outputs": [],
   "source": [
    "#Elevation Area Mores Creek\n",
    "area_e1 = 19.19 \n",
    "area_e2 = 85.74\n",
    "area_e3 = 240.31 \n",
    "area_e4 = 249.38 \n",
    "area_e5 = 174.54 \n",
    "area_e6 = 108.94 \n",
    "area_e7 = 70.72 \n",
    "area_e8 = 51.36 \n",
    "area_e9 = 22.23 \n",
    "area_e10 = 6.64 "
   ]
  },
  {
   "cell_type": "code",
   "execution_count": 11,
   "id": "9d6ed04c-21d7-40b5-bf13-b02fddc29d4e",
   "metadata": {},
   "outputs": [
    {
     "name": "stdout",
     "output_type": "stream",
     "text": [
      "The area-weighted total precipitation in MC Rain is 349.1865526656856 mm.\n"
     ]
    }
   ],
   "source": [
    "# Area Weighted Total Precip \n",
    "# MC Areas of the 1-10 elevations in square kilometers\n",
    "areas = [12.67, 72.09, 216.55, 256.55, 189.97, 116.28, 76.16, 53.81, 26.52, 8.91]\n",
    "\n",
    "# Precipitation in each area in mm\n",
    "precipitations = [334.32, 328.422199, 298.616493, 367.6122, 262.759259, 482.840065, 269.239056, 568.247197, 424.304921, 472.136001]\n",
    "\n",
    "# First, we convert the precipitation to volume (since 1mm rainfall = 1m^3 of water per 1km^2)\n",
    "#calculating precip volume for each elevation\n",
    "volumes = [area * precipitation for area, precipitation in zip(areas, precipitations)]\n",
    "\n",
    "# Then, we sum up the volumes and divide by the total area to get the area-weighted precipitation\n",
    "total_area = sum(areas)\n",
    "total_precipitation = sum(volumes) / total_area  # No need to convert back to mm\n",
    "\n",
    "print(f\"The area-weighted total precipitation in MC Rain is {total_precipitation} mm.\")"
   ]
  },
  {
   "cell_type": "code",
   "execution_count": 12,
   "id": "ea822b5a-63e4-43af-8e48-d688ab580787",
   "metadata": {},
   "outputs": [
    {
     "name": "stdout",
     "output_type": "stream",
     "text": [
      "The area-weighted total precipitation in MC snow is 496.36643104345757 mm.\n"
     ]
    }
   ],
   "source": [
    "# Areas of the 1-10 elevations in square kilometers\n",
    "areas = [12.67, 72.09, 216.55, 256.55, 189.97, 116.28, 76.16, 53.81, 26.52, 8.91]\n",
    "\n",
    "# Precipitation in each area in mm (SIB 1-10)\n",
    "precipitations = [168.586419, 260.923149, 224.600441, 322.325984, 832.765625, 624.480625, 875.439823, 615.160983, 773.38994,857.19467]\n",
    "\n",
    "# First, we convert the precipitation to volume (since 1mm rainfall = 1m^3 of water per 1km^2)\n",
    "#calculating precip volume for each elevation\n",
    "volumes = [area * precipitation for area, precipitation in zip(areas, precipitations)]\n",
    "\n",
    "# Then, we sum up the volumes and divide by the total area to get the area-weighted precipitation\n",
    "total_area = sum(areas)\n",
    "total_precipitation = sum(volumes) / total_area  # No need to convert back to mm\n",
    "\n",
    "print(f\"The area-weighted total precipitation in MC snow is {total_precipitation} mm.\")"
   ]
  },
  {
   "attachments": {
    "f1f4bece-29eb-4ec3-9f9a-67fae68e56e3.png": {
     "image/png": "[encoded data removed]"
    }
   },
   "cell_type": "markdown",
   "id": "3d9d4d41-820a-4f52-9af7-03b4c582e323",
   "metadata": {},
   "source": [
    "# SE for weighted methods (MC5)\n",
    "![image.png](attachment:f1f4bece-29eb-4ec3-9f9a-67fae68e56e3.png)"
   ]
  },
  {
   "cell_type": "markdown",
   "id": "296aadac-3b2d-4f6d-b812-035e8f1df885",
   "metadata": {},
   "source": [
    "### Precip Mass+Area Weighted Mean"
   ]
  },
  {
   "cell_type": "code",
   "execution_count": 13,
   "id": "bcfef512-657e-44d6-8dad-7e3fa2b96d5e",
   "metadata": {},
   "outputs": [
    {
     "name": "stdout",
     "output_type": "stream",
     "text": [
      "Weighted Mean: -19.816327106677555\n",
      "Standard Error: 0.4143688839877681\n"
     ]
    }
   ],
   "source": [
    "# Precip mass / are weighted for Snow samples\n",
    "data = np.array([IB_01 , IB_02 , IB_03 , IB_04 , IB_05 , IB_06 , IB_07, IB_08, IB_09, IB_10])  # Isotope measurements\n",
    "weights1 = np.array([168.586419, 260.923149, 224.600441, 322.325984, 832.765625, 624.480625, 875.439823, 615.160983, 773.38994,857.19467])  # Precipitation accumulation weights\n",
    "weights2 = np.array([12.67, 72.09, 216.55, 256.55, 189.97, 116.28, 76.16, 53.81, 26.52, 8.91])  # Area weights\n",
    "\n",
    "# Calculate combined weights\n",
    "combined_weights = weights1 * weights2\n",
    "\n",
    "# Calculate doubly-weighted mean\n",
    "weighted_mean = np.average(data, weights=combined_weights)\n",
    "\n",
    "# Calculate weighted variance\n",
    "weighted_variance = (np.sum(combined_weights * (data - weighted_mean)**2) / np.sum(combined_weights)) * ((np.sum(combined_weights)**2)/((np.sum(combined_weights)**2)-np.sum(combined_weights**2)))\n",
    "neff = (np.sum(combined_weights) ** 2) / np.sum(combined_weights**2)\n",
    "standard_error = np.sqrt(weighted_variance / neff)\n",
    "\n",
    "print(\"Weighted Mean:\", weighted_mean)\n",
    "print(\"Standard Error:\", standard_error)"
   ]
  },
  {
   "cell_type": "code",
   "execution_count": 14,
   "id": "386f3404-86dd-4987-bf26-24e87d0ad232",
   "metadata": {},
   "outputs": [
    {
     "name": "stdout",
     "output_type": "stream",
     "text": [
      "Weighted Mean: -12.82158709588768\n",
      "Standard Error: 0.4957687350578647\n"
     ]
    }
   ],
   "source": [
    "# Precip mass / area weighted combined for Rain Samples\n",
    "data = np.array([RC_01 , RC_02 , RC_03 , RC_04 , RC_05 , RC_06 , RC_07, RC_08, RC_09, RC_10])  # Isotope measurements\n",
    "weights1 = np.array([334.32, 328.422199, 298.616493, 367.6122, 262.759259, 482.840065, 269.239056, 568.247197, 424.304921, 472.136001])  # Precipitation accumulation weights\n",
    "weights2 = np.array([12.67, 72.09, 216.55, 256.55, 189.97, 116.28, 76.16, 53.81, 26.52, 8.91])  # Area weights\n",
    "\n",
    "# Calculate combined weights\n",
    "combined_weights = weights1 * weights2\n",
    "\n",
    "# Calculate doubly-weighted mean\n",
    "weighted_mean = np.average(data, weights=combined_weights)\n",
    "\n",
    "# Calculate weighted variance\n",
    "weighted_variance = (np.sum(combined_weights * (data - weighted_mean)**2) / np.sum(combined_weights)) * ((np.sum(combined_weights)**2)/((np.sum(combined_weights)**2)-np.sum(combined_weights**2)))\n",
    "neff = (np.sum(combined_weights) ** 2) / np.sum(combined_weights**2)\n",
    "standard_error = np.sqrt(weighted_variance / neff)\n",
    "\n",
    "print(\"Weighted Mean:\", weighted_mean)\n",
    "print(\"Standard Error:\", standard_error)"
   ]
  },
  {
   "cell_type": "markdown",
   "id": "65fdb4d2-00f2-4a52-846a-c3103f397658",
   "metadata": {},
   "source": [
    "## MC Site Area Contributions to total Watershed Area"
   ]
  },
  {
   "cell_type": "code",
   "execution_count": 15,
   "id": "20a98cc3-4106-4dcd-bb50-6275b9605737",
   "metadata": {},
   "outputs": [],
   "source": [
    "#Percent(fraction) Area = Elevation_Area / Total Area \n",
    "Total_Area_MCW = 1029 #km2\n",
    "farea_e1 = 19.19 / Total_Area_MCW\n",
    "farea_e2 = 85.74 / Total_Area_MCW\n",
    "farea_e3 = 240.31 / Total_Area_MCW\n",
    "farea_e4 = 249.38 / Total_Area_MCW\n",
    "farea_e5 = 174.54 / Total_Area_MCW\n",
    "farea_e6 = 108.94 / Total_Area_MCW\n",
    "farea_e7 = 70.72 / Total_Area_MCW\n",
    "farea_e8 = 51.36 / Total_Area_MCW\n",
    "farea_e9 = 22.23 / Total_Area_MCW\n",
    "farea_e10 = 6.64 / Total_Area_MCW"
   ]
  },
  {
   "cell_type": "code",
   "execution_count": 16,
   "id": "7659e476-2933-4969-8844-1e271bc0bcbf",
   "metadata": {},
   "outputs": [
    {
     "name": "stdout",
     "output_type": "stream",
     "text": [
      "The watershed reaches 50% of its area at site: 4\n",
      "Cumulative area at this point: 0.5778620019436347\n"
     ]
    }
   ],
   "source": [
    "fractional_areas = [\n",
    "    19.19 / Total_Area_MCW,   # Event 1\n",
    "    85.74 / Total_Area_MCW,   # Event 2\n",
    "    240.31 / Total_Area_MCW,  # Event 3\n",
    "    249.38 / Total_Area_MCW,  # Event 4\n",
    "    174.54 / Total_Area_MCW,  # Event 5\n",
    "    108.94 / Total_Area_MCW,  # Event 6\n",
    "    70.72 / Total_Area_MCW,   # Event 7\n",
    "    51.36 / Total_Area_MCW,   # Event 8\n",
    "    22.23 / Total_Area_MCW,   # Event 9\n",
    "    6.64 / Total_Area_MCW     # Event 10\n",
    "]\n",
    "# Calculate the cumulative sum of these areas\n",
    "cumulative_areas = np.cumsum(fractional_areas)\n",
    "\n",
    "# Find the point where cumulative sum exceeds or reaches 0.5 (50%)\n",
    "halfway_index = np.where(cumulative_areas >= 0.5)[0][0]  # Get the first index where this condition is met\n",
    "\n",
    "# Print out the results\n",
    "print(\"The watershed reaches 50% of its area at site:\", halfway_index + 1)  # +1 to adjust for zero-indexing\n",
    "print(\"Cumulative area at this point:\", cumulative_areas[halfway_index])"
   ]
  },
  {
   "cell_type": "raw",
   "id": "97265e92-31ee-4f69-b657-e1cb1b5e1548",
   "metadata": {},
   "source": [
    "Elevation Area (km^2)\n",
    "Rain in mm"
   ]
  },
  {
   "cell_type": "code",
   "execution_count": 17,
   "id": "1fc418e9-5a9e-4f23-a97e-408daac92e35",
   "metadata": {},
   "outputs": [
    {
     "name": "stdout",
     "output_type": "stream",
     "text": [
      "Area Weighted Rain [-12.79868425259475]\n",
      "Area Weighted Snow [-19.525825786705543]\n"
     ]
    }
   ],
   "source": [
    "# Elevation 1 % area * Weighted isotopes RC_01 + e+1 \n",
    "Area_weighted_Rain = [(RC_01 * farea_e1) + (RC_02 * farea_e2) +\n",
    "                      (RC_03 * farea_e3) + (RC_04 * farea_e4) + (RC_05 * farea_e5) +\n",
    "                      (RC_06 * farea_e6) + (RC_07 * farea_e7) + (RC_08 * farea_e8)+\n",
    "                      (RC_09 * farea_e9) + (RC_10 * farea_e10)]\n",
    "\n",
    "Area_weighted_Snow = [(IB_01 * farea_e1) + (IB_02 * farea_e2) +\n",
    "                      (IB_03 * farea_e3) + (IB_04 * farea_e4) + (IB_05 * farea_e5) +\n",
    "                      (IB_06 * farea_e6) + (IB_07 * farea_e7) + (IB_08 * farea_e8)+\n",
    "                      (IB_09 * farea_e9) + (IB_10 * farea_e10)]\n",
    "\n",
    "print('Area Weighted Rain', Area_weighted_Rain)\n",
    "print('Area Weighted Snow', Area_weighted_Snow)"
   ]
  },
  {
   "cell_type": "markdown",
   "id": "ce97d4b6-9c42-4097-9860-94385637ecbc",
   "metadata": {},
   "source": [
    "### BC Area"
   ]
  },
  {
   "cell_type": "code",
   "execution_count": 18,
   "id": "f12289c3-3d0e-40fc-941b-17ec77272881",
   "metadata": {},
   "outputs": [],
   "source": [
    "# elevation area km^2\n",
    "# Sum = 17.7 is this what proposal says? \n",
    "bc_area2 = 0.21\n",
    "bc_area3 = 2.63\n",
    "bc_area4 = 6.98\n",
    "bc_area5 = 4.5\n",
    "bc_area6 = 2.22\n",
    "bc_area7 = 1.01\n",
    "bc_area8 = 0.12"
   ]
  },
  {
   "cell_type": "code",
   "execution_count": 19,
   "id": "8c100218-4008-4d72-96ab-a3747b873770",
   "metadata": {},
   "outputs": [
    {
     "name": "stdout",
     "output_type": "stream",
     "text": [
      "The region reaches 50% of its total area at index: 4\n",
      "Cumulative area at this point: 0.5557441992076967\n"
     ]
    }
   ],
   "source": [
    "# Define the areas for each region\n",
    "areas = np.array([0.21, 2.63, 6.98, 4.5, 2.22, 1.01, 0.12])\n",
    "\n",
    "# Calculate the total area\n",
    "total_area = areas.sum()\n",
    "\n",
    "# Calculate the fractional areas for each region\n",
    "fractional_areas = areas / total_area\n",
    "\n",
    "# Calculate the cumulative sum of these fractional areas\n",
    "cumulative_areas = np.cumsum(fractional_areas)\n",
    "\n",
    "# Find the point where cumulative sum exceeds or reaches 0.5 (50%)\n",
    "halfway_index = np.where(cumulative_areas >= 0.5)[0][0]  # Get the first index where this condition is met\n",
    "\n",
    "# Print out the results\n",
    "print(\"The region reaches 50% of its total area at index:\", halfway_index + 2)  # +2 to match region naming (starting from bc_area2)\n",
    "print(\"Cumulative area at this point:\", cumulative_areas[halfway_index])"
   ]
  },
  {
   "cell_type": "code",
   "execution_count": 20,
   "id": "c10631bf-2ad7-4125-9851-dbe7d4322e02",
   "metadata": {},
   "outputs": [
    {
     "name": "stdout",
     "output_type": "stream",
     "text": [
      "The area-weighted total precipitation in BCRain is 340.390827073005 mm.\n"
     ]
    }
   ],
   "source": [
    "# BC Areas of the 2-8 elevations in square kilometers\n",
    "bc_areas = [0.21, 2.63, 6.98, 4.5, 2.22, 1.01,0.12]\n",
    "\n",
    "# Precipitation in each area in mm\n",
    "bc_precipitations = [328.422199, 298.616493, 367.6122, 262.759259, 482.840065, 269.239056, 568.247197]\n",
    "\n",
    "# First, we convert the precipitation to volume (since 1mm rainfall = 1m^3 of water per 1km^2)\n",
    "#calculating precip volume for each elevation\n",
    "bc_volumes = [area * precipitation for area, precipitation in zip(bc_areas, bc_precipitations)]\n",
    "\n",
    "# Then, we sum up the volumes and divide by the total area to get the area-weighted precipitation\n",
    "bc_total_area = sum(areas)\n",
    "bc_total_precipitation = sum(bc_volumes) / bc_total_area  # No need to convert back to mm\n",
    "\n",
    "print(f\"The area-weighted total precipitation in BCRain is {bc_total_precipitation} mm.\")"
   ]
  },
  {
   "cell_type": "code",
   "execution_count": 21,
   "id": "e4b61c30-6614-43aa-a7b6-029aa4c92199",
   "metadata": {},
   "outputs": [
    {
     "name": "stdout",
     "output_type": "stream",
     "text": [
      "The area-weighted total precipitation in BC snow is 508.6097469513299 mm.\n"
     ]
    }
   ],
   "source": [
    "# BC Areas of the 2-8 elevations in square kilometers\n",
    "areas = [0.21, 2.63, 6.98, 4.5, 2.22, 1.01,0.12]\n",
    "\n",
    "# Precipitation in each area in mm (IB 2-8)\n",
    "precipitations = [260.923149, 224.600441, 322.325984, 832.765625, 624.480625, 875.439823, 615.160983]\n",
    "\n",
    "# First, we convert the precipitation to volume (since 1mm rainfall = 1m^3 of water per 1km^2)\n",
    "#calculating precip volume for each elevation\n",
    "volumes = [area * precipitation for area, precipitation in zip(areas, precipitations)]\n",
    "\n",
    "# Then, we sum up the volumes and divide by the total area to get the area-weighted precipitation\n",
    "total_area = sum(areas)\n",
    "total_precipitation = sum(volumes) / total_area  # No need to convert back to mm\n",
    "\n",
    "print(f\"The area-weighted total precipitation in BC snow is {total_precipitation} mm.\")"
   ]
  },
  {
   "cell_type": "markdown",
   "id": "f9c7a957-a6f4-44f3-81ff-864903c4de17",
   "metadata": {},
   "source": [
    "### fraction 2"
   ]
  },
  {
   "cell_type": "code",
   "execution_count": 22,
   "id": "f6117e79-1ae0-4a17-8f7f-031a61083020",
   "metadata": {},
   "outputs": [],
   "source": [
    "#Percent(fraction) Area = Elevation_Area / Total Area \n",
    "Total_Area_BCW = 17.1 #km2\n",
    "fbc_area2 = 0.21 / Total_Area_BCW\n",
    "fbc_area3 = 2.63 / Total_Area_BCW\n",
    "fbc_area4 = 6.98 / Total_Area_BCW\n",
    "fbc_area5 = 4.5 / Total_Area_BCW\n",
    "fbc_area6 = 2.22 / Total_Area_BCW\n",
    "fbc_area7 = 1.01 / Total_Area_BCW\n",
    "fbc_area8 = 0.12 / Total_Area_BCW"
   ]
  },
  {
   "cell_type": "code",
   "execution_count": 23,
   "id": "8b57909b-8c2f-40a0-9ae9-b810c009ccb3",
   "metadata": {},
   "outputs": [
    {
     "name": "stdout",
     "output_type": "stream",
     "text": [
      "BC Area Weighted Rain [-12.76064403976608]\n",
      "BC Area Weighted Snow [-20.513157675438595]\n"
     ]
    }
   ],
   "source": [
    "# Elevation 1 % area * Weighted isotopes RC_01 + e+1 \n",
    "Area_weighted_Rain = [(RC_02 * fbc_area2) + (RC_03 * fbc_area3) +\n",
    "                      (RC_04 * fbc_area4) + (RC_05 * fbc_area5) +\n",
    "                      (RC_06 * fbc_area6) + (RC_07 * fbc_area7) + (RC_08 * fbc_area8)]\n",
    "\n",
    "Area_weighted_Snow = [(IB_02 * fbc_area2) + (IB_03 * fbc_area3) +\n",
    "                      (IB_04 * fbc_area4) + (IB_05 * fbc_area5) +\n",
    "                      (IB_06 * fbc_area6) + (IB_07 * fbc_area7) + (IB_08 * fbc_area8)]\n",
    "\n",
    "print('BC Area Weighted Rain', Area_weighted_Rain)\n",
    "print('BC Area Weighted Snow', Area_weighted_Snow)"
   ]
  },
  {
   "cell_type": "code",
   "execution_count": 24,
   "id": "2a1ef695-7b6e-4433-bd36-2b33b96e9164",
   "metadata": {},
   "outputs": [
    {
     "name": "stdout",
     "output_type": "stream",
     "text": [
      "Weighted Mean: -20.123191626444804\n",
      "Standard Error Snow: 0.4234131411094934\n"
     ]
    }
   ],
   "source": [
    "#SE BC \n",
    "data = np.array([IB_02 , IB_03 , IB_04 , IB_05 , IB_06 , IB_07, IB_08])  # Isotope measurements\n",
    "weights1 = np.array([260.923149, 224.600441, 322.325984, 832.765625, 624.480625, 875.439823, 615.160983])  # Precipitation accumulation weights\n",
    "weights2 = np.array([0.21, 2.63, 6.98, 4.5, 2.22, 1.01,0.12])  # Area weights\n",
    "\n",
    "# Calculate combined weights\n",
    "combined_weights = weights1 * weights2\n",
    "\n",
    "# Calculate doubly-weighted mean\n",
    "weighted_mean = np.average(data, weights=combined_weights)\n",
    "\n",
    "# Calculate weighted variance\n",
    "weighted_variance = (np.sum(combined_weights * (data - weighted_mean)**2) / np.sum(combined_weights)) * ((np.sum(combined_weights)**2)/((np.sum(combined_weights)**2)-np.sum(combined_weights**2)))\n",
    "neff = (np.sum(combined_weights) ** 2) / np.sum(combined_weights**2)\n",
    "standard_error = np.sqrt(weighted_variance / neff)\n",
    "\n",
    "print(\"Weighted Mean:\", weighted_mean)\n",
    "print(\"Standard Error Snow:\", standard_error)"
   ]
  },
  {
   "cell_type": "code",
   "execution_count": 25,
   "id": "b59cd935-ef02-4c12-a4f0-af1ba207fd0c",
   "metadata": {},
   "outputs": [
    {
     "name": "stdout",
     "output_type": "stream",
     "text": [
      "Weighted Mean: -12.376250045286742\n",
      "Standard Error Rain: 0.5636903093232445\n"
     ]
    }
   ],
   "source": [
    "# SE BC Rain\n",
    "data = np.array([RC_02 , RC_03 , RC_04 , RC_05 , RC_06 , RC_07, RC_08])  # Isotope measurements\n",
    "weights1 = np.array([328.422199, 298.616493, 367.6122, 262.759259, 482.840065, 269.239056, 568.247197])  # Precipitation accumulation weights\n",
    "weights2 = np.array([0.21, 2.63, 6.98, 4.5, 2.22, 1.01,0.12])  # Area weights\n",
    "\n",
    "# Calculate combined weights\n",
    "combined_weights = weights1 * weights2\n",
    "\n",
    "# Calculate doubly-weighted mean\n",
    "weighted_mean = np.average(data, weights=combined_weights)\n",
    "\n",
    "# Calculate weighted variance\n",
    "weighted_variance = (np.sum(combined_weights * (data - weighted_mean)**2) / np.sum(combined_weights)) * ((np.sum(combined_weights)**2)/((np.sum(combined_weights)**2)-np.sum(combined_weights**2)))\n",
    "neff = (np.sum(combined_weights) ** 2) / np.sum(combined_weights**2)\n",
    "standard_error = np.sqrt(weighted_variance / neff)\n",
    "\n",
    "print(\"Weighted Mean:\", weighted_mean)\n",
    "print(\"Standard Error Rain:\", standard_error)"
   ]
  },
  {
   "cell_type": "code",
   "execution_count": 26,
   "id": "099f75f8-3b1e-48ad-862d-77a4a2b533d4",
   "metadata": {},
   "outputs": [
    {
     "data": {
      "text/html": [
       "<div>\n",
       "<style scoped>\n",
       "    .dataframe tbody tr th:only-of-type {\n",
       "        vertical-align: middle;\n",
       "    }\n",
       "\n",
       "    .dataframe tbody tr th {\n",
       "        vertical-align: top;\n",
       "    }\n",
       "\n",
       "    .dataframe thead th {\n",
       "        text-align: right;\n",
       "    }\n",
       "</style>\n",
       "<table border=\"1\" class=\"dataframe\">\n",
       "  <thead>\n",
       "    <tr style=\"text-align: right;\">\n",
       "      <th></th>\n",
       "      <th>snow</th>\n",
       "      <th>rain</th>\n",
       "      <th>s_plus_rain</th>\n",
       "      <th>site</th>\n",
       "      <th>total</th>\n",
       "      <th>elevation</th>\n",
       "      <th>area</th>\n",
       "      <th>perc_area</th>\n",
       "      <th>bc_area</th>\n",
       "      <th>bc_perc_area</th>\n",
       "    </tr>\n",
       "  </thead>\n",
       "  <tbody>\n",
       "    <tr>\n",
       "      <th>0</th>\n",
       "      <td>168.6</td>\n",
       "      <td>334.3</td>\n",
       "      <td>502.9</td>\n",
       "      <td>1</td>\n",
       "      <td>502.9</td>\n",
       "      <td>922</td>\n",
       "      <td>19.19</td>\n",
       "      <td>0.018649</td>\n",
       "      <td>0.000</td>\n",
       "      <td>0.000000</td>\n",
       "    </tr>\n",
       "    <tr>\n",
       "      <th>1</th>\n",
       "      <td>260.9</td>\n",
       "      <td>328.4</td>\n",
       "      <td>589.3</td>\n",
       "      <td>2</td>\n",
       "      <td>589.3</td>\n",
       "      <td>1160</td>\n",
       "      <td>85.74</td>\n",
       "      <td>0.083324</td>\n",
       "      <td>0.210</td>\n",
       "      <td>0.012281</td>\n",
       "    </tr>\n",
       "    <tr>\n",
       "      <th>2</th>\n",
       "      <td>224.6</td>\n",
       "      <td>298.6</td>\n",
       "      <td>523.2</td>\n",
       "      <td>3</td>\n",
       "      <td>523.2</td>\n",
       "      <td>1266</td>\n",
       "      <td>240.31</td>\n",
       "      <td>0.233537</td>\n",
       "      <td>2.630</td>\n",
       "      <td>0.153801</td>\n",
       "    </tr>\n",
       "    <tr>\n",
       "      <th>3</th>\n",
       "      <td>322.3</td>\n",
       "      <td>367.6</td>\n",
       "      <td>689.9</td>\n",
       "      <td>4</td>\n",
       "      <td>689.9</td>\n",
       "      <td>1455</td>\n",
       "      <td>249.38</td>\n",
       "      <td>0.242352</td>\n",
       "      <td>6.980</td>\n",
       "      <td>0.408187</td>\n",
       "    </tr>\n",
       "    <tr>\n",
       "      <th>4</th>\n",
       "      <td>832.8</td>\n",
       "      <td>262.8</td>\n",
       "      <td>1095.6</td>\n",
       "      <td>5</td>\n",
       "      <td>1095.5</td>\n",
       "      <td>1755</td>\n",
       "      <td>174.54</td>\n",
       "      <td>0.169621</td>\n",
       "      <td>4.500</td>\n",
       "      <td>0.263158</td>\n",
       "    </tr>\n",
       "    <tr>\n",
       "      <th>5</th>\n",
       "      <td>624.5</td>\n",
       "      <td>482.8</td>\n",
       "      <td>1107.3</td>\n",
       "      <td>6</td>\n",
       "      <td>1107.3</td>\n",
       "      <td>1780</td>\n",
       "      <td>108.94</td>\n",
       "      <td>0.105870</td>\n",
       "      <td>2.220</td>\n",
       "      <td>0.129825</td>\n",
       "    </tr>\n",
       "    <tr>\n",
       "      <th>6</th>\n",
       "      <td>875.4</td>\n",
       "      <td>269.2</td>\n",
       "      <td>1144.6</td>\n",
       "      <td>7</td>\n",
       "      <td>1144.7</td>\n",
       "      <td>1860</td>\n",
       "      <td>70.72</td>\n",
       "      <td>0.068727</td>\n",
       "      <td>1.010</td>\n",
       "      <td>0.059064</td>\n",
       "    </tr>\n",
       "    <tr>\n",
       "      <th>7</th>\n",
       "      <td>615.2</td>\n",
       "      <td>568.2</td>\n",
       "      <td>1183.4</td>\n",
       "      <td>8</td>\n",
       "      <td>1183.4</td>\n",
       "      <td>2036</td>\n",
       "      <td>51.36</td>\n",
       "      <td>0.049913</td>\n",
       "      <td>0.012</td>\n",
       "      <td>0.000702</td>\n",
       "    </tr>\n",
       "    <tr>\n",
       "      <th>8</th>\n",
       "      <td>773.4</td>\n",
       "      <td>424.3</td>\n",
       "      <td>1197.7</td>\n",
       "      <td>9</td>\n",
       "      <td>1197.7</td>\n",
       "      <td>2145</td>\n",
       "      <td>22.23</td>\n",
       "      <td>0.021603</td>\n",
       "      <td>0.000</td>\n",
       "      <td>0.000000</td>\n",
       "    </tr>\n",
       "    <tr>\n",
       "      <th>9</th>\n",
       "      <td>857.2</td>\n",
       "      <td>472.1</td>\n",
       "      <td>1329.3</td>\n",
       "      <td>10</td>\n",
       "      <td>1329.3</td>\n",
       "      <td>2316</td>\n",
       "      <td>6.64</td>\n",
       "      <td>0.006453</td>\n",
       "      <td>0.000</td>\n",
       "      <td>0.000000</td>\n",
       "    </tr>\n",
       "  </tbody>\n",
       "</table>\n",
       "</div>"
      ],
      "text/plain": [
       "    snow   rain  s_plus_rain  site   total  elevation    area  perc_area  \\\n",
       "0  168.6  334.3        502.9     1   502.9        922   19.19   0.018649   \n",
       "1  260.9  328.4        589.3     2   589.3       1160   85.74   0.083324   \n",
       "2  224.6  298.6        523.2     3   523.2       1266  240.31   0.233537   \n",
       "3  322.3  367.6        689.9     4   689.9       1455  249.38   0.242352   \n",
       "4  832.8  262.8       1095.6     5  1095.5       1755  174.54   0.169621   \n",
       "5  624.5  482.8       1107.3     6  1107.3       1780  108.94   0.105870   \n",
       "6  875.4  269.2       1144.6     7  1144.7       1860   70.72   0.068727   \n",
       "7  615.2  568.2       1183.4     8  1183.4       2036   51.36   0.049913   \n",
       "8  773.4  424.3       1197.7     9  1197.7       2145   22.23   0.021603   \n",
       "9  857.2  472.1       1329.3    10  1329.3       2316    6.64   0.006453   \n",
       "\n",
       "   bc_area  bc_perc_area  \n",
       "0    0.000      0.000000  \n",
       "1    0.210      0.012281  \n",
       "2    2.630      0.153801  \n",
       "3    6.980      0.408187  \n",
       "4    4.500      0.263158  \n",
       "5    2.220      0.129825  \n",
       "6    1.010      0.059064  \n",
       "7    0.012      0.000702  \n",
       "8    0.000      0.000000  \n",
       "9    0.000      0.000000  "
      ]
     },
     "execution_count": 26,
     "metadata": {},
     "output_type": "execute_result"
    }
   ],
   "source": [
    "# Mores Creek Area\n",
    "sum = pd.read_csv('../Data/19.precip_accum_site_metrics.csv')\n",
    "sum['area'] = [19.19,85.74,240.31,249.38,174.54,108.94,\n",
    "                    70.72,51.36, 22.23,6.64]\n",
    "\n",
    "total_area =  1029 #km2\n",
    "sum['perc_area'] = sum['area'] / total_area\n",
    "\n",
    "Total_Area_BCW = 17.1 #km2\n",
    "sum['bc_area'] = [0,0.21, 2.63, 6.98, 4.5, 2.22, 1.01, .012,0,0]\n",
    "sum['bc_perc_area'] = sum['bc_area'] / Total_Area_BCW\n",
    "sum"
   ]
  },
  {
   "cell_type": "code",
   "execution_count": 27,
   "id": "b1c8f085-21b1-4128-8c35-b07f3d45ac14",
   "metadata": {},
   "outputs": [
    {
     "data": {
      "text/plain": [
       "<matplotlib.legend.Legend at 0x27bcfb71e80>"
      ]
     },
     "execution_count": 27,
     "metadata": {},
     "output_type": "execute_result"
    },
    {
     "data": {
      "image/png": "[encoded data removed]",
      "text/plain": [
       "<Figure size 640x480 with 2 Axes>"
      ]
     },
     "metadata": {},
     "output_type": "display_data"
    }
   ],
   "source": [
    "# Number of bars and colors\n",
    "num_bars = len(sum.perc_area)\n",
    "colors = plt.cm.viridis(np.linspace(0, 1, num_bars))\n",
    "\n",
    "# Generate geometrically spaced elevation values\n",
    "elevation_values = np.geomspace(sum['elevation'].min(), sum['elevation'].max(), num_bars)\n",
    "\n",
    "# Calculate the width of each bar\n",
    "bar_width = (elevation_values[1] - elevation_values[0]) * 0.8  # Adjust the multiplier as needed\n",
    "\n",
    "# Initialize bottom values for stacking\n",
    "bottom_values_snow = np.zeros_like(elevation_values)\n",
    "bottom_values_rain = np.zeros_like(elevation_values)\n",
    "\n",
    "# Lists to store legend handles and labels\n",
    "handles_rain_snow = []\n",
    "\n",
    "# Plot stacked bars with different colors for rain and snow\n",
    "for i, elevation in enumerate(elevation_values):\n",
    "    bar_rain = plt.bar(elevation, sum['s_plus_rain'].iloc[i], width=bar_width, color='darkred', label='Rain' if i == 0 else None, bottom=bottom_values_rain[i])\n",
    "    bar_snow = plt.bar(elevation, sum['snow'].iloc[i], width=bar_width, color='steelblue', label='Snow' if i == 0 else None, bottom=bottom_values_snow[i])\n",
    "\n",
    "    # Update bottom values for the next iteration\n",
    "    bottom_values_rain[i] += sum['s_plus_rain'].iloc[i]\n",
    "    bottom_values_snow[i] += sum['snow'].iloc[i]\n",
    "    \n",
    "    # Append the legend handles for rain and snow\n",
    "    if i == 0:\n",
    "        handles_rain_snow.extend([bar_rain, bar_snow])\n",
    "    \n",
    "for i, elevation in enumerate(elevation_values):\n",
    "    # Height of the bar\n",
    "    height_rain = sum['s_plus_rain'].iloc[i]\n",
    "    # Add labels inside the bars\n",
    "    text = plt.text(elevation- .2, height_rain -1, str(i+1), va='top', ha='center',color='black', fontsize=10, fontweight='bold')\n",
    "    text.set_path_effects([patheffects.withStroke(linewidth=1, foreground='white')])\n",
    "    \n",
    "plt.ylabel('MCW Total Precipitation (mm)', fontsize=14)\n",
    "plt.xlabel('Elevation',fontsize=14)\n",
    "plt.tick_params(axis='both', which='major', labelsize=12)\n",
    "\n",
    "# Create a secondary y-axis for % watershed area\n",
    "ax2 = plt.gca().twinx()\n",
    "line_perc_area = ax2.plot(elevation_values, sum.perc_area, color='darkgray', marker='o', linestyle='-')\n",
    "\n",
    "#bannock Creek: remove dots for area with zero elevation contribution\n",
    "bc_perc = np.array(sum.bc_perc_area)\n",
    "elevs = np.array(elevation_values)\n",
    "\n",
    "# Filter out zero values\n",
    "mask = bc_perc != 0\n",
    "lpa = ax2.plot(elevs[mask], bc_perc[mask], color='black', marker='o', linestyle='-')\n",
    "ax2.set_ylabel('% Watershed Area',fontsize=14)\n",
    "ax2.tick_params(axis='both', which='major', labelsize=12)\n",
    "# Combine legends\n",
    "handles, labels = plt.gca().get_legend_handles_labels()\n",
    "handles.extend(handles_rain_snow + line_perc_area + lpa)\n",
    "labels.extend([\"Rain\", \"Snow\"] + [\"% MCW Area\"] + ['% BCW Area'])\n",
    "plt.legend(handles, labels, loc='upper left', bbox_to_anchor=(1.15, 1),fontsize=12)"
   ]
  },
  {
   "cell_type": "markdown",
   "id": "1136ead6-e1a8-4a20-8fd7-36fb3f489243",
   "metadata": {},
   "source": [
    "# 2. Sine Curve amount-weighted, annual precipitation δ18O values"
   ]
  },
  {
   "cell_type": "markdown",
   "id": "9e0cbdb3-9c98-4b23-9191-d9d3a0801ff8",
   "metadata": {},
   "source": [
    "### MCW Sine Curve Fitting"
   ]
  },
  {
   "cell_type": "code",
   "execution_count": 28,
   "id": "b353f892-41b7-4273-869c-99723d70257a",
   "metadata": {},
   "outputs": [],
   "source": [
    "# Summer Peak and Winter Trough Values: Sine Curve Fitting\n",
    "c1 = -19.15\n",
    "w1= -7.60\n",
    "\n",
    "c2= -19.16\n",
    "w2= -8.07\n",
    "\n",
    "c3= -19.79\n",
    "w3= -8.05\n",
    "\n",
    "c4= -19.76\n",
    "w4= -8.52\n",
    "\n",
    "c5= -20.57\n",
    "w5= -9.23\n",
    "\n",
    "c6= -19.61\n",
    "w6= -9.85\n",
    "\n",
    "c7= -20.79\n",
    "w7= -9.47\n",
    "\n",
    "c8= -19.10\n",
    "w8= -11.72\n",
    "\n",
    "c9= -19.18\n",
    "w9= -12.33\n",
    "\n",
    "c10= -19.63\n",
    "w10= -12.70"
   ]
  },
  {
   "cell_type": "code",
   "execution_count": 29,
   "id": "56a46f68-83a6-488d-8156-98603c6a77b5",
   "metadata": {},
   "outputs": [],
   "source": [
    "# Precip accum for Cold vs Warm: Sine Curve fitting \n",
    "#recalculated using WRF 5/13/2024\n",
    "pc1 = 404.83\n",
    "pw1 = 97.82\n",
    "one_totalP = 502.65\n",
    "\n",
    "pc2 = 488.64 \n",
    "pw2 = 100.7\n",
    "two_totalP = 589.34\n",
    "\n",
    "pc3 = 440.67\n",
    "pw3 = 82.55\n",
    "three_totalP = 523.22\n",
    "\n",
    "pc4 = 526.94\n",
    "pw4 = 119.31\n",
    "four_totalP = 646.25\n",
    "\n",
    "pc5 = 769.03\n",
    "pw5 = 145.65\n",
    "five_totalP = 914.68\n",
    "\n",
    "pc6 = 890.18\n",
    "pw6 = 163.52\n",
    "six_totalP = 1053.7\n",
    "\n",
    "pc7 = 984.61\n",
    "pw7 = 104.22\n",
    "seven_totalP = 1088.83\n",
    "\n",
    "pc8 = 956.78\n",
    "pw8 = 162.12\n",
    "eight_totalP = 1118.89\n",
    "\n",
    "pc9 = 994.11\n",
    "pw9 = 203.58\n",
    "nine_totalP = 1197.69\n",
    "\n",
    "pc10 = 1009.54\n",
    "pw10 = 319.79\n",
    "ten_totalP = 1329.33\n",
    "\n",
    "Sum_w_P = pw1 + pw2 + pw3 + pw4 + pw5 + pw6 + pw7 + pw8 + pw9 + pw10\n",
    "Sum_c_P = pc1 + pc2 + pc3 + pc4 + pc5 + pc6 + pc7 + pc8 + pc9 + pc10"
   ]
  },
  {
   "cell_type": "code",
   "execution_count": 30,
   "id": "d05ef7cb-7a0e-4de0-8790-cf7d45152f45",
   "metadata": {},
   "outputs": [
    {
     "name": "stdout",
     "output_type": "stream",
     "text": [
      "Sine Mass Weight Warm -10.438906794018383\n",
      "Sine Mass Weight cold -19.495117697409228\n"
     ]
    }
   ],
   "source": [
    "#equation for samples these are mass weighted by season instead of by individual precip event \n",
    "#Testing multiple ways to get weight: 1. divide by the total sums 2. dividing by the average precipiation \n",
    "1. \n",
    "# (RC_01 sample D18O * RC_01 precip accum event) / total RC_01 event\n",
    "warm_sine = ((w1 * pw1) + (w2 * pw2) + (w3 * pw3) + (w4 * pw4) + (w5 * pw5) + (w6 * pw6) + (w7 * pw7) + (w8 * pw8) + (w9 * pw9) + (w10 * pw10)) / (Sum_w_P)\n",
    "print('Sine Mass Weight Warm', warm_sine)\n",
    "\n",
    "cold_sine = ((c1 * pc1) + (c2 * pc2) + (c3 * pc3) + (c4 * pc4) + (c5 * pc5) + (c6 * pc6) + (c1 * pc7) + (c8 * pc8) + (c9 * pc9) + (c10 * pc10)) / (Sum_c_P)\n",
    "print('Sine Mass Weight cold', cold_sine)"
   ]
  },
  {
   "cell_type": "code",
   "execution_count": 31,
   "id": "fbe4c77c-2c7e-417c-9647-8bc00df76c92",
   "metadata": {},
   "outputs": [
    {
     "name": "stdout",
     "output_type": "stream",
     "text": [
      "Warm Weighted Mean: -10.438906794018383\n",
      "Warm Weighted Variance: 3.9867575185988877\n",
      "Warm neff: 8.33850115258314\n",
      "Warm SE Weighted Mean: 0.6914581731187124\n",
      "higher unercertainty b/c of uneven weight distribution, one of the weights holds all of the power\n"
     ]
    }
   ],
   "source": [
    "2.\n",
    "#SE for AM7 weighted Sine for warm season PRECIP\n",
    "#AM7 weighted seasons only convert standard error from sine curve to a percet. \n",
    "y = np.array([w1,w2,w3,w4,w5,w6,w7,w8,w9,w10])  # isotopic measurements\n",
    "w = np.array([pw1, pw2, pw3, pw4, pw5,pw6,pw7, pw8, pw9, pw10])  # weights (precip accum)\n",
    "\n",
    "# Calculate weighted average\n",
    "# eq 4\n",
    "yw = np.sum(w * y) / np.sum(w)\n",
    "\n",
    "# Calculate weighted variance\n",
    "# eq 8\n",
    "var_w = (np.sum(w * (y - yw) ** 2) / np.sum(w)) * ((np.sum(w)**2)/ ((np.sum(w)**2)-np.sum(w**2)))\n",
    "\n",
    "# Calculate effective sample size\n",
    "# eq 6\n",
    "n_eff = (np.sum(w) ** 2) / np.sum(w ** 2)\n",
    "\n",
    "# Calculate standard error of the weighted mean\n",
    "# eq 5\n",
    "se_yw_c = np.sqrt(var_w / n_eff)\n",
    "\n",
    "print(\"Warm Weighted Mean:\", yw)\n",
    "print(\"Warm Weighted Variance:\", var_w)\n",
    "print(\"Warm neff:\", n_eff)\n",
    "print(\"Warm SE Weighted Mean:\", se_yw_c)\n",
    "print('higher unercertainty b/c of uneven weight distribution, one of the weights holds all of the power')"
   ]
  },
  {
   "cell_type": "code",
   "execution_count": 32,
   "id": "349c369a-3a54-4bd3-95c7-489836ba085f",
   "metadata": {},
   "outputs": [
    {
     "name": "stdout",
     "output_type": "stream",
     "text": [
      "Cold Weighted Mean: -19.711418972771465\n",
      "Cold Weighted Variance: 0.398519431210903\n",
      "Cold neff: 9.06101784279651\n",
      "Cold SE Weighted Mean: 0.2097182659448261\n"
     ]
    }
   ],
   "source": [
    "#SE for AM7 weighted Sine for cold season PRECIP\n",
    "#AM7 weighted seasons only convert standard error from sine curve to a percet. \n",
    "y = np.array([c1,c2,c3,c4,c5,c6,c7,c8,c9,c10])  # isotopic measurements\n",
    "w = np.array([pc1,pc2,pc3,pc4,pc5,pc6,pc7,pc8,pc9,pc10])  # weights (precip accum)\n",
    "\n",
    "# Calculate weighted average\n",
    "# eq 4\n",
    "yw = np.sum(w * y) / np.sum(w)\n",
    "\n",
    "# Calculate weighted variance\n",
    "# eq 8\n",
    "var_w = (np.sum(w * (y - yw) ** 2) / np.sum(w)) * ((np.sum(w)**2)/ ((np.sum(w)**2)-np.sum(w**2)))\n",
    "\n",
    "# Calculate effective sample size\n",
    "# eq 6\n",
    "n_eff = (np.sum(w) ** 2) / np.sum(w ** 2)\n",
    "\n",
    "# Calculate standard error of the weighted mean\n",
    "# eq 5\n",
    "se_yw_c = np.sqrt(var_w / n_eff)\n",
    "\n",
    "print(\"Cold Weighted Mean:\", yw)\n",
    "print(\"Cold Weighted Variance:\", var_w)\n",
    "print(\"Cold neff:\", n_eff)\n",
    "print(\"Cold SE Weighted Mean:\", se_yw_c)"
   ]
  },
  {
   "cell_type": "code",
   "execution_count": 33,
   "id": "fee7747f-5aaa-468e-90e1-8ce232fe1a14",
   "metadata": {},
   "outputs": [
    {
     "name": "stdout",
     "output_type": "stream",
     "text": [
      "Area Weighted Sine Warm [-8.95152925170068]\n",
      "Area Weighted Sine Cold [-19.85258620019436]\n"
     ]
    }
   ],
   "source": [
    "# Elevation 1 % area \n",
    "#Area weighted not mass weighted \n",
    "Area_weighted_SineWarm = [(w1 * farea_e1) + (w2 * farea_e2) +\n",
    "                      (w3 * farea_e3) + (w4 * farea_e4) + (w5 * farea_e5) +\n",
    "                      (w6 * farea_e6) + (w7 * farea_e7) + (w8 * farea_e8)+\n",
    "                      (w9 * farea_e9) + (w10 * farea_e10)]\n",
    "\n",
    "Area_weighted_SineCold = [(c1 * farea_e1) + (c2 * farea_e2) +\n",
    "                      (c3 * farea_e3) + (c4 * farea_e4) + (c5 * farea_e5) +\n",
    "                      (c6 * farea_e6) + (c7 * farea_e7) + (c8 * farea_e8)+\n",
    "                      (c9 * farea_e9) + (c10 * farea_e10)]\n",
    "\n",
    "print('Area Weighted Sine Warm', Area_weighted_SineWarm)\n",
    "print('Area Weighted Sine Cold', Area_weighted_SineCold)"
   ]
  },
  {
   "cell_type": "code",
   "execution_count": 34,
   "id": "3124adab-2fb5-4c30-ab85-67715aab82e8",
   "metadata": {},
   "outputs": [
    {
     "name": "stdout",
     "output_type": "stream",
     "text": [
      "Warm Weighted Mean: -8.951094310286187\n",
      "Warm Weighted Variance: 1.407387351169056\n",
      "Warm neff: 5.943498431368458\n",
      "Warm SE Weighted Mean: 0.4866152840750358\n",
      "all the weight is in RC_01\n"
     ]
    }
   ],
   "source": [
    "# SE for AM8 weighted Sine for warm season PRECIP \n",
    "# weights are the same for both seasons\n",
    "y = np.array([w1,w2,w3,w4,w5,w6,w7,w8,w9,w10])  # isotopic measurements\n",
    "w = np.array([farea_e1, farea_e2, farea_e3, farea_e4,\n",
    "              farea_e5, farea_e6,farea_e7,\n",
    "              farea_e8, farea_e9, farea_e10])  # weights (elevation area fraction)\n",
    "\n",
    "# Calculate weighted average\n",
    "# eq 4\n",
    "yw = np.sum(w * y) / np.sum(w)\n",
    "\n",
    "# Calculate weighted variance\n",
    "# eq 8\n",
    "var_w = (np.sum(w * (y - yw) ** 2) / np.sum(w)) * ((np.sum(w)**2)/ ((np.sum(w)**2)-np.sum(w**2)))\n",
    "\n",
    "# Calculate effective sample size\n",
    "# eq 6\n",
    "n_eff = (np.sum(w) ** 2) / np.sum(w ** 2)\n",
    "\n",
    "# Calculate standard error of the weighted mean\n",
    "# eq 5\n",
    "se_yw_c = np.sqrt(var_w / n_eff)\n",
    "\n",
    "print(\"Warm Weighted Mean:\", yw)\n",
    "print(\"Warm Weighted Variance:\", var_w)\n",
    "print(\"Warm neff:\", n_eff)\n",
    "print(\"Warm SE Weighted Mean:\", se_yw_c)\n",
    "print(\"all the weight is in RC_01\")"
   ]
  },
  {
   "cell_type": "code",
   "execution_count": 35,
   "id": "7c840adc-0d8e-4344-a27c-d701bc3ce603",
   "metadata": {},
   "outputs": [
    {
     "name": "stdout",
     "output_type": "stream",
     "text": [
      "Cold Weighted Mean: -19.851621592731163\n",
      "Cold Weighted Variance: 0.2938872488650235\n",
      "Cold neff: 5.943498431368458\n",
      "Cold SE Weighted Mean: 0.22236646674710683\n"
     ]
    }
   ],
   "source": [
    "#SE for AM8 weighted Sine for cold season PRECIP \n",
    "y = np.array([c1,c2,c3,c4,c5,c6,c7,c8,c9,c10])  # isotopic measurements\n",
    "w = np.array([farea_e1, farea_e2, farea_e3, farea_e4,\n",
    "              farea_e5, farea_e6,farea_e7,\n",
    "              farea_e8, farea_e9, farea_e10])  # weights (elevation area fraction)\n",
    "# Calculate weighted average\n",
    "# eq 4\n",
    "yw = np.sum(w * y) / np.sum(w)\n",
    "\n",
    "# Calculate weighted variance\n",
    "# eq 8\n",
    "var_w = (np.sum(w * (y - yw) ** 2) / np.sum(w)) * ((np.sum(w)**2)/ ((np.sum(w)**2)-np.sum(w**2)))\n",
    "\n",
    "# Calculate effective sample size\n",
    "# eq 6\n",
    "n_eff = (np.sum(w) ** 2) / np.sum(w ** 2)\n",
    "\n",
    "# Calculate standard error of the weighted mean\n",
    "# eq 5\n",
    "se_yw_c = np.sqrt(var_w / n_eff)\n",
    "\n",
    "print(\"Cold Weighted Mean:\", yw)\n",
    "print(\"Cold Weighted Variance:\", var_w)\n",
    "print(\"Cold neff:\", n_eff)\n",
    "print(\"Cold SE Weighted Mean:\", se_yw_c)"
   ]
  },
  {
   "cell_type": "markdown",
   "id": "bd3e6c17-5eaf-4347-a62e-8fdeffba7bd7",
   "metadata": {},
   "source": [
    "# Bannock Creek Sine Curve Fitting"
   ]
  },
  {
   "cell_type": "code",
   "execution_count": 36,
   "id": "e2d6e3d5-e05d-4896-8e96-04d2e33458b1",
   "metadata": {},
   "outputs": [
    {
     "name": "stdout",
     "output_type": "stream",
     "text": [
      "BC Mass Weight Warm -9.493239718929013\n",
      "BC Mass Weight cold -19.557766692703954\n"
     ]
    }
   ],
   "source": [
    "#BC Sum Warm Season Precip\n",
    "BC_Sum_w_P =  pw2 + pw3 + pw4 + pw5 + pw6 + pw7 + pw8 \n",
    "# BC Sum Cold Season Precip\n",
    "BC_Sum_c_P = pc2 + pc3 + pc4 + pc5 + pc6 + pc7 + pc8\n",
    "\n",
    "#equation for samples\n",
    "# (RC_01 sample D18O * RC_01 precip accum event) / total RC_01 event\n",
    "BCwarm_sine = ((w2 * pw2) + (w3 * pw3) + (w4 * pw4) + (w5 * pw5) + (w6 * pw6) + (w7 * pw7) + (w8 * pw8)) / (BC_Sum_w_P)\n",
    "print('BC Mass Weight Warm', BCwarm_sine)\n",
    "\n",
    "BCcold_sine = ((c2 * pc2) + (c3 * pc3) + (c4 * pc4) + (c5 * pc5) + (c6 * pc6) + (c1 * pc7) + (c8 * pc8)) / (BC_Sum_c_P)\n",
    "print('BC Mass Weight cold', BCcold_sine)"
   ]
  },
  {
   "cell_type": "code",
   "execution_count": 37,
   "id": "8057a313-d886-42bf-8984-c4396a6ae89f",
   "metadata": {},
   "outputs": [
    {
     "name": "stdout",
     "output_type": "stream",
     "text": [
      "BC Area Weighted Sine Warm [-8.461472983479105]\n",
      "BC Area Weighted Sine Cold [-18.9544296404276]\n"
     ]
    }
   ],
   "source": [
    "# Elevation 1 % area * Weighted isotopes RC_01 + e+1 \n",
    "#Area weighted not mass weighted \n",
    "BCArea_weighted_SineWarm = [(w2 * farea_e2) +\n",
    "                      (w3 * farea_e3) + (w4 * farea_e4) + (w5 * farea_e5) +\n",
    "                      (w6 * farea_e6) + (w7 * farea_e7) + (w8 * farea_e8)]\n",
    "\n",
    "BCArea_weighted_SineCold = [(c2 * farea_e2) +\n",
    "                      (c3 * farea_e3) + (c4 * farea_e4) + (c5 * farea_e5) +\n",
    "                      (c6 * farea_e6) + (c7 * farea_e7) + (c8 * farea_e8)]\n",
    "\n",
    "print('BC Area Weighted Sine Warm', BCArea_weighted_SineWarm)\n",
    "print('BC Area Weighted Sine Cold', BCArea_weighted_SineCold)"
   ]
  },
  {
   "cell_type": "code",
   "execution_count": 38,
   "id": "b18ec9b5-7c45-4933-98d8-34011dfe47aa",
   "metadata": {},
   "outputs": [
    {
     "name": "stdout",
     "output_type": "stream",
     "text": [
      "Warm Weighted Mean: -9.493239718929013\n",
      "Warm Weighted Variance: 1.775350218948969\n",
      "Warm neff: 6.630191164417794\n",
      "Warm SE Weighted Mean: 0.5174626328223519\n",
      "higher unercertainty b/c of uneven weight distribution, one of the weights holds all of the power\n"
     ]
    }
   ],
   "source": [
    "#BC6 Sine\n",
    "#SE for AM weighted Sine for warm season PRECIP\n",
    "#weighted seasons only convert standard error from sine curve to a percet. \n",
    "y = np.array([w2,w3,w4,w5,w6,w7,w8])  # isotopic measurements\n",
    "w = np.array([pw2, pw3, pw4, pw5,pw6,pw7, pw8])  # weights (precip accum)\n",
    "# Calculate weighted average\n",
    "# eq 4\n",
    "yw = np.sum(w * y) / np.sum(w)\n",
    "# Calculate weighted variance\n",
    "# eq 8\n",
    "var_w = (np.sum(w * (y - yw) ** 2) / np.sum(w)) * ((np.sum(w)**2)/ ((np.sum(w)**2)-np.sum(w**2)))\n",
    "# Calculate effective sample size\n",
    "# eq 6\n",
    "n_eff = (np.sum(w) ** 2) / np.sum(w ** 2)\n",
    "# Calculate standard error of the weighted mean\n",
    "# eq 5\n",
    "se_yw_c = np.sqrt(var_w / n_eff)\n",
    "\n",
    "print(\"Warm Weighted Mean:\", yw)\n",
    "print(\"Warm Weighted Variance:\", var_w)\n",
    "print(\"Warm neff:\", n_eff)\n",
    "print(\"Warm SE Weighted Mean:\", se_yw_c)\n",
    "print('higher unercertainty b/c of uneven weight distribution, one of the weights holds all of the power')"
   ]
  },
  {
   "cell_type": "code",
   "execution_count": 39,
   "id": "9e90fadd-4b35-4882-a0e5-7e60beb16324",
   "metadata": {},
   "outputs": [
    {
     "name": "stdout",
     "output_type": "stream",
     "text": [
      "Cold Weighted Mean: -19.8770880884345\n",
      "Cold Weighted Variance: 0.49015214337896035\n",
      "Cold neff: 6.4261283419961055\n",
      "Cold SE Weighted Mean: 0.27617906536377346\n"
     ]
    }
   ],
   "source": [
    "#SE for BC AM6 weighted Sine for cold season PRECIP\n",
    "# weighted seasons only convert standard error from sine curve to a percet. \n",
    "y = np.array([c2,c3,c4,c5,c6,c7,c8])  # isotopic measurements\n",
    "w = np.array([pc2,pc3,pc4,pc5,pc6,pc7,pc8])  # weights (precip accum)\n",
    "# Calculate weighted average\n",
    "# eq 4\n",
    "yw = np.sum(w * y) / np.sum(w)\n",
    "# Calculate weighted variance\n",
    "# eq 8\n",
    "var_w = (np.sum(w * (y - yw) ** 2) / np.sum(w)) * ((np.sum(w)**2)/ ((np.sum(w)**2)-np.sum(w**2)))\n",
    "# Calculate effective sample size\n",
    "# eq 6\n",
    "n_eff = (np.sum(w) ** 2) / np.sum(w ** 2)\n",
    "# Calculate standard error of the weighted mean\n",
    "# eq 5\n",
    "se_yw_c = np.sqrt(var_w / n_eff)\n",
    "\n",
    "print(\"Cold Weighted Mean:\", yw)\n",
    "print(\"Cold Weighted Variance:\", var_w)\n",
    "print(\"Cold neff:\", n_eff)\n",
    "print(\"Cold SE Weighted Mean:\", se_yw_c)"
   ]
  },
  {
   "cell_type": "code",
   "execution_count": 40,
   "id": "595d71a1-e275-4084-ab72-d3c0316e273b",
   "metadata": {},
   "outputs": [
    {
     "name": "stdout",
     "output_type": "stream",
     "text": [
      "Warm Area Weighted Mean: -8.875580485020235\n",
      "Warm Weighted Variance: 1.0206932769682509\n",
      "Warm neff: 5.428923023925101\n",
      "Warm Area SE Weighted Mean: 0.4336015092109074\n",
      "Cold Weighted Mean: -19.88206617804463\n",
      "Cold Weighted Variance: 0.2884342129153437\n",
      "Cold neff: 5.428923023925101\n",
      "Cold SE Weighted Mean: 0.23049767270229732\n"
     ]
    }
   ],
   "source": [
    "#BC\n",
    "#SE for AM7 weighted Sine for warm season PRECIP \n",
    "#the weights are the same for both seasons\n",
    "y = np.array([w2,w3,w4,w5,w6,w7,w8])  # isotopic measurements\n",
    "w = np.array([farea_e2, farea_e3, farea_e4,\n",
    "              farea_e5, farea_e6,farea_e7,\n",
    "              farea_e8])  # weights (elevation area fraction)\n",
    "# Calculate weighted average\n",
    "# eq 4\n",
    "yw = np.sum(w * y) / np.sum(w)\n",
    "# Calculate weighted variance\n",
    "# eq 8\n",
    "var_w = (np.sum(w * (y - yw) ** 2) / np.sum(w)) * ((np.sum(w)**2)/ ((np.sum(w)**2)-np.sum(w**2)))\n",
    "# Calculate effective sample size\n",
    "# eq 6\n",
    "n_eff = (np.sum(w) ** 2) / np.sum(w ** 2)\n",
    "# Calculate standard error of the weighted mean\n",
    "# eq 5\n",
    "se_yw_c = np.sqrt(var_w / n_eff)\n",
    "print(\"Warm Area Weighted Mean:\", yw)\n",
    "print(\"Warm Weighted Variance:\", var_w)\n",
    "print(\"Warm neff:\", n_eff)\n",
    "print(\"Warm Area SE Weighted Mean:\", se_yw_c)\n",
    "\n",
    "#SE for AM7 weighted Sine for cold season PRECIP \n",
    "y = np.array([c2,c3,c4,c5,c6,c7,c8])  # isotopic measurements\n",
    "w = np.array([farea_e2, farea_e3, farea_e4,\n",
    "              farea_e5, farea_e6,farea_e7,\n",
    "              farea_e8])  # weights (elevation area fraction)\n",
    "# Calculate weighted average\n",
    "# eq 4\n",
    "yw = np.sum(w * y) / np.sum(w)\n",
    "# Calculate weighted variance\n",
    "# eq 8\n",
    "var_w = (np.sum(w * (y - yw) ** 2) / np.sum(w)) * ((np.sum(w)**2)/ ((np.sum(w)**2)-np.sum(w**2)))\n",
    "# Calculate effective sample size\n",
    "# eq 6\n",
    "n_eff = (np.sum(w) ** 2) / np.sum(w ** 2)\n",
    "# Calculate standard error of the weighted mean\n",
    "# eq 5\n",
    "se_yw_c = np.sqrt(var_w / n_eff)\n",
    "print(\"Cold Weighted Mean:\", yw)\n",
    "print(\"Cold Weighted Variance:\", var_w)\n",
    "print(\"Cold neff:\", n_eff)\n",
    "print(\"Cold SE Weighted Mean:\", se_yw_c)"
   ]
  },
  {
   "cell_type": "markdown",
   "id": "0d504189-8199-46bb-af41-55357b267014",
   "metadata": {},
   "source": [
    "# 3. Mores Creek Weighted Stream Samples\n",
    "To calculate seasonal volume-weighted averages of δ18O and δ2H in streamflow, weight each streamflow isotope value by the cumulative streamflow since the previous sample. Kirchner & Allen (2020)"
   ]
  },
  {
   "cell_type": "code",
   "execution_count": 41,
   "id": "d106d48b-a3d4-4b41-9a67-605b3a52bcc7",
   "metadata": {},
   "outputs": [
    {
     "data": {
      "text/html": [
       "<div>\n",
       "<style scoped>\n",
       "    .dataframe tbody tr th:only-of-type {\n",
       "        vertical-align: middle;\n",
       "    }\n",
       "\n",
       "    .dataframe tbody tr th {\n",
       "        vertical-align: top;\n",
       "    }\n",
       "\n",
       "    .dataframe thead th {\n",
       "        text-align: right;\n",
       "    }\n",
       "</style>\n",
       "<table border=\"1\" class=\"dataframe\">\n",
       "  <thead>\n",
       "    <tr style=\"text-align: right;\">\n",
       "      <th></th>\n",
       "      <th>Sample Name</th>\n",
       "      <th>Site_ID</th>\n",
       "      <th>Collection_Date</th>\n",
       "      <th>D_2H</th>\n",
       "      <th>D_2H_StDev</th>\n",
       "      <th>D_18O</th>\n",
       "      <th>D_18O_StDev</th>\n",
       "      <th>Type</th>\n",
       "      <th>Site_no</th>\n",
       "      <th>D_18O_Rain</th>\n",
       "      <th>D_18O_Snow</th>\n",
       "      <th>D_18O_MC</th>\n",
       "      <th>D_18O_BC</th>\n",
       "      <th>D_2H_Rain</th>\n",
       "      <th>D_2H_Snow</th>\n",
       "      <th>D_18O_std_Rain</th>\n",
       "      <th>D_18O_std_Snow</th>\n",
       "      <th>D_18O_StDev_Precip</th>\n",
       "      <th>D_18O_Precip</th>\n",
       "      <th>D_2H_Precip</th>\n",
       "    </tr>\n",
       "  </thead>\n",
       "  <tbody>\n",
       "    <tr>\n",
       "      <th>0</th>\n",
       "      <td>1</td>\n",
       "      <td>BC</td>\n",
       "      <td>2022-10-05</td>\n",
       "      <td>-126.803089</td>\n",
       "      <td>0.905</td>\n",
       "      <td>-16.459499</td>\n",
       "      <td>0.1660</td>\n",
       "      <td>BC</td>\n",
       "      <td>NaN</td>\n",
       "      <td>NaN</td>\n",
       "      <td>NaN</td>\n",
       "      <td>NaN</td>\n",
       "      <td>-16.459499</td>\n",
       "      <td>NaN</td>\n",
       "      <td>NaN</td>\n",
       "      <td>NaN</td>\n",
       "      <td>NaN</td>\n",
       "      <td>NaN</td>\n",
       "      <td>NaN</td>\n",
       "      <td>NaN</td>\n",
       "    </tr>\n",
       "    <tr>\n",
       "      <th>1</th>\n",
       "      <td>2</td>\n",
       "      <td>MC</td>\n",
       "      <td>2022-10-05</td>\n",
       "      <td>-121.245698</td>\n",
       "      <td>0.503</td>\n",
       "      <td>-16.055768</td>\n",
       "      <td>0.0923</td>\n",
       "      <td>MC</td>\n",
       "      <td>NaN</td>\n",
       "      <td>NaN</td>\n",
       "      <td>NaN</td>\n",
       "      <td>-16.055768</td>\n",
       "      <td>NaN</td>\n",
       "      <td>NaN</td>\n",
       "      <td>NaN</td>\n",
       "      <td>NaN</td>\n",
       "      <td>NaN</td>\n",
       "      <td>NaN</td>\n",
       "      <td>NaN</td>\n",
       "      <td>NaN</td>\n",
       "    </tr>\n",
       "    <tr>\n",
       "      <th>2</th>\n",
       "      <td>3</td>\n",
       "      <td>BC</td>\n",
       "      <td>2022-10-27</td>\n",
       "      <td>-124.454618</td>\n",
       "      <td>0.553</td>\n",
       "      <td>-16.515137</td>\n",
       "      <td>0.1370</td>\n",
       "      <td>BC</td>\n",
       "      <td>NaN</td>\n",
       "      <td>NaN</td>\n",
       "      <td>NaN</td>\n",
       "      <td>NaN</td>\n",
       "      <td>-16.515137</td>\n",
       "      <td>NaN</td>\n",
       "      <td>NaN</td>\n",
       "      <td>NaN</td>\n",
       "      <td>NaN</td>\n",
       "      <td>NaN</td>\n",
       "      <td>NaN</td>\n",
       "      <td>NaN</td>\n",
       "    </tr>\n",
       "    <tr>\n",
       "      <th>3</th>\n",
       "      <td>4</td>\n",
       "      <td>MC</td>\n",
       "      <td>2022-10-27</td>\n",
       "      <td>-120.942857</td>\n",
       "      <td>0.834</td>\n",
       "      <td>-15.892233</td>\n",
       "      <td>0.2420</td>\n",
       "      <td>MC</td>\n",
       "      <td>NaN</td>\n",
       "      <td>NaN</td>\n",
       "      <td>NaN</td>\n",
       "      <td>-15.892233</td>\n",
       "      <td>NaN</td>\n",
       "      <td>NaN</td>\n",
       "      <td>NaN</td>\n",
       "      <td>NaN</td>\n",
       "      <td>NaN</td>\n",
       "      <td>NaN</td>\n",
       "      <td>NaN</td>\n",
       "      <td>NaN</td>\n",
       "    </tr>\n",
       "    <tr>\n",
       "      <th>4</th>\n",
       "      <td>5</td>\n",
       "      <td>RC_01</td>\n",
       "      <td>2022-10-27</td>\n",
       "      <td>-92.796701</td>\n",
       "      <td>1.390</td>\n",
       "      <td>-12.540525</td>\n",
       "      <td>0.2320</td>\n",
       "      <td>RC</td>\n",
       "      <td>1.0</td>\n",
       "      <td>-12.540525</td>\n",
       "      <td>NaN</td>\n",
       "      <td>NaN</td>\n",
       "      <td>NaN</td>\n",
       "      <td>-92.796701</td>\n",
       "      <td>NaN</td>\n",
       "      <td>0.232</td>\n",
       "      <td>NaN</td>\n",
       "      <td>0.232</td>\n",
       "      <td>-12.540525</td>\n",
       "      <td>-92.796701</td>\n",
       "    </tr>\n",
       "  </tbody>\n",
       "</table>\n",
       "</div>"
      ],
      "text/plain": [
       "   Sample Name Site_ID Collection_Date        D_2H  D_2H_StDev      D_18O  \\\n",
       "0            1      BC      2022-10-05 -126.803089       0.905 -16.459499   \n",
       "1            2      MC      2022-10-05 -121.245698       0.503 -16.055768   \n",
       "2            3      BC      2022-10-27 -124.454618       0.553 -16.515137   \n",
       "3            4      MC      2022-10-27 -120.942857       0.834 -15.892233   \n",
       "4            5   RC_01      2022-10-27  -92.796701       1.390 -12.540525   \n",
       "\n",
       "   D_18O_StDev Type  Site_no  D_18O_Rain  D_18O_Snow   D_18O_MC   D_18O_BC  \\\n",
       "0       0.1660   BC      NaN         NaN         NaN        NaN -16.459499   \n",
       "1       0.0923   MC      NaN         NaN         NaN -16.055768        NaN   \n",
       "2       0.1370   BC      NaN         NaN         NaN        NaN -16.515137   \n",
       "3       0.2420   MC      NaN         NaN         NaN -15.892233        NaN   \n",
       "4       0.2320   RC      1.0  -12.540525         NaN        NaN        NaN   \n",
       "\n",
       "   D_2H_Rain  D_2H_Snow  D_18O_std_Rain  D_18O_std_Snow  D_18O_StDev_Precip  \\\n",
       "0        NaN        NaN             NaN             NaN                 NaN   \n",
       "1        NaN        NaN             NaN             NaN                 NaN   \n",
       "2        NaN        NaN             NaN             NaN                 NaN   \n",
       "3        NaN        NaN             NaN             NaN                 NaN   \n",
       "4 -92.796701        NaN           0.232             NaN               0.232   \n",
       "\n",
       "   D_18O_Precip  D_2H_Precip  \n",
       "0           NaN          NaN  \n",
       "1           NaN          NaN  \n",
       "2           NaN          NaN  \n",
       "3           NaN          NaN  \n",
       "4    -12.540525   -92.796701  "
      ]
     },
     "execution_count": 41,
     "metadata": {},
     "output_type": "execute_result"
    }
   ],
   "source": [
    "df = read_mcw.read_and_process()\n",
    "mc = pd.read_csv('../Data/18.MoresCreek_USGS_Gage.csv',parse_dates = [0])\n",
    "df.head(5)"
   ]
  },
  {
   "cell_type": "code",
   "execution_count": 42,
   "id": "be24b5a9-0120-4815-928c-0b8254a40efb",
   "metadata": {},
   "outputs": [],
   "source": [
    "# Filter df for each type\n",
    "df['MC_Sampling'] = df[df['Type'] == 'MC'][['Collection_Date']]\n",
    "df_BC = df[df['Type'] == 'BC'][['Collection_Date']]\n",
    "new_df = df[['MC_Sampling', 'D_18O_MC']].copy()"
   ]
  },
  {
   "cell_type": "code",
   "execution_count": 43,
   "id": "7fde7c80-3a01-47f7-a176-63ad66d4ef2a",
   "metadata": {},
   "outputs": [],
   "source": [
    "mc_weight = pd.read_csv('../Data/13.morescreekmassweighting.csv',parse_dates = [0])"
   ]
  },
  {
   "cell_type": "code",
   "execution_count": 44,
   "id": "c4870a3e-90e2-4127-aee2-77d8fbe7e293",
   "metadata": {},
   "outputs": [],
   "source": [
    "# Adding MC_Sampling to both dataframes\n",
    "mc_weight['MC_Sampling'] = pd.to_datetime(mc_weight['MC_Sampling'], errors='coerce', format='%m/%d/%Y')\n",
    "new_df['MC_Sampling'] = pd.to_datetime(new_df['MC_Sampling'], errors='coerce')"
   ]
  },
  {
   "cell_type": "code",
   "execution_count": 45,
   "id": "4251d4f6-c9bb-4aff-81a5-00fde31e97f8",
   "metadata": {},
   "outputs": [
    {
     "data": {
      "text/html": [
       "<div>\n",
       "<style scoped>\n",
       "    .dataframe tbody tr th:only-of-type {\n",
       "        vertical-align: middle;\n",
       "    }\n",
       "\n",
       "    .dataframe tbody tr th {\n",
       "        vertical-align: top;\n",
       "    }\n",
       "\n",
       "    .dataframe thead th {\n",
       "        text-align: right;\n",
       "    }\n",
       "</style>\n",
       "<table border=\"1\" class=\"dataframe\">\n",
       "  <thead>\n",
       "    <tr style=\"text-align: right;\">\n",
       "      <th></th>\n",
       "      <th>datetime</th>\n",
       "      <th>MC_Sampling</th>\n",
       "      <th>MC_Q_event</th>\n",
       "      <th>Mean_Discharge_ft3_sec</th>\n",
       "      <th>D_18O_MC</th>\n",
       "    </tr>\n",
       "  </thead>\n",
       "  <tbody>\n",
       "    <tr>\n",
       "      <th>0</th>\n",
       "      <td>2022-10-01</td>\n",
       "      <td>NaT</td>\n",
       "      <td>NaN</td>\n",
       "      <td>23.3</td>\n",
       "      <td>NaN</td>\n",
       "    </tr>\n",
       "    <tr>\n",
       "      <th>176</th>\n",
       "      <td>2022-10-02</td>\n",
       "      <td>NaT</td>\n",
       "      <td>NaN</td>\n",
       "      <td>24.6</td>\n",
       "      <td>NaN</td>\n",
       "    </tr>\n",
       "    <tr>\n",
       "      <th>352</th>\n",
       "      <td>2022-10-03</td>\n",
       "      <td>NaT</td>\n",
       "      <td>NaN</td>\n",
       "      <td>24.6</td>\n",
       "      <td>NaN</td>\n",
       "    </tr>\n",
       "    <tr>\n",
       "      <th>528</th>\n",
       "      <td>2022-10-04</td>\n",
       "      <td>NaT</td>\n",
       "      <td>NaN</td>\n",
       "      <td>24.8</td>\n",
       "      <td>NaN</td>\n",
       "    </tr>\n",
       "    <tr>\n",
       "      <th>704</th>\n",
       "      <td>2022-10-05</td>\n",
       "      <td>2022-10-05</td>\n",
       "      <td>122.4</td>\n",
       "      <td>25.1</td>\n",
       "      <td>-16.055768</td>\n",
       "    </tr>\n",
       "  </tbody>\n",
       "</table>\n",
       "</div>"
      ],
      "text/plain": [
       "      datetime MC_Sampling  MC_Q_event  Mean_Discharge_ft3_sec   D_18O_MC\n",
       "0   2022-10-01         NaT         NaN                    23.3        NaN\n",
       "176 2022-10-02         NaT         NaN                    24.6        NaN\n",
       "352 2022-10-03         NaT         NaN                    24.6        NaN\n",
       "528 2022-10-04         NaT         NaN                    24.8        NaN\n",
       "704 2022-10-05  2022-10-05       122.4                    25.1 -16.055768"
      ]
     },
     "execution_count": 45,
     "metadata": {},
     "output_type": "execute_result"
    }
   ],
   "source": [
    "# Merging mc_weight with new_df\n",
    "merged_df= pd.merge(mc_weight, new_df, on='MC_Sampling', how='left')\n",
    "merged_df = merged_df.drop_duplicates(subset='datetime', keep='first')\n",
    "merged_df.head(5)"
   ]
  },
  {
   "cell_type": "code",
   "execution_count": 46,
   "id": "42e491ec-d5ff-4608-a600-1e330700fe57",
   "metadata": {},
   "outputs": [
    {
     "name": "stdout",
     "output_type": "stream",
     "text": [
      "MC Mass Weighted Average Stream Sample:  -17.04330186638911\n"
     ]
    }
   ],
   "source": [
    "MC_massweight = (merged_df['D_18O_MC'] * merged_df['MC_Q_event']).sum() / (merged_df['MC_Q_event']).sum()\n",
    "print('MC Mass Weighted Average Stream Sample: ', MC_massweight)"
   ]
  },
  {
   "cell_type": "markdown",
   "id": "2b282e18-7d1e-402e-8fab-7891c92b61de",
   "metadata": {},
   "source": [
    "# MC2 Stream\n",
    "MC1 and MC2 are same"
   ]
  },
  {
   "cell_type": "code",
   "execution_count": 47,
   "id": "5f630709-d96d-4790-aaba-2b5545b3e654",
   "metadata": {},
   "outputs": [
    {
     "name": "stdout",
     "output_type": "stream",
     "text": [
      "weighted cold stream am1 -16.71631607459403\n",
      "weighted warm stream am1 -17.169395791154333\n",
      "non weighted cold stream -16.558256454545454\n",
      "non weighted warm stream -16.39460142857143\n"
     ]
    }
   ],
   "source": [
    "merged_df['Cold7_avg'] = np.where((merged_df['MC_Sampling'] >= '2022-10-29') &\n",
    "                        (merged_df['MC_Sampling'] < '2023-05-01'), merged_df['D_18O_MC'], np.nan) \n",
    "merged_df['Warm7_avg'] = np.where((merged_df['MC_Sampling']  < '2022-10-29') |\n",
    "                        (merged_df['MC_Sampling']  >= '2023-05-01'),merged_df['D_18O_MC'], np.nan)\n",
    "\n",
    "merged_df['event_Cold7_avg'] = np.where((merged_df['MC_Sampling'] >= '2022-10-29') &\n",
    "                        (merged_df['MC_Sampling'] < '2023-05-01'), merged_df['MC_Q_event'], np.nan) \n",
    "merged_df['event_Warm7_avg'] = np.where((merged_df['MC_Sampling']  < '2022-10-29') |\n",
    "                        (merged_df['MC_Sampling']  >= '2023-05-01'),merged_df['MC_Q_event'], np.nan)\n",
    "\n",
    "MC_AM2Cold = (merged_df['Cold7_avg'] * merged_df['event_Cold7_avg']).sum() / (merged_df['event_Cold7_avg']).sum()\n",
    "print('weighted cold stream am1',MC_AM2Cold)\n",
    "\n",
    "MC_AM2Warm = (merged_df['Warm7_avg'] * merged_df['event_Warm7_avg']).sum() / (merged_df['event_Warm7_avg']).sum()\n",
    "print('weighted warm stream am1',MC_AM2Warm)\n",
    "\n",
    "print('non weighted cold stream', merged_df['Cold7_avg'].mean())\n",
    "print('non weighted warm stream', merged_df['Warm7_avg'].mean())"
   ]
  },
  {
   "cell_type": "markdown",
   "id": "e8dda59c-9780-48e0-81a3-75d6fac54908",
   "metadata": {},
   "source": [
    "# MC3 Stream"
   ]
  },
  {
   "cell_type": "code",
   "execution_count": 48,
   "id": "2b243b3c-1868-4618-b261-5eafb9705cd9",
   "metadata": {},
   "outputs": [
    {
     "name": "stdout",
     "output_type": "stream",
     "text": [
      "weighted cold stream am1 -16.46897555284175\n",
      "weighted warm stream am1 -17.143770018409764\n",
      "non weighted cold stream -16.46600077777778\n",
      "non weighted warm stream -16.466952125\n"
     ]
    }
   ],
   "source": [
    "# AM3 - Site 4 \n",
    "# Winter Start = 2022-11-10\n",
    "# Summer Start = 2023-03-17\n",
    "merged_df['wrf_Cold7'] = np.where((merged_df['MC_Sampling'] >= '2022-11-10') &\n",
    "                        (merged_df['MC_Sampling'] < '2023-03-17'), merged_df['D_18O_MC'], np.nan) \n",
    "merged_df['wrf_Warm7'] = np.where((merged_df['MC_Sampling']  < '2022-11-10') |\n",
    "                        (merged_df['MC_Sampling']  >= '2023-03-17'),merged_df['D_18O_MC'], np.nan)\n",
    "\n",
    "merged_df['event_Cold7_wrf'] = np.where((merged_df['MC_Sampling'] >= '2022-11-10') &\n",
    "                        (merged_df['MC_Sampling'] < '2023-03-17'), merged_df['MC_Q_event'], np.nan) \n",
    "merged_df['event_Warm7_wrf'] = np.where((merged_df['MC_Sampling']  < '2022-11-10') |\n",
    "                        (merged_df['MC_Sampling']  >= '2023-03-17'),merged_df['MC_Q_event'], np.nan)\n",
    "\n",
    "MC_AM3Cold = (merged_df['wrf_Cold7'] * merged_df['event_Cold7_wrf']).sum() / (merged_df['event_Cold7_wrf']).sum()\n",
    "print('weighted cold stream am1',MC_AM3Cold)\n",
    "\n",
    "MC_AM3Warm = (merged_df['wrf_Warm7'] * merged_df['event_Warm7_wrf']).sum() / (merged_df['event_Warm7_wrf']).sum()\n",
    "print('weighted warm stream am1',MC_AM3Warm)\n",
    "\n",
    "print('non weighted cold stream', merged_df['wrf_Cold7'].mean())\n",
    "print('non weighted warm stream', merged_df['wrf_Warm7'].mean())"
   ]
  },
  {
   "cell_type": "markdown",
   "id": "c3df630a-f299-4ff4-87ad-d1d97a6c0e9b",
   "metadata": {},
   "source": [
    "# MC4 Stream"
   ]
  },
  {
   "cell_type": "code",
   "execution_count": 49,
   "id": "5faa2a7c-9642-457f-99fa-719ebcc681ae",
   "metadata": {},
   "outputs": [
    {
     "name": "stdout",
     "output_type": "stream",
     "text": [
      "weighted cold stream am4 -16.564465684801238\n",
      "weighted warm stream am4 -17.163026741886426\n",
      "non weighted cold stream -16.5036511\n",
      "non weighted warm stream -16.441915333333334\n"
     ]
    }
   ],
   "source": [
    "# AM4 - Site 4 \n",
    "# Winter Start = 2022-11-10\n",
    "# Summer Start = 2023-03-17\n",
    "merged_df['wrf_Cold'] = np.where((merged_df['MC_Sampling'] >= '2022-11-11') &\n",
    "                        (merged_df['MC_Sampling'] < '2023-04-09'), merged_df['D_18O_MC'], np.nan) \n",
    "merged_df['wrf_Warm'] = np.where((merged_df['MC_Sampling']  < '2022-11-11') |\n",
    "                        (merged_df['MC_Sampling']  >= '2023-04-09'),merged_df['D_18O_MC'], np.nan)\n",
    "\n",
    "merged_df['event_Cold_wrf'] = np.where((merged_df['MC_Sampling'] >= '2022-11-11') &\n",
    "                        (merged_df['MC_Sampling'] < '2023-04-09'), merged_df['MC_Q_event'], np.nan) \n",
    "merged_df['event_Warm_wrf'] = np.where((merged_df['MC_Sampling']  < '2022-11-11') |\n",
    "                        (merged_df['MC_Sampling']  >= '2023-04-09'),merged_df['MC_Q_event'], np.nan)\n",
    "\n",
    "MC_AM4Cold = (merged_df['wrf_Cold'] * merged_df['event_Cold_wrf']).sum() / (merged_df['event_Cold_wrf']).sum()\n",
    "print('weighted cold stream am4',MC_AM4Cold)\n",
    "\n",
    "MC_AM4Warm = (merged_df['wrf_Warm'] * merged_df['event_Warm_wrf']).sum() / (merged_df['event_Warm_wrf']).sum()\n",
    "print('weighted warm stream am4',MC_AM4Warm)\n",
    "\n",
    "print('non weighted cold stream', merged_df['wrf_Cold'].mean())\n",
    "print('non weighted warm stream', merged_df['wrf_Warm'].mean())"
   ]
  },
  {
   "cell_type": "markdown",
   "id": "5ddb205b-7c7e-4b21-a888-e432ed1c3c04",
   "metadata": {},
   "source": [
    "# MC5 Stream\n",
    "## Weighted rain vs snow (Mass & Elevation)"
   ]
  },
  {
   "cell_type": "code",
   "execution_count": 50,
   "id": "9c10b6b1-33c1-4136-b73a-43d7f927c8ec",
   "metadata": {},
   "outputs": [],
   "source": [
    "# AM5\n",
    "# this should be a 50% ratio of when all sites are collected for rain and snow- \n",
    "#need to take a look at field instrumentation installation or when samples where anallyzed\n",
    "# Winter Start = 2022-12-18\n",
    "# Summer Start = 2023-05-16 "
   ]
  },
  {
   "cell_type": "markdown",
   "id": "cdd7032e-5044-4c71-9eb1-937628c991c9",
   "metadata": {},
   "source": [
    "# MC6 - MC8 Stream"
   ]
  },
  {
   "cell_type": "code",
   "execution_count": 51,
   "id": "91685c8a-0525-4cb7-a385-29cc00926465",
   "metadata": {},
   "outputs": [
    {
     "name": "stdout",
     "output_type": "stream",
     "text": [
      "weighted cold stream am6 -17.1273861005571\n",
      "weighted warm stream am6 -16.906525800555034\n",
      "non weighted cold stream -16.636930785714288\n",
      "non weighted warm stream -16.2714924\n"
     ]
    }
   ],
   "source": [
    "#Sine curve fitting - Site 4 @ 50% of watershed area \n",
    "# Winter Start = 2023-10-26\n",
    "# Summer Start =  2023-05-29\n",
    "#Corrected on May 13th 2023\n",
    "\n",
    "merged_df['sine_stream_Warm'] = np.where((merged_df['MC_Sampling'] >= '2023-05-29') &\n",
    "                        (merged_df['MC_Sampling'] < '2023-10-26')\n",
    "                                         | (merged_df['MC_Sampling'] < '2022-10-26'), merged_df['D_18O_MC'], np.nan) \n",
    "merged_df['sine_stream_Cold'] = np.where((merged_df['MC_Sampling']  >= '2022-10-26') &\n",
    "                        (merged_df['MC_Sampling']  < '2023-05-29'),merged_df['D_18O_MC'], np.nan)\n",
    "\n",
    "merged_df['event_Warm_sine'] = np.where((merged_df['MC_Sampling'] >= '2023-05-29') &\n",
    "                        (merged_df['MC_Sampling'] < '2023-10-26')\n",
    "                                         | (merged_df['MC_Sampling'] < '2022-10-26'), merged_df['MC_Q_event'], np.nan) \n",
    "merged_df['event_Cold_sine'] = np.where((merged_df['MC_Sampling']  >= '2022-10-26') &\n",
    "                        (merged_df['MC_Sampling']  < '2023-05-29'),merged_df['MC_Q_event'], np.nan)\n",
    "\n",
    "MC_AM6Cold = (merged_df['sine_stream_Cold'] * merged_df['event_Cold_sine']).sum() / (merged_df['event_Cold_sine']).sum()\n",
    "print('weighted cold stream am6',MC_AM6Cold)\n",
    "\n",
    "MC_AM6Warm = (merged_df['sine_stream_Warm'] * merged_df['event_Warm_sine']).sum() / (merged_df['event_Warm_sine']).sum()\n",
    "print('weighted warm stream am6',MC_AM6Warm)\n",
    "\n",
    "print('non weighted cold stream', merged_df['sine_stream_Cold'].mean())\n",
    "print('non weighted warm stream', merged_df['sine_stream_Warm'].mean())"
   ]
  }
 ],
 "metadata": {
  "kernelspec": {
   "display_name": "Python [conda env:Mores_Creek]",
   "language": "python",
   "name": "conda-env-Mores_Creek-py"
  },
  "language_info": {
   "codemirror_mode": {
    "name": "ipython",
    "version": 3
   },
   "file_extension": ".py",
   "mimetype": "text/x-python",
   "name": "python",
   "nbconvert_exporter": "python",
   "pygments_lexer": "ipython3",
   "version": "3.13.5"
  }
 },
 "nbformat": 4,
 "nbformat_minor": 5
}
