{
 "cells": [
  {
   "cell_type": "markdown",
   "id": "4bd71172-836f-4c5a-97c0-7d1450102085",
   "metadata": {},
   "source": [
    "## Gaussian Error Propigation and Standard Errors"
   ]
  },
  {
   "cell_type": "code",
   "execution_count": 1,
   "id": "a045eb7a-f6c8-49f3-b1d8-14ff37b1859d",
   "metadata": {},
   "outputs": [],
   "source": [
    "from pathlib import Path\n",
    "sys.path.append(str(Path().resolve().parent / 'Scripts'))\n",
    "from packages import *\n",
    "import colors"
   ]
  },
  {
   "cell_type": "code",
   "execution_count": 2,
   "id": "0c69d3c3-631b-4190-b22c-5926d406cac1",
   "metadata": {},
   "outputs": [
    {
     "data": {
      "text/plain": [
       "array(['BC', 'MC', 'RC_01', 'RC_02', 'RC_03', 'RC_04', 'RC_05', 'RC_06',\n",
       "       'RC_07', 'RC_08', 'RC_09', 'RC_10', 'IB_01', 'IB_02', 'IB_08',\n",
       "       'IB_09', 'IB_10', 'IB_07', 'IB_03', 'IB_04', 'IB_05', 'IB_06'],\n",
       "      dtype=object)"
      ]
     },
     "execution_count": 2,
     "metadata": {},
     "output_type": "execute_result"
    }
   ],
   "source": [
    "import read_mcw\n",
    "df = read_mcw.read_and_process()\n",
    "df['Site_ID'].unique()"
   ]
  },
  {
   "cell_type": "raw",
   "id": "36be473a-8cd6-44bc-8a0a-82c7dd38d442",
   "metadata": {},
   "source": [
    "Standard Error and Gaussian Error Propigation adjusted from Kirchner & Allen for MCW End-Member Mixing Equations. \n",
    "\n",
    "Kirchner, J. W., & Allen, S. T. (2020). Seasonal partitioning of precipitation between streamflow and evapotranspiration, inferred from end-member splitting analysis. Hydrology and Earth System Sciences, 24(1), 17-39:\n",
    "\n",
    "\"We adjusted Campbell and Green's precipitation isotope values to account for the difference between the mean catchment elevation (642 m; Ali et al., 2015) and the elevation at the precipitation sampler (564 m; Campbell and Green, 2019) assuming an isotopic lapse rate of −0.28 ‰ per 100 m for δ18O (Poague and Chamberlain, 2001) and 8 times this amount (−2.24 ‰ per 100 m) for δ2H. We weighted each precipitation isotope value by the cumulative precipitation that fell during each sampling interval to calculate seasonal volume-weighted averages of δ18O and δ2H in precipitation. To calculate seasonal volume-weighted averages of δ18O and δ2H in streamflow, we weighted each streamflow isotope value by the cumulative streamflow since the previous sample. We calculated uncertainties for all derived quantities using Gaussian error propagation, based on the standard errors of the average water fluxes and the volume-weighted standard errors of the average isotope ratios, as described in the Supplement\""
   ]
  },
  {
   "cell_type": "raw",
   "id": "d795b887-8620-4312-939c-5d222b733906",
   "metadata": {},
   "source": [
    "Kirchner & Allen, 2020:  \n",
    "##############################################\n",
    "# calculate weighted mean and standard error\n",
    "##############################################\n",
    "wtd_mean <- function(x, wt=rep(1, length(x))) {\n",
    "  # Calculates weighted mean and its standard error, using the correct standard error formula\n",
    "  # for cases where weights are measures of importance or volume.  Note that this is different\n",
    "  # from the common weighted standard error formula, where the weights are assumed to be \n",
    "  # inversely proportional to the variance of each input value.  For highly uneven weights,\n",
    "  # the conventional weighted standard error formula will converge toward zero (which is wrong for our problem),\n",
    "  # whereas the correct formula will converge toward infinity (which is correct).\n",
    "\n",
    "  # receives as input:\n",
    "  # x is a numeric vector of values to be averaged\n",
    "  # wt is a numeric vector of weights.  Weights must be >=0\n",
    "  # x and wt must be of equal length\n",
    "  \n",
    "  # returns a list with two elements:\n",
    "  # mean is the weighted mean\n",
    "  # SE is the standard error\n",
    "\n",
    "  # first we null out all values of x that don't have weights, and vice versa.  \n",
    "  x[is.na(wt)] <- NA\n",
    "  wt[is.na(x)] <- NA\n",
    "  \n",
    "  #check for different lengths of vectors\n",
    "  if (length(x) != length(wt)) stop(\"error in wtd_mean: x and wt have different length\")\n",
    "  \n",
    "  #check for negative weights\n",
    "  if (sum((wt<0), na.rm=TRUE)>0) stop(\"error in wtd_mean: negative weights\")\n",
    "  \n",
    "  #sum of weights\n",
    "  sumwt <- sum(wt, na.rm=TRUE)\n",
    "  \n",
    "  #sum of squared weights\n",
    "  sumsq <- sum(wt*wt, na.rm=TRUE)\n",
    "  \n",
    "  #effective degrees of freedom (note that this equals n for even weights, and trends toward 1 for very uneven weights)\n",
    "  n_eff <- sumwt*sumwt/sumsq                                              #Equation (S6)\n",
    "    \n",
    "  #weighted mean\n",
    "  xbar <- sum(x*wt, na.rm=TRUE)/sumwt                                     #Equation (S4)\n",
    "  \n",
    "  #weighted variance\n",
    "  varx <- (sum(wt*((x-xbar)^2), na.rm=TRUE)/sumwt) * n_eff/(n_eff-1)      #Equation (S8)\n",
    "  \n",
    "  return(\n",
    "    list(mean = xbar,         #weighted mean\n",
    "         se = sqrt(varx/n_eff)  #standard error of weighted mean          Equations (S8) and (S9)\n",
    "         )\n",
    "  )\n",
    " \n",
    "}"
   ]
  },
  {
   "cell_type": "code",
   "execution_count": 3,
   "id": "fd229a25-5118-4636-a6fe-86b35e09bc51",
   "metadata": {},
   "outputs": [],
   "source": [
    "# MCW Weighted Isotope Values D18O\n",
    "RC_01 = -9.7155\n",
    "RC_02 = -14.01384\n",
    "RC_03 = -14.16618\n",
    "RC_04 = -11.6961\n",
    "RC_05 = -11.9838\n",
    "RC_06 = -13.16526\n",
    "RC_07 = -11.43958\n",
    "RC_08 = -13.836019\n",
    "RC_09 = -14.4588\n",
    "RC_10 = -14.140187\n",
    "IB_01 = -18.84741\n",
    "IB_02 = -18.280612\n",
    "IB_03 = -19.237479\n",
    "IB_04 = -19.55665\n",
    "IB_05 = -20.859719\n",
    "IB_06 = -19.51508\n",
    "IB_07 = -20.27681\n",
    "IB_08 = -18.035748\n",
    "IB_09 = -18.379337\n",
    "IB_10 = -19.17537\n",
    "\n",
    "#Water Year 23 Precip total at each site (mm)\n",
    "r1_sum = 334.32\n",
    "r2_sum = 328.422199\n",
    "r3_sum = 298.616493\n",
    "r4_sum = 367.6122\n",
    "r5_sum = 262.759259\n",
    "r6_sum = 482.840065\n",
    "r7_sum = 269.239056\n",
    "r8_sum = 568.247197\n",
    "r9_sum = 424.304921\n",
    "r10_sum = 472.136001\n",
    "\n",
    "s1_sum = 168.586419\n",
    "s2_sum = 260.923149\n",
    "s3_sum = 224.600441\n",
    "s4_sum = 322.325984\n",
    "s5_sum = 832.765625\n",
    "s6_sum = 624.480625\n",
    "s7_sum = 875.439823\n",
    "s8_sum = 615.160983\n",
    "s9_sum = 773.38994\n",
    "s10_sum = 857.194671"
   ]
  },
  {
   "cell_type": "code",
   "execution_count": 4,
   "id": "70740f85-acca-43ad-ae06-95a6cf82af2f",
   "metadata": {},
   "outputs": [
    {
     "data": {
      "text/html": [
       "<div>\n",
       "<style scoped>\n",
       "    .dataframe tbody tr th:only-of-type {\n",
       "        vertical-align: middle;\n",
       "    }\n",
       "\n",
       "    .dataframe tbody tr th {\n",
       "        vertical-align: top;\n",
       "    }\n",
       "\n",
       "    .dataframe thead th {\n",
       "        text-align: right;\n",
       "    }\n",
       "</style>\n",
       "<table border=\"1\" class=\"dataframe\">\n",
       "  <thead>\n",
       "    <tr style=\"text-align: right;\">\n",
       "      <th></th>\n",
       "      <th>Collection_Date</th>\n",
       "      <th>Site_ID</th>\n",
       "      <th>Precip_Accum</th>\n",
       "    </tr>\n",
       "  </thead>\n",
       "  <tbody>\n",
       "    <tr>\n",
       "      <th>0</th>\n",
       "      <td>2022-10-27</td>\n",
       "      <td>RC_01</td>\n",
       "      <td>16.355125</td>\n",
       "    </tr>\n",
       "    <tr>\n",
       "      <th>1</th>\n",
       "      <td>2022-11-13</td>\n",
       "      <td>RC_01</td>\n",
       "      <td>48.301849</td>\n",
       "    </tr>\n",
       "    <tr>\n",
       "      <th>2</th>\n",
       "      <td>2023-03-16</td>\n",
       "      <td>RC_01</td>\n",
       "      <td>46.199951</td>\n",
       "    </tr>\n",
       "    <tr>\n",
       "      <th>3</th>\n",
       "      <td>2023-06-29</td>\n",
       "      <td>RC_01</td>\n",
       "      <td>153.297424</td>\n",
       "    </tr>\n",
       "  </tbody>\n",
       "</table>\n",
       "</div>"
      ],
      "text/plain": [
       "  Collection_Date Site_ID  Precip_Accum\n",
       "0      2022-10-27   RC_01     16.355125\n",
       "1      2022-11-13   RC_01     48.301849\n",
       "2      2023-03-16   RC_01     46.199951\n",
       "3      2023-06-29   RC_01    153.297424"
      ]
     },
     "execution_count": 4,
     "metadata": {},
     "output_type": "execute_result"
    }
   ],
   "source": [
    "ff = pd.read_csv('../Data/12.prcp_Accum_RC_IB.csv', parse_dates=[0])\n",
    "ff.head(4)"
   ]
  },
  {
   "cell_type": "code",
   "execution_count": 5,
   "id": "cc9ab6d1-51ba-4466-ace1-7df3578ecc69",
   "metadata": {},
   "outputs": [
    {
     "data": {
      "text/html": [
       "<div>\n",
       "<style scoped>\n",
       "    .dataframe tbody tr th:only-of-type {\n",
       "        vertical-align: middle;\n",
       "    }\n",
       "\n",
       "    .dataframe tbody tr th {\n",
       "        vertical-align: top;\n",
       "    }\n",
       "\n",
       "    .dataframe thead th {\n",
       "        text-align: right;\n",
       "    }\n",
       "</style>\n",
       "<table border=\"1\" class=\"dataframe\">\n",
       "  <thead>\n",
       "    <tr style=\"text-align: right;\">\n",
       "      <th></th>\n",
       "      <th>Sample Name</th>\n",
       "      <th>Site_ID</th>\n",
       "      <th>Collection_Date</th>\n",
       "      <th>D_2H</th>\n",
       "      <th>D_2H_StDev</th>\n",
       "      <th>D_18O</th>\n",
       "      <th>D_18O_StDev</th>\n",
       "      <th>Type</th>\n",
       "      <th>Site_no</th>\n",
       "      <th>D_18O_Rain</th>\n",
       "      <th>...</th>\n",
       "      <th>D_18O_MC</th>\n",
       "      <th>D_18O_BC</th>\n",
       "      <th>D_2H_Rain</th>\n",
       "      <th>D_2H_Snow</th>\n",
       "      <th>D_18O_std_Rain</th>\n",
       "      <th>D_18O_std_Snow</th>\n",
       "      <th>D_18O_StDev_Precip</th>\n",
       "      <th>D_18O_Precip</th>\n",
       "      <th>D_2H_Precip</th>\n",
       "      <th>Precip_Accum</th>\n",
       "    </tr>\n",
       "  </thead>\n",
       "  <tbody>\n",
       "    <tr>\n",
       "      <th>0</th>\n",
       "      <td>1</td>\n",
       "      <td>BC</td>\n",
       "      <td>2022-10-05</td>\n",
       "      <td>-126.803089</td>\n",
       "      <td>0.905</td>\n",
       "      <td>-16.459499</td>\n",
       "      <td>0.1660</td>\n",
       "      <td>BC</td>\n",
       "      <td>NaN</td>\n",
       "      <td>NaN</td>\n",
       "      <td>...</td>\n",
       "      <td>NaN</td>\n",
       "      <td>-16.459499</td>\n",
       "      <td>NaN</td>\n",
       "      <td>NaN</td>\n",
       "      <td>NaN</td>\n",
       "      <td>NaN</td>\n",
       "      <td>NaN</td>\n",
       "      <td>NaN</td>\n",
       "      <td>NaN</td>\n",
       "      <td>NaN</td>\n",
       "    </tr>\n",
       "    <tr>\n",
       "      <th>1</th>\n",
       "      <td>2</td>\n",
       "      <td>MC</td>\n",
       "      <td>2022-10-05</td>\n",
       "      <td>-121.245698</td>\n",
       "      <td>0.503</td>\n",
       "      <td>-16.055768</td>\n",
       "      <td>0.0923</td>\n",
       "      <td>MC</td>\n",
       "      <td>NaN</td>\n",
       "      <td>NaN</td>\n",
       "      <td>...</td>\n",
       "      <td>-16.055768</td>\n",
       "      <td>NaN</td>\n",
       "      <td>NaN</td>\n",
       "      <td>NaN</td>\n",
       "      <td>NaN</td>\n",
       "      <td>NaN</td>\n",
       "      <td>NaN</td>\n",
       "      <td>NaN</td>\n",
       "      <td>NaN</td>\n",
       "      <td>NaN</td>\n",
       "    </tr>\n",
       "    <tr>\n",
       "      <th>2</th>\n",
       "      <td>3</td>\n",
       "      <td>BC</td>\n",
       "      <td>2022-10-27</td>\n",
       "      <td>-124.454618</td>\n",
       "      <td>0.553</td>\n",
       "      <td>-16.515137</td>\n",
       "      <td>0.1370</td>\n",
       "      <td>BC</td>\n",
       "      <td>NaN</td>\n",
       "      <td>NaN</td>\n",
       "      <td>...</td>\n",
       "      <td>NaN</td>\n",
       "      <td>-16.515137</td>\n",
       "      <td>NaN</td>\n",
       "      <td>NaN</td>\n",
       "      <td>NaN</td>\n",
       "      <td>NaN</td>\n",
       "      <td>NaN</td>\n",
       "      <td>NaN</td>\n",
       "      <td>NaN</td>\n",
       "      <td>NaN</td>\n",
       "    </tr>\n",
       "    <tr>\n",
       "      <th>3</th>\n",
       "      <td>4</td>\n",
       "      <td>MC</td>\n",
       "      <td>2022-10-27</td>\n",
       "      <td>-120.942857</td>\n",
       "      <td>0.834</td>\n",
       "      <td>-15.892233</td>\n",
       "      <td>0.2420</td>\n",
       "      <td>MC</td>\n",
       "      <td>NaN</td>\n",
       "      <td>NaN</td>\n",
       "      <td>...</td>\n",
       "      <td>-15.892233</td>\n",
       "      <td>NaN</td>\n",
       "      <td>NaN</td>\n",
       "      <td>NaN</td>\n",
       "      <td>NaN</td>\n",
       "      <td>NaN</td>\n",
       "      <td>NaN</td>\n",
       "      <td>NaN</td>\n",
       "      <td>NaN</td>\n",
       "      <td>NaN</td>\n",
       "    </tr>\n",
       "    <tr>\n",
       "      <th>4</th>\n",
       "      <td>5</td>\n",
       "      <td>RC_01</td>\n",
       "      <td>2022-10-27</td>\n",
       "      <td>-92.796701</td>\n",
       "      <td>1.390</td>\n",
       "      <td>-12.540525</td>\n",
       "      <td>0.2320</td>\n",
       "      <td>RC</td>\n",
       "      <td>1.0</td>\n",
       "      <td>-12.540525</td>\n",
       "      <td>...</td>\n",
       "      <td>NaN</td>\n",
       "      <td>NaN</td>\n",
       "      <td>-92.796701</td>\n",
       "      <td>NaN</td>\n",
       "      <td>0.232</td>\n",
       "      <td>NaN</td>\n",
       "      <td>0.232</td>\n",
       "      <td>-12.540525</td>\n",
       "      <td>-92.796701</td>\n",
       "      <td>16.355125</td>\n",
       "    </tr>\n",
       "  </tbody>\n",
       "</table>\n",
       "<p>5 rows × 21 columns</p>\n",
       "</div>"
      ],
      "text/plain": [
       "   Sample Name Site_ID Collection_Date        D_2H  D_2H_StDev      D_18O  \\\n",
       "0            1      BC      2022-10-05 -126.803089       0.905 -16.459499   \n",
       "1            2      MC      2022-10-05 -121.245698       0.503 -16.055768   \n",
       "2            3      BC      2022-10-27 -124.454618       0.553 -16.515137   \n",
       "3            4      MC      2022-10-27 -120.942857       0.834 -15.892233   \n",
       "4            5   RC_01      2022-10-27  -92.796701       1.390 -12.540525   \n",
       "\n",
       "   D_18O_StDev Type  Site_no  D_18O_Rain  ...   D_18O_MC   D_18O_BC  \\\n",
       "0       0.1660   BC      NaN         NaN  ...        NaN -16.459499   \n",
       "1       0.0923   MC      NaN         NaN  ... -16.055768        NaN   \n",
       "2       0.1370   BC      NaN         NaN  ...        NaN -16.515137   \n",
       "3       0.2420   MC      NaN         NaN  ... -15.892233        NaN   \n",
       "4       0.2320   RC      1.0  -12.540525  ...        NaN        NaN   \n",
       "\n",
       "   D_2H_Rain  D_2H_Snow  D_18O_std_Rain  D_18O_std_Snow  D_18O_StDev_Precip  \\\n",
       "0        NaN        NaN             NaN             NaN                 NaN   \n",
       "1        NaN        NaN             NaN             NaN                 NaN   \n",
       "2        NaN        NaN             NaN             NaN                 NaN   \n",
       "3        NaN        NaN             NaN             NaN                 NaN   \n",
       "4 -92.796701        NaN           0.232             NaN               0.232   \n",
       "\n",
       "   D_18O_Precip  D_2H_Precip  Precip_Accum  \n",
       "0           NaN          NaN           NaN  \n",
       "1           NaN          NaN           NaN  \n",
       "2           NaN          NaN           NaN  \n",
       "3           NaN          NaN           NaN  \n",
       "4    -12.540525   -92.796701     16.355125  \n",
       "\n",
       "[5 rows x 21 columns]"
      ]
     },
     "execution_count": 5,
     "metadata": {},
     "output_type": "execute_result"
    }
   ],
   "source": [
    "df['Collection_Date'] = pd.to_datetime(df['Collection_Date'])\n",
    "ff['Collection_Date'] = pd.to_datetime(ff['Collection_Date'])\n",
    "\n",
    "# merged datasets\n",
    "df = pd.merge(df, ff, on=['Collection_Date', 'Site_ID'], how='outer')\n",
    "df.head()"
   ]
  },
  {
   "cell_type": "code",
   "execution_count": 6,
   "id": "f1259e1e-3e37-4b51-ad4d-bfabd1642b4d",
   "metadata": {},
   "outputs": [],
   "source": [
    "filtered_01 = df[(df[\"Site_ID\"] == \"IB_10\")]\n",
    "#RC01 = (filtered_01['D_18O_Precip'] * filtered_01['Precip_Accum']).sum() / r2_sum"
   ]
  },
  {
   "attachments": {
    "e396cec5-1180-4792-839e-abb60d302f02.png": {
     "image/png": "[encoded data removed]"
    }
   },
   "cell_type": "markdown",
   "id": "28ed0808-5de1-40b3-9a8d-89b6699b66d5",
   "metadata": {},
   "source": [
    "### S3 Equation: Std Error for unweighted\n",
    "![image.png](attachment:e396cec5-1180-4792-839e-abb60d302f02.png)"
   ]
  },
  {
   "cell_type": "code",
   "execution_count": 7,
   "id": "aa915ee5-9bbb-4e6f-abf3-43ca0b9896d0",
   "metadata": {},
   "outputs": [
    {
     "name": "stdout",
     "output_type": "stream",
     "text": [
      "Mean: -15.448900385620915\n",
      "Variance: 19.65117183277072\n",
      "Standard Error of the Mean: 0.31267718823674273\n",
      "Standard Deviation: 4.4329642264257805\n"
     ]
    }
   ],
   "source": [
    "data = df['D_18O_Precip']\n",
    "\n",
    "# Calculate the mean\n",
    "mean_y = np.mean(data)\n",
    "\n",
    "# Calculate the variance using Bessel's correction (ddof=1)\n",
    "variance_y = np.var(data, ddof=1)\n",
    "\n",
    "# Calculate the standard error of the mean\n",
    "n = len(data)\n",
    "#standard_error = np.sqrt(variance_y / n)\n",
    "\n",
    "standard_error = np.sqrt(variance_y / n)\n",
    "\n",
    "print(\"Mean:\", mean_y)\n",
    "print(\"Variance:\", variance_y)\n",
    "print(\"Standard Error of the Mean:\", standard_error)\n",
    "standard_deviation = np.sqrt(variance_y)\n",
    "print(\"Standard Deviation:\", standard_deviation)\n",
    "\n",
    "#np.var is the same unweighed equation"
   ]
  },
  {
   "cell_type": "markdown",
   "id": "bdf4ba1a-edd9-43c0-9264-d529d75752d0",
   "metadata": {},
   "source": [
    "Weighted average using std error not volume"
   ]
  },
  {
   "cell_type": "raw",
   "id": "c51dcbca-ea58-43d9-8c8d-8b214a5734b8",
   "metadata": {},
   "source": [
    "# Calculate the error propagation for the weighted average\n",
    "propagated_variance = np.sum((weights**2) * (sigma_precip**2)) / (np.sum(weights)**2)\n",
    "propagated_std_dev = np.sqrt(propagated_variance)\n",
    "\n",
    "print(\"Mass-Weighted Average:\", w_avg)\n",
    "print(\"Propagated Standard Deviation:\", propagated_std_dev)"
   ]
  },
  {
   "cell_type": "code",
   "execution_count": 8,
   "id": "d6f71eaa-219c-4b91-a973-11eaebaf0094",
   "metadata": {},
   "outputs": [
    {
     "data": {
      "image/png": "[encoded data removed]",
      "text/plain": [
       "<Figure size 640x480 with 1 Axes>"
      ]
     },
     "metadata": {},
     "output_type": "display_data"
    }
   ],
   "source": [
    "rain = {\n",
    "    'Group': ['1', '2', '3', '4','5','6',\n",
    "             '7','8','9','10'],\n",
    "    'Weighted Average': [-11.85, -11.05, -11.32, -12.08,-11.69,\n",
    "                       -12.95,-12.48,-13.81, -13.93,-13.78 ],\n",
    "    'Std Dev': [0.076,0.043,0.060, 0.037,0.031,\n",
    "               0.034,0.049,0.11,0.085,0.11]\n",
    "}\n",
    "rain = pd.DataFrame(rain)\n",
    "\n",
    "snow = {\n",
    "    'Group': ['1', '2', '3', '4','5',\n",
    "              '6','7','8','9','10'],\n",
    "    'Weighted Average': [-20.59,-17.67,-18.55,-20.94, -20.14,\n",
    "                        -18.65, -20.44,-18.80, -18.57, -19.11],\n",
    "    'Std Dev': [0.052,0.050,0.039, 0.039, 0.033,\n",
    "               0.033, 0.029, 0.060, 0.033, 0.015]\n",
    "}\n",
    "snow = pd.DataFrame(snow)\n",
    "\n",
    "# (std dev not volume)\n",
    "plt.errorbar(rain['Group'], rain['Weighted Average'], yerr=rain['Std Dev'], fmt='o', color='darkred', ecolor='black', elinewidth=5, capsize=6)\n",
    "plt.errorbar(snow['Group'], snow['Weighted Average'], yerr=snow['Std Dev'], fmt='o', color='steelblue', ecolor='black', elinewidth=5, capsize=6)\n",
    "plt.title('Event Weighted Average Isotopic Compositions')\n",
    "plt.xlabel('Site')\n",
    "plt.ylabel('Weighted Average D18O');"
   ]
  },
  {
   "attachments": {
    "077b5df5-99e7-4293-a3e8-c3e6f36ab3dd.png": {
     "image/png": "[encoded data removed]"
    },
    "3300f74f-153b-4ea5-bb3a-f12bdbdacc31.png": {
     "image/png": "[encoded data removed]"
    },
    "bc0f5b93-b28d-4757-ac26-820dace142ba.png": {
     "image/png": "[encoded data removed]"
    }
   },
   "cell_type": "markdown",
   "id": "32bed200-1724-4bbc-87d5-94e9b653fca2",
   "metadata": {},
   "source": [
    "## Gaussian Error Propigation for Weighted Average\n",
    "### Equations:\n",
    "S4 ![image.png](attachment:3300f74f-153b-4ea5-bb3a-f12bdbdacc31.png)  S5 ![image.png](attachment:bc0f5b93-b28d-4757-ac26-820dace142ba.png) \n",
    "S6 ![image.png](attachment:077b5df5-99e7-4293-a3e8-c3e6f36ab3dd.png)"
   ]
  },
  {
   "attachments": {
    "f90f920f-fbf8-459c-8ca0-eca15df94faa.png": {
     "image/png": "[encoded data removed]"
    }
   },
   "cell_type": "markdown",
   "id": "f8626ef5-0a5b-47d2-9397-ff1dffc416c1",
   "metadata": {},
   "source": [
    "![image.png](attachment:f90f920f-fbf8-459c-8ca0-eca15df94faa.png)"
   ]
  },
  {
   "cell_type": "code",
   "execution_count": 9,
   "id": "9c78806a-7047-4106-a294-c34480efdc6d",
   "metadata": {},
   "outputs": [
    {
     "name": "stdout",
     "output_type": "stream",
     "text": [
      "     D_18O_Rain  individual_SE\n",
      "0           NaN            NaN\n",
      "1           NaN            NaN\n",
      "2           NaN            NaN\n",
      "3           NaN            NaN\n",
      "4    -12.540525       0.617514\n",
      "..          ...            ...\n",
      "196         NaN            NaN\n",
      "197         NaN            NaN\n",
      "198  -12.729516       0.806505\n",
      "199  -13.009671       1.086660\n",
      "200  -12.450373       0.527362\n",
      "\n",
      "[201 rows x 2 columns]\n",
      "Overall SE: 0.000877636805122995\n"
     ]
    }
   ],
   "source": [
    "df['D_18O_Rain']\n",
    "df['D_18O_std_Rain']\n",
    "df['rain_accum'] = np.where(df['Type'] == 'RC', df['Precip_Accum'], np.nan)\n",
    "\n",
    "\n",
    "# Calculating SE for each event\n",
    "df['weighted_mean'] = df['rain_accum'] * df['D_18O_Rain']\n",
    "df['weighted_variance'] = df['rain_accum'] * (df['D_18O_Rain'] - df['D_18O_Rain'].mean())**2\n",
    "\n",
    "# Calculate total weights and weighted mean for entire dataset\n",
    "total_weight = df['rain_accum'].sum()\n",
    "overall_weighted_mean = df['weighted_mean'].sum() / total_weight\n",
    "\n",
    "# Applying the individual event SE calculation\n",
    "df['individual_SE'] = np.sqrt(df['weighted_variance'] / df['rain_accum'])\n",
    "\n",
    "# Optionally, calculate overall SE if needed\n",
    "overall_variance = df['weighted_variance'].sum() / (total_weight**2)\n",
    "n_eff = (total_weight**2) / df['rain_accum'].sum()\n",
    "overall_SE = np.sqrt(overall_variance / n_eff)\n",
    "\n",
    "print(df[['D_18O_Rain', 'individual_SE']])\n",
    "print(\"Overall SE:\", overall_SE)"
   ]
  },
  {
   "cell_type": "code",
   "execution_count": 10,
   "id": "0eb52973-b0d5-4468-9f93-0ef6aa85220a",
   "metadata": {},
   "outputs": [
    {
     "name": "stdout",
     "output_type": "stream",
     "text": [
      "    D_18O_Snow  individual_SE\n",
      "40         NaN            NaN\n",
      "41         NaN            NaN\n",
      "42  -17.305670       1.810155\n",
      "43  -18.176109       0.939716\n",
      "44  -17.899088       1.216737\n",
      "45  -18.108610       1.007215\n",
      "46  -18.824681       0.291144\n",
      "47         NaN            NaN\n",
      "48  -18.286544       0.829281\n",
      "49  -17.718105       1.397720\n",
      "50  -17.656088       1.459737\n",
      "51  -18.052562       1.063263\n",
      "52  -17.771356       1.344469\n",
      "53  -17.960485       1.155340\n",
      "54  -17.910480       1.205345\n",
      "55  -17.398432       1.717393\n",
      "56         NaN            NaN\n",
      "57  -21.392028       2.276203\n",
      "58  -20.299790       1.183965\n",
      "59  -20.317365       1.201540\n",
      "Overall SE: 0.00038497084212535035\n"
     ]
    }
   ],
   "source": [
    "df['D_18O_Snow']\n",
    "df['D_18O_std_Snow']\n",
    "df['snow_accum'] = np.where(df['Type'] == 'IB', df['Precip_Accum'], np.nan)\n",
    "\n",
    "\n",
    "# Calculating SE for each event\n",
    "df['weighted_mean'] = df['snow_accum'] * df['D_18O_Snow']\n",
    "df['weighted_variance'] = df['snow_accum'] * (df['D_18O_Snow'] - df['D_18O_Snow'].mean())**2\n",
    "\n",
    "# Calculate total weights and weighted mean for entire dataset\n",
    "total_weight = df['snow_accum'].sum()\n",
    "overall_weighted_mean = df['weighted_mean'].sum() / total_weight\n",
    "\n",
    "# Applying the individual event SE calculation\n",
    "df['individual_SE'] = np.sqrt(df['weighted_variance'] / df['snow_accum'])\n",
    "\n",
    "# Optionally, calculate overall SE if needed\n",
    "overall_variance = df['weighted_variance'].sum() / (total_weight**2)\n",
    "n_eff = (total_weight**2) / df['snow_accum'].sum()\n",
    "overall_SE = np.sqrt(overall_variance / n_eff)\n",
    "\n",
    "print(df[['D_18O_Snow', 'individual_SE']][40:60])\n",
    "print(\"Overall SE:\", overall_SE)"
   ]
  },
  {
   "cell_type": "code",
   "execution_count": 11,
   "id": "ed291e72-ef15-4bf0-b067-5dc9f8e43ec5",
   "metadata": {},
   "outputs": [
    {
     "name": "stdout",
     "output_type": "stream",
     "text": [
      "Weighted Mean: -19.375278879570295\n",
      "Weighted Variance: 4.60875013480004\n",
      "Effective Sample Size: 44.72503224800969\n",
      "Standard Error of Weighted Mean: 0.32100829171298645\n"
     ]
    }
   ],
   "source": [
    "y = df['D_18O_Snow']  # isotopic measurements\n",
    "w = df['snow_accum']  # weights (precipitation volumes mm)\n",
    "\n",
    "# Calculate weighted average\n",
    "yw = np.sum(w * y) / np.sum(w)\n",
    "\n",
    "# Calculate weighted variance\n",
    "var_w = (np.sum(w * (y - yw) ** 2) / np.sum(w)) * ((np.sum(w)**2)/ ((np.sum(w)**2)-np.sum(w**2)))\n",
    "\n",
    "# Calculate effective sample size\n",
    "n_eff = (np.sum(w) ** 2) / np.sum(w ** 2)\n",
    "\n",
    "# Calculate standard error of the weighted mean\n",
    "se_yw_snow = np.sqrt(var_w / n_eff)\n",
    "\n",
    "print(\"Weighted Mean:\", yw)\n",
    "print(\"Weighted Variance:\", var_w)\n",
    "print(\"Effective Sample Size:\", n_eff)\n",
    "print(\"Standard Error of Weighted Mean:\", se_yw_snow)\n",
    "\n",
    "#weight for each season from am\n",
    "#s5 weighted variand and neff on each case to get std error: en member signatures"
   ]
  },
  {
   "cell_type": "code",
   "execution_count": 12,
   "id": "3c75f55a-c8c7-4aee-b87f-0c1e815c2309",
   "metadata": {},
   "outputs": [
    {
     "name": "stdout",
     "output_type": "stream",
     "text": [
      "Weighted Mean: -13.191884118977041\n",
      "Weighted Variance: 9.622455042872064\n",
      "Effective Sample Size: 29.477686579534822\n",
      "Standard Error of Weighted Mean: 0.5713421265237051\n"
     ]
    }
   ],
   "source": [
    "y = df['D_18O_Rain']  # isotopic measurements\n",
    "w = df['rain_accum']  # weights (precipitation volumes mm)\n",
    "\n",
    "# Calculate weighted average\n",
    "yw = np.sum(w * y) / np.sum(w)\n",
    "\n",
    "# Calculate weighted variance\n",
    "var_w = (np.sum(w * (y - yw) ** 2) / np.sum(w)) * ((np.sum(w)**2)/ ((np.sum(w)**2)-np.sum(w**2)))\n",
    "\n",
    "# Calculate effective sample size\n",
    "n_eff = (np.sum(w) ** 2) / np.sum(w ** 2)\n",
    "\n",
    "# Calculate standard error of the weighted mean\n",
    "se_yw_rain = np.sqrt(var_w / n_eff)\n",
    "\n",
    "print(\"Weighted Mean:\", yw)\n",
    "print(\"Weighted Variance:\", var_w)\n",
    "print(\"Effective Sample Size:\", n_eff)\n",
    "print(\"Standard Error of Weighted Mean:\", se_yw_rain)\n",
    "\n",
    "#weight for each season from am\n",
    "#s5 weighted variand and neff on each case to get std error: en member signatures"
   ]
  },
  {
   "cell_type": "markdown",
   "id": "b97eff95-ae6e-4c1c-b02e-f269600c333e",
   "metadata": {},
   "source": [
    "# Streamflow cold vs warm season \n",
    "## eq(5) mass weighted std dev"
   ]
  },
  {
   "cell_type": "code",
   "execution_count": 13,
   "id": "a2340441-24f0-458f-a33d-182123db00d9",
   "metadata": {},
   "outputs": [],
   "source": [
    "df['MC_Sampling'] = df[df['Type'] == 'MC'][['Collection_Date']]\n",
    "new_df = df[['MC_Sampling', 'D_18O_MC']].copy()"
   ]
  },
  {
   "cell_type": "code",
   "execution_count": 14,
   "id": "894e7b3a-d4e7-4e32-85b4-eadb85da5f06",
   "metadata": {},
   "outputs": [],
   "source": [
    "mc_weight = pd.read_csv('../Data/13.morescreekmassweighting.csv',parse_dates = [0])\n",
    "mc_weight['MC_Sampling'] = pd.to_datetime(mc_weight['MC_Sampling'], errors='coerce', format='%m/%d/%Y')\n",
    "new_df['MC_Sampling'] = pd.to_datetime(new_df['MC_Sampling'], errors='coerce')"
   ]
  },
  {
   "cell_type": "code",
   "execution_count": 15,
   "id": "5cc4b2f2-e5e1-4804-b940-3dab03bcee4a",
   "metadata": {},
   "outputs": [
    {
     "data": {
      "text/html": [
       "<div>\n",
       "<style scoped>\n",
       "    .dataframe tbody tr th:only-of-type {\n",
       "        vertical-align: middle;\n",
       "    }\n",
       "\n",
       "    .dataframe tbody tr th {\n",
       "        vertical-align: top;\n",
       "    }\n",
       "\n",
       "    .dataframe thead th {\n",
       "        text-align: right;\n",
       "    }\n",
       "</style>\n",
       "<table border=\"1\" class=\"dataframe\">\n",
       "  <thead>\n",
       "    <tr style=\"text-align: right;\">\n",
       "      <th></th>\n",
       "      <th>datetime</th>\n",
       "      <th>MC_Sampling</th>\n",
       "      <th>MC_Q_event</th>\n",
       "      <th>Mean_Discharge_ft3_sec</th>\n",
       "      <th>D_18O_MC</th>\n",
       "    </tr>\n",
       "  </thead>\n",
       "  <tbody>\n",
       "    <tr>\n",
       "      <th>0</th>\n",
       "      <td>2022-10-01</td>\n",
       "      <td>NaT</td>\n",
       "      <td>NaN</td>\n",
       "      <td>23.3</td>\n",
       "      <td>NaN</td>\n",
       "    </tr>\n",
       "    <tr>\n",
       "      <th>176</th>\n",
       "      <td>2022-10-02</td>\n",
       "      <td>NaT</td>\n",
       "      <td>NaN</td>\n",
       "      <td>24.6</td>\n",
       "      <td>NaN</td>\n",
       "    </tr>\n",
       "    <tr>\n",
       "      <th>352</th>\n",
       "      <td>2022-10-03</td>\n",
       "      <td>NaT</td>\n",
       "      <td>NaN</td>\n",
       "      <td>24.6</td>\n",
       "      <td>NaN</td>\n",
       "    </tr>\n",
       "    <tr>\n",
       "      <th>528</th>\n",
       "      <td>2022-10-04</td>\n",
       "      <td>NaT</td>\n",
       "      <td>NaN</td>\n",
       "      <td>24.8</td>\n",
       "      <td>NaN</td>\n",
       "    </tr>\n",
       "    <tr>\n",
       "      <th>704</th>\n",
       "      <td>2022-10-05</td>\n",
       "      <td>2022-10-05</td>\n",
       "      <td>122.4</td>\n",
       "      <td>25.1</td>\n",
       "      <td>-16.055768</td>\n",
       "    </tr>\n",
       "  </tbody>\n",
       "</table>\n",
       "</div>"
      ],
      "text/plain": [
       "      datetime MC_Sampling  MC_Q_event  Mean_Discharge_ft3_sec   D_18O_MC\n",
       "0   2022-10-01         NaT         NaN                    23.3        NaN\n",
       "176 2022-10-02         NaT         NaN                    24.6        NaN\n",
       "352 2022-10-03         NaT         NaN                    24.6        NaN\n",
       "528 2022-10-04         NaT         NaN                    24.8        NaN\n",
       "704 2022-10-05  2022-10-05       122.4                    25.1 -16.055768"
      ]
     },
     "execution_count": 15,
     "metadata": {},
     "output_type": "execute_result"
    }
   ],
   "source": [
    "# Merging mc_weight with new_df for weighted stream samples\n",
    "merged_df= pd.merge(mc_weight, new_df, on='MC_Sampling', how='left')\n",
    "merged_df = merged_df.drop_duplicates(subset='datetime', keep='first')\n",
    "merged_df.head(5)"
   ]
  },
  {
   "cell_type": "markdown",
   "id": "6ec34031-cb74-4dbd-8d28-ec94880a1ab1",
   "metadata": {},
   "source": [
    "### Base Method"
   ]
  },
  {
   "cell_type": "code",
   "execution_count": 16,
   "id": "88eec9d0-9f37-4c64-afe6-5de0a41341bb",
   "metadata": {},
   "outputs": [
    {
     "name": "stdout",
     "output_type": "stream",
     "text": [
      "Mean qc: -16.6948323\n",
      "Variance qc: 0.14588189204201163\n",
      "SE of the Mean qc: 0.026940314723902976\n",
      "\n",
      "Mean qw: -16.3144612\n",
      "Variance qw: 0.21711278609459989\n",
      "SE of the Mean qw: 0.032865835070761656\n",
      "\n",
      "Mean pc: -19.11582510666667\n",
      "Variance pc: 5.0824460227250965\n",
      "SE of the Mean pc: 0.15901509710742895\n",
      "\n",
      "Mean pw: -11.92301123076923\n",
      "Variance pw: 8.217066061607786\n",
      "SE of the Mean pw: 0.20219032044002683\n"
     ]
    }
   ],
   "source": [
    "#Dates from site 4 - mid elevation most area used in the rest of equations for equation 5 (weighted rain and snow)\n",
    "df['base_Cold'] = np.where((df['MC_Sampling'] >= '2022-12-18') &\n",
    "                        (df['MC_Sampling'] < '2023-05-16'), df['D_18O_MC'], np.nan) \n",
    "df['base_Warm'] = np.where((df['MC_Sampling']  < '2022-12-18') |\n",
    "                        (df['MC_Sampling']  >= '2023-05-16'),df['D_18O_MC'], np.nan)\n",
    "\n",
    "base_MC_Cold = df['base_Cold'].mean()\n",
    "base_MC_Warm = df['base_Warm'].mean()\n",
    "delta_rain = df['D_18O_Rain'].mean()\n",
    "delta_snow = df['D_18O_Snow'].mean()\n",
    "#Warm Season Streamflow\n",
    "df['fM__base_Qw_pw'] = (base_MC_Warm - delta_snow) / (delta_rain - delta_snow)\n",
    "df['fM__base_Qw_pc'] = 1 - df['fM__base_Qw_pw']\n",
    "#Cold Season Streamflow\n",
    "df['fM__base_Qc_pw'] = (base_MC_Cold - delta_snow) / (delta_rain - delta_snow)\n",
    "df['fM__base_Qc_pc'] = 1 - df['fM__base_Qc_pw']\n",
    "\n",
    "#Standard Errors\n",
    "# Stream cold SE\n",
    "data_am1qc = df['base_Cold']\n",
    "# Calculate the mean\n",
    "mean_am1qc = np.mean(data_am1qc)\n",
    "# Calculate the variance using Bessel's correction (ddof=1)\n",
    "var_am1qc = np.var(data_am1qc, ddof=1)\n",
    "# Calculate the standard error of the mean\n",
    "n_am1qc = len(data_am1qc)\n",
    "#standard_error = np.sqrt(variance_y / n)\n",
    "se_am1qc = np.sqrt(var_am1qc / n_am1qc)\n",
    "print(\"Mean qc:\", mean_am1qc)\n",
    "print(\"Variance qc:\", var_am1qc)\n",
    "print(\"SE of the Mean qc:\", se_am1qc)\n",
    "print('')\n",
    "\n",
    "#Base Stream Warm\n",
    "data_am1qw = df['base_Warm']\n",
    "# Calculate the mean\n",
    "mean_am1qw = np.mean(data_am1qw)\n",
    "# Calculate the variance using Bessel's correction (ddof=1)\n",
    "var_am1_qw = np.var(data_am1qw, ddof=1)\n",
    "# Calculate the standard error of the mean\n",
    "n_am1qw = len(data_am1qw)\n",
    "#standard_error = np.sqrt(variance_y / n)\n",
    "se_am1qw = np.sqrt(var_am1_qw / n_am1qw)\n",
    "print(\"Mean qw:\", mean_am1qw)\n",
    "print(\"Variance qw:\", var_am1_qw)\n",
    "print(\"SE of the Mean qw:\", se_am1qw)\n",
    "print('')\n",
    "\n",
    "# Precip cold SE\n",
    "data_am1pc = df['D_18O_Snow']\n",
    "# Calculate the mean\n",
    "mean_am1pc = np.mean(data_am1pc)\n",
    "# Calculate the variance using Bessel's correction (ddof=1)\n",
    "var_am1pc = np.var(data_am1pc, ddof=1)\n",
    "# Calculate the standard error of the mean\n",
    "n_am1pc = len(data_am1pc)\n",
    "#standard_error = np.sqrt(variance_y / n)\n",
    "se_am1pc = np.sqrt(var_am1pc / n_am1pc)\n",
    "print(\"Mean pc:\", mean_am1pc)\n",
    "print(\"Variance pc:\", var_am1pc)\n",
    "print(\"SE of the Mean pc:\", se_am1pc)\n",
    "print('')\n",
    "\n",
    "#Base Precip Warm\n",
    "data_am1pw = df['D_18O_Rain']\n",
    "# Calculate the mean\n",
    "mean_am1pw = np.mean(data_am1pw)\n",
    "# Calculate the variance using Bessel's correction (ddof=1)\n",
    "var_am1_pw = np.var(data_am1pw, ddof=1)\n",
    "# Calculate the standard error of the mean\n",
    "n_am1pw = len(data_am1pw)\n",
    "#standard_error = np.sqrt(variance_y / n)\n",
    "se_am1pw = np.sqrt(var_am1_pw / n_am1pw)\n",
    "print(\"Mean pw:\", mean_am1pw)\n",
    "print(\"Variance pw:\", var_am1_pw)\n",
    "print(\"SE of the Mean pw:\", se_am1pw)"
   ]
  },
  {
   "cell_type": "code",
   "execution_count": 17,
   "id": "87225bff-f9ad-40d2-92f9-c2dad82e6485",
   "metadata": {},
   "outputs": [
    {
     "name": "stdout",
     "output_type": "stream",
     "text": [
      "1. f_Qw_pw mean 0.38946703682321354\n",
      "2. f_Qw_pc mean 0.6105329631767864\n",
      "3. f_Qc_pw mean 0.3365849371939439\n",
      "4. f_Qc_pc mean 0.6634150628060561\n",
      "1. SE of the fraction of Q-warm from P-warm: 0.11784029271920046\n",
      "2. SE of the fraction of Qw from Pc: 0.04794897324955961\n",
      "3. SE of the fraction of Qc from Pw: 0.15715948026029478\n",
      "4. SE of the fraction of Qc from Pc: 0.04045311902966359\n"
     ]
    }
   ],
   "source": [
    "#Base SE variables\n",
    "# Isotopic signatures and their standard errors\n",
    "delta_pw = -11.92  # isotopic sig for warm precipitation:  average\n",
    "delta_pc = -19.11  # isotopic sig for cold precipitation average\n",
    "delta_Qc = -16.69  # isotopic sig for cold stream mixing\n",
    "delta_Qw = -16.31 # isotopic sig for warm stream mixing  \n",
    "\n",
    "SE_delta_pw = 0.2  # standard error for warm precipitation\n",
    "SE_delta_pc = 0.159  # standard error for cold precipitation\n",
    "SE_delta_Q_c = 0.027 # standard error for cold stream mixing\n",
    "SE_delta_Q_w = 0.032 # standard error for warm stream mixing\n",
    "\n",
    "# Fraction of warm streamflow\n",
    "f_Qw_pw = df['fM__base_Qw_pw'].mean()\n",
    "f_Qw_pc = df['fM__base_Qw_pc'].mean()\n",
    "print('1. f_Qw_pw mean',f_Qw_pw)\n",
    "print('2. f_Qw_pc mean',f_Qw_pc)\n",
    "# Fraction of cold streamflow\n",
    "f_Qc_pw = df['fM__base_Qc_pw'].mean()\n",
    "f_Qc_pc = df['fM__base_Qc_pc'].mean()\n",
    "print('3. f_Qc_pw mean',f_Qc_pw)\n",
    "print('4. f_Qc_pc mean',f_Qc_pc)\n",
    "\n",
    "#1 Calculate the squared terms for each component of the equation\n",
    "term1 = ((SE_delta_Q_w) / (delta_Qw - delta_pc)) **2\n",
    "term2 = ((SE_delta_pw) / (delta_pc - delta_pw)) **2\n",
    "term3 = ((f_Qw_pc) * (SE_delta_pc  / (delta_Qw - delta_pc)))** 2\n",
    "# Summing the squared terms and taking the square root to find SE\n",
    "SE_f_Qw_pw = np.sqrt(term1 + term2 + term3)\n",
    "SE_f_Qw_pw = SE_f_Qw_pw / f_Qw_pw\n",
    "print(\"1. SE of the fraction of Q-warm from P-warm:\", SE_f_Qw_pw)\n",
    "\n",
    "#SE Eq 2. \n",
    "term1 = ((SE_delta_Q_w) / (delta_Qw - delta_pw)) **2\n",
    "term2 = ((SE_delta_pc) / (delta_pw - delta_pc)) **2\n",
    "term3 = ((f_Qw_pw) * (SE_delta_pw  / (delta_Qw - delta_pw)))** 2\n",
    "# Summing the squared terms and taking the square root to find SE \n",
    "SE_f_Qw_pc = np.sqrt(term1 + term2 + term3)\n",
    "SE_f_Qw_pc = SE_f_Qw_pc / f_Qw_pc\n",
    "print(\"2. SE of the fraction of Qw from Pc:\", (SE_f_Qw_pc))\n",
    "\n",
    "#3\n",
    "term1 = ((SE_delta_Q_c) / (delta_Qc - delta_pc)) **2 #they have the same columns\n",
    "term2 = ((SE_delta_pw) / (delta_pc - delta_pw)) **2\n",
    "term3 = ((f_Qc_pc) * (SE_delta_pc  / (delta_Qc - delta_pc)))** 2 #they have the same columns\n",
    "# Summing the squared terms and taking the square root to find SE\n",
    "SE_f_Qc_pw = np.sqrt(term1 + term2 + term3)\n",
    "SE_f_Qc_pw = SE_f_Qc_pw / f_Qc_pw\n",
    "print(\"3. SE of the fraction of Qc from Pw:\", SE_f_Qc_pw)\n",
    "\n",
    "#4\n",
    "term1 = ((SE_delta_Q_c) / (delta_Qc - delta_pw)) **2 #they have the same columns\n",
    "term2 = ((SE_delta_pc) / (delta_pw - delta_pc)) **2\n",
    "term3 = ((f_Qc_pw) * (SE_delta_pw  / (delta_Qc - delta_pw)))** 2 #they have the same columns\n",
    "# Summing the squared terms and taking the square root to find SE\n",
    "SE_f_Qc_pc = np.sqrt(term1 + term2 + term3)\n",
    "SE_f_Qc_pc = SE_f_Qc_pc / f_Qc_pc\n",
    "print(\"4. SE of the fraction of Qc from Pc:\", SE_f_Qc_pc)"
   ]
  },
  {
   "cell_type": "markdown",
   "id": "6adb342e-3d33-43e9-8532-f20e00f9f22e",
   "metadata": {},
   "source": [
    "# AM1 SE Mixing Equation:\n"
   ]
  },
  {
   "cell_type": "code",
   "execution_count": 18,
   "id": "0d0f7220-7730-490a-a6c5-0e0948e38902",
   "metadata": {},
   "outputs": [],
   "source": [
    "# Cold v warm 7+_ \n",
    "df['Cold7'] = np.where((df['Collection_Date'] >= '2022-11-03') &\n",
    "                        (df['Collection_Date'] < '2023-04-22'), df['D_18O_Precip'], \n",
    "                       np.nan) \n",
    "df['Warm7'] = np.where((df['Collection_Date']  < '2022-11-03') |\n",
    "                        (df['Collection_Date']  >= '2023-04-22'),df['D_18O_Precip'], \n",
    "                       np.nan)\n",
    "\n",
    "delta_Cold7 = df['Cold7'].mean()\n",
    "delta_Warm7 = df['Warm7'].mean()\n",
    "\n",
    "#cold vs warm streamflow\n",
    "df['delta_MC_Cold'] = np.where((df['MC_Sampling'] >= '2022-11-03') &\n",
    "                        (df['MC_Sampling'] < '2023-04-22'), df['D_18O_MC'], np.nan)\n",
    "\n",
    "\n",
    "df['delta_MC_Warm'] = np.where((df['MC_Sampling']  < '2022-11-03') |\n",
    "                        (df['MC_Sampling']  >= '2023-04-22'),df['D_18O_MC'], np.nan)\n",
    "\n",
    "#use avg streamflow for SE\n",
    "AM1_MC_Cold = df['delta_MC_Cold'].mean()\n",
    "AM1_MC_Warm = df['delta_MC_Warm'].mean()\n",
    "\n",
    "#Cold Season Streamflow\n",
    "df['AM1_fM_QC_PW'] = (AM1_MC_Cold - delta_Cold7) / (delta_Warm7 - delta_Cold7)\n",
    "df['AM1_fM_QC_PC'] = 1 - df.AM1_fM_QC_PW\n",
    "\n",
    "#Warm Season Streamflow\n",
    "df['AM1_fM_QW_PW'] = (AM1_MC_Warm - delta_Cold7) / (delta_Warm7 - delta_Cold7)\n",
    "df['AM1_fM_QW_PC'] = 1 - df.AM1_fM_QW_PW"
   ]
  },
  {
   "cell_type": "code",
   "execution_count": 19,
   "id": "e78e8a4e-7759-49a8-8659-49ab58946f84",
   "metadata": {},
   "outputs": [
    {
     "name": "stdout",
     "output_type": "stream",
     "text": [
      "Mean qc: -16.558256454545457\n",
      "Variance qc: 0.0698374489386731\n",
      "SE of the Mean qc: 0.018640010587973564\n",
      "\n",
      "Mean qw: -16.39460142857143\n",
      "Variance qw: 0.3351731928187255\n",
      "SE of the Mean qw: 0.040835380768167465\n",
      "\n",
      "Mean pc: -18.72980804761905\n",
      "Variance pc: 5.892878654508212\n",
      "SE of the Mean pc: 0.17122442656141276\n",
      "\n",
      "Mean pw: -11.454751927536233\n",
      "Variance pw: 7.248397816557247\n",
      "SE of the Mean pw: 0.18989913290847144\n"
     ]
    }
   ],
   "source": [
    "# Stream cold SE\n",
    "data_am1qc = df['delta_MC_Cold']\n",
    "# Calculate the mean\n",
    "mean_am1qc = np.mean(data_am1qc)\n",
    "# Calculate the variance using Bessel's correction (ddof=1)\n",
    "var_am1qc = np.var(data_am1qc, ddof=1)\n",
    "# Calculate the standard error of the mean\n",
    "n_am1qc = len(data_am1qc)\n",
    "#standard_error = np.sqrt(variance_y / n)\n",
    "se_am1qc = np.sqrt(var_am1qc / n_am1qc)\n",
    "print(\"Mean qc:\", mean_am1qc)\n",
    "print(\"Variance qc:\", var_am1qc)\n",
    "print(\"SE of the Mean qc:\", se_am1qc)\n",
    "print('')\n",
    "\n",
    "#AM1 Stream Warm\n",
    "data_am1qw = df['delta_MC_Warm']\n",
    "# Calculate the mean\n",
    "mean_am1qw = np.mean(data_am1qw)\n",
    "# Calculate the variance using Bessel's correction (ddof=1)\n",
    "var_am1_qw = np.var(data_am1qw, ddof=1)\n",
    "# Calculate the standard error of the mean\n",
    "n_am1qw = len(data_am1qw)\n",
    "#standard_error = np.sqrt(variance_y / n)\n",
    "se_am1qw = np.sqrt(var_am1_qw / n_am1qw)\n",
    "print(\"Mean qw:\", mean_am1qw)\n",
    "print(\"Variance qw:\", var_am1_qw)\n",
    "print(\"SE of the Mean qw:\", se_am1qw)\n",
    "print('')\n",
    "\n",
    "# Precip cold SE\n",
    "data_am1pc = df['Cold7']\n",
    "# Calculate the mean\n",
    "mean_am1pc = np.mean(data_am1pc)\n",
    "# Calculate the variance using Bessel's correction (ddof=1)\n",
    "var_am1pc = np.var(data_am1pc, ddof=1)\n",
    "# Calculate the standard error of the mean\n",
    "n_am1pc = len(data_am1pc)\n",
    "#standard_error = np.sqrt(variance_y / n)\n",
    "se_am1pc = np.sqrt(var_am1pc / n_am1pc)\n",
    "print(\"Mean pc:\", mean_am1pc)\n",
    "print(\"Variance pc:\", var_am1pc)\n",
    "print(\"SE of the Mean pc:\", se_am1pc)\n",
    "print('')\n",
    "\n",
    "#AM1 Precip Warm\n",
    "data_am1pw = df['Warm7']\n",
    "# Calculate the mean\n",
    "mean_am1pw = np.mean(data_am1pw)\n",
    "# Calculate the variance using Bessel's correction (ddof=1)\n",
    "var_am1_pw = np.var(data_am1pw, ddof=1)\n",
    "# Calculate the standard error of the mean\n",
    "n_am1pw = len(data_am1pw)\n",
    "#standard_error = np.sqrt(variance_y / n)\n",
    "se_am1pw = np.sqrt(var_am1_pw / n_am1pw)\n",
    "print(\"Mean pw:\", mean_am1pw)\n",
    "print(\"Variance pw:\", var_am1_pw)\n",
    "print(\"SE of the Mean pw:\", se_am1pw)\n",
    "#np.var is the same unweighed equation"
   ]
  },
  {
   "attachments": {
    "7c35df91-b8da-47b1-aec0-91580914f859.png": {
     "image/png": "[encoded data removed]"
    }
   },
   "cell_type": "markdown",
   "id": "e75d3468-754c-4421-a3c8-ef1eb0815a8a",
   "metadata": {},
   "source": [
    "### SE for Eq 13\n",
    "1.![image.png](attachment:7c35df91-b8da-47b1-aec0-91580914f859.png)\n",
    "###use for figure s3"
   ]
  },
  {
   "cell_type": "code",
   "execution_count": 20,
   "id": "741ff93b-dc92-45a7-996d-18324679c554",
   "metadata": {},
   "outputs": [
    {
     "name": "stdout",
     "output_type": "stream",
     "text": [
      "f_Qw_pc mean 0.6790118755783514\n",
      "f_Qw_pw mean 0.3209881244216484\n",
      "f_Qc_pw mean 0.29849276173678113\n",
      "f_Qc_pc mean 0.701507238263219\n",
      "1. SE of the fraction of warm streamflow from warm precipitation: 0.18340860128103753\n"
     ]
    }
   ],
   "source": [
    "#Am1\n",
    "# Qw from Pw / Pc\n",
    "# Isotopic signatures and their standard errors\n",
    "delta_pw = delta_Warm7  # isotopic sig for warm precipitation:  Warm7 = individual values \n",
    "delta_pc = delta_Cold7  # isotopic sig for cold precipitation Cold7\n",
    "delta_Qc = AM1_MC_Cold  # isotopic sig for cold stream mixing\n",
    "delta_Qw = AM1_MC_Warm  # isotopic sig for warm stream mixing \n",
    "\n",
    "SE_delta_pw = se_am1pw  # standard error for warm precipitation\n",
    "SE_delta_pc = se_am1pc  # standard error for cold precipitation\n",
    "\n",
    "SE_delta_Q_c = se_am1qc # standard error for cold stream mixing\n",
    "SE_delta_Q_w = se_am1qw # standard error for warm stream mixing\n",
    "\n",
    "# Fraction of summer streamflow from winter precipitation \n",
    "f_Qw_pc = df['AM1_fM_QW_PC'].mean()\n",
    "f_Qw_pw = df['AM1_fM_QW_PW'].mean()\n",
    "print('f_Qw_pc mean',f_Qw_pc)\n",
    "print('f_Qw_pw mean',f_Qw_pw)\n",
    "\n",
    "# Fraction of summer streamflow from summer precipitation (needs estimation or data)\n",
    "f_Qc_pw = df['AM1_fM_QC_PW'].mean()\n",
    "f_Qc_pc = df['AM1_fM_QC_PC'].mean()\n",
    "print('f_Qc_pw mean',f_Qc_pw)\n",
    "print('f_Qc_pc mean',f_Qc_pc)\n",
    "\n",
    "# Calculate the squared terms for each component of the equation\n",
    "term1 = ((SE_delta_Q_w) / (delta_Qw - delta_pc)) **2\n",
    "term2 = ((SE_delta_pw) / (delta_pc - delta_pw)) **2\n",
    "term3 = ((f_Qw_pc) * (SE_delta_pc  / (delta_Qw - delta_pc)))** 2\n",
    "\n",
    "# Summing the squared terms and taking the square root to find SE for f_p_s\n",
    "SE_f_Qw_pw = np.sqrt(term1 + term2 + term3)\n",
    "SE_f_Qw_pw = SE_f_Qw_pw / f_Qw_pw\n",
    "print(\"1. SE of the fraction of warm streamflow from warm precipitation:\", SE_f_Qw_pw)\n",
    "#Make sure SE calculated correctly\n",
    "# can do unweighted for the first few AM\n",
    "# subsitute for each fQ \n",
    "# should get around 9% "
   ]
  },
  {
   "attachments": {
    "3442347e-b22d-423f-b5c5-42a1ab42dffd.png": {
     "image/png": "[encoded data removed]"
    }
   },
   "cell_type": "markdown",
   "id": "32475d65-02e2-4e17-b785-1bd0018c809d",
   "metadata": {},
   "source": [
    "### Qc from Pw / Pc\n",
    "![image.png](attachment:3442347e-b22d-423f-b5c5-42a1ab42dffd.png)"
   ]
  },
  {
   "cell_type": "code",
   "execution_count": 21,
   "id": "0e53fe33-64ec-4a3c-8663-aeff8146a2ea",
   "metadata": {},
   "outputs": [
    {
     "name": "stdout",
     "output_type": "stream",
     "text": [
      "2. Standard Error of the fraction of warm streamflow from cold precipitation: 0.040986693984691694\n"
     ]
    }
   ],
   "source": [
    "# Calculate the squared terms for each component of the equation\n",
    "term1 = ((SE_delta_Q_w) / (delta_Qw - delta_pw)) **2\n",
    "term2 = ((SE_delta_pc) / (delta_pw - delta_pc)) **2\n",
    "term3 = ((f_Qw_pw) * (SE_delta_pw  / (delta_Qw - delta_pw)))** 2\n",
    "\n",
    "# Summing the squared terms and taking the square root to find SE \n",
    "SE_f_Qw_pc = np.sqrt(term1 + term2 + term3)\n",
    "SE_f_Qw_pc = SE_f_Qw_pc / f_Qw_pc\n",
    "\n",
    "print(\"2. Standard Error of the fraction of warm streamflow from cold precipitation:\", (SE_f_Qw_pc))"
   ]
  },
  {
   "attachments": {
    "702686e7-76aa-4f0a-bea2-c786e44722ca.png": {
     "image/png": "[encoded data removed]"
    },
    "ba1c12ad-27d5-48a4-9232-af2ff10b96fd.png": {
     "image/png": "[encoded data removed]"
    }
   },
   "cell_type": "markdown",
   "id": "1d74859a-e22b-47f7-a4b6-925aeffebb55",
   "metadata": {},
   "source": [
    "![image.png](attachment:702686e7-76aa-4f0a-bea2-c786e44722ca.png)\n",
    "### 2nd try i changed sQc\n",
    "![image.png](attachment:ba1c12ad-27d5-48a4-9232-af2ff10b96fd.png)"
   ]
  },
  {
   "cell_type": "code",
   "execution_count": 22,
   "id": "462f5e48-a64c-4ae5-bda6-becc7d5dda51",
   "metadata": {},
   "outputs": [
    {
     "name": "stdout",
     "output_type": "stream",
     "text": [
      "3. Standard Error of the fraction of cold streamflow from warm precipitation: 0.012779439844138655\n"
     ]
    }
   ],
   "source": [
    "# Calculate the squared terms for each component of the equation\n",
    "term1 = ((SE_delta_Q_c) / (delta_Qc - delta_pc)) **2\n",
    "term2 = ((SE_delta_pw) / (delta_pc - delta_pw)) **2\n",
    "term3 = ((f_Qc_pc) * (SE_delta_pc  / (delta_Qc - delta_pc)))** 2\n",
    "\n",
    "#this is not the right one\n",
    "#term1 = ((SE_delta_Q_c) / (delta_Qc - delta_pw)) **2 #they have the same columns\n",
    "#term2 = ((SE_delta_pc) / (delta_pw - delta_pc)) **2\n",
    "#term3 = ((f_Qc_pw) * (SE_delta_pw  / (delta_Qc - delta_pw)))** 2 #they have the same columns\n",
    "\n",
    "# Summing the squared terms and taking the square root to find SE\n",
    "SE_f_Qc_pw = term1 + term2 + term3\n",
    "SE_f_Qc_pw = SE_f_Qc_pw / f_Qc_pw\n",
    "\n",
    "print(\"3. Standard Error of the fraction of cold streamflow from warm precipitation:\", SE_f_Qc_pw)"
   ]
  },
  {
   "attachments": {
    "5c25e8df-a31a-40a8-af6c-97e667801f76.png": {
     "image/png": "[encoded data removed]"
    }
   },
   "cell_type": "markdown",
   "id": "f90d9793-da14-4e46-b611-6f8a73028e1e",
   "metadata": {},
   "source": [
    "![image.png](attachment:5c25e8df-a31a-40a8-af6c-97e667801f76.png)"
   ]
  },
  {
   "cell_type": "code",
   "execution_count": 23,
   "id": "2a109eb4-0edc-401d-bc90-04e2b54f6c48",
   "metadata": {},
   "outputs": [
    {
     "name": "stdout",
     "output_type": "stream",
     "text": [
      "4. SE of the fraction of cold streamflow from cold precipitation: 0.037462115828498004\n"
     ]
    }
   ],
   "source": [
    "#these need to have the terms equal 1 and 3 number is each column. there needs to be \n",
    "# Calculate the squared terms for each component of the equation\n",
    "term1 = ((SE_delta_Q_c) / (delta_Qc - delta_pw)) **2 #they have the same columns\n",
    "term2 = ((SE_delta_pc) / (delta_pw - delta_pc)) **2\n",
    "term3 = ((f_Qc_pw) * (SE_delta_pw  / (delta_Qc - delta_pw)))** 2 #they have the same columns\n",
    "\n",
    "# Summing the squared terms and taking the square root to find SE\n",
    "SE_f_Qc_pc = np.sqrt(term1 + term2 + term3)\n",
    "SE_f_Qc_pc = SE_f_Qc_pc / f_Qc_pc\n",
    "\n",
    "print(\"4. SE of the fraction of cold streamflow from cold precipitation:\", SE_f_Qc_pc)"
   ]
  },
  {
   "attachments": {
    "1b2f2916-3d8f-4ab8-834c-21338c6f0bde.png": {
     "image/png": "[encoded data removed]"
    }
   },
   "cell_type": "markdown",
   "id": "4b755e84-d83f-4c82-997d-c3f8a539cbd0",
   "metadata": {},
   "source": [
    "## Horizontal bars show seasonal volume-weighted precipitation means ± standard errors\n",
    "![image.png](attachment:1b2f2916-3d8f-4ab8-834c-21338c6f0bde.png)"
   ]
  },
  {
   "cell_type": "code",
   "execution_count": 24,
   "id": "e2354b96-a7e3-4b4f-9c2c-f21e3bfb1c2a",
   "metadata": {},
   "outputs": [],
   "source": [
    "#am2 or am3?? unweighted\n",
    "# Calculate weighted average\n",
    "df['wrf_Cold'] = np.where((df['Collection_Date'] >= '2022-11-11') &\n",
    "                        (df['Collection_Date'] < '2023-04-09'), df['D_18O_Precip'], np.nan) \n",
    "df['wrf_Warm'] = np.where((df['Collection_Date']  < '2022-11-11') |\n",
    "                        (df['Collection_Date']  >= '2023-04-09'),df['D_18O_Precip'], np.nan)"
   ]
  },
  {
   "attachments": {
    "769e0282-205d-4994-9e71-9fbd2f546766.png": {
     "image/png": "[encoded data removed]"
    }
   },
   "cell_type": "markdown",
   "id": "6b566230-23c6-419f-8d91-937b0cdffd1d",
   "metadata": {},
   "source": [
    "![image.png](attachment:769e0282-205d-4994-9e71-9fbd2f546766.png)"
   ]
  },
  {
   "cell_type": "raw",
   "id": "a0bb1895-c7dd-430f-a906-2dbc27d7350c",
   "metadata": {},
   "source": [
    "n1 = len(y1)\n",
    "var1 = (np.sum((y1 - y1.mean())**2) / n1) * (n1/(n1-1)) \n",
    "se1 = np.sqrt(var1/n1)\n",
    "print('unweighted cold se',se1)\n",
    "print('act cold mean', y1.mean())\n",
    "\n",
    "n = len(y2)\n",
    "var = (np.sum((y2 - y2.mean())**2) / n) * (n/(n-1)) \n",
    "se = np.sqrt(var/n)\n",
    "print('un weight warm se',se)\n",
    "print('act warm mean', y2.mean())"
   ]
  },
  {
   "cell_type": "raw",
   "id": "98068233-4a96-4bf5-8ea1-0c140fb50bba",
   "metadata": {},
   "source": [
    "# Calculating SE for each event\n",
    "df['weighted_mean'] = df['Cold7_std'] * df['Cold7']\n",
    "df['weighted_variance'] = df['Cold7_std'] * (df['Cold7'] - df['Cold7'].mean())**2\n",
    "\n",
    "# Calculate total weights and weighted mean for entire dataset\n",
    "total_weight = df['Cold7_std'].sum()\n",
    "overall_weighted_mean = df['weighted_mean'].sum() / total_weight\n",
    "\n",
    "# Applying the individual event SE calculation\n",
    "df['individual_SE'] = np.sqrt(df['weighted_variance'] / df['Cold7_std'])\n",
    "\n",
    "# Optionally, calculate overall SE if needed\n",
    "overall_variance = df['weighted_variance'].sum() / (total_weight**2)\n",
    "\n",
    "n_eff = (total_weight**2) / np.sum(df['Cold7_std']**2)\n",
    "overall_SE = np.sqrt(overall_variance / n_eff)\n",
    "\n",
    "print(df[['Cold7_std', 'individual_SE']])\n",
    "print(\"Overall SE:\", overall_SE)"
   ]
  },
  {
   "cell_type": "markdown",
   "id": "4f1c0ca2-67d0-4323-a2bc-925974eafea6",
   "metadata": {},
   "source": [
    "# AM2 SE\n",
    "Same as AM1"
   ]
  },
  {
   "cell_type": "code",
   "execution_count": 25,
   "id": "88715dcd-7989-4571-a8a3-a461b7edff7c",
   "metadata": {},
   "outputs": [
    {
     "name": "stdout",
     "output_type": "stream",
     "text": [
      "non weighted cold stream -16.558256454545454\n",
      "non weighted warm stream -16.39460142857143\n"
     ]
    }
   ],
   "source": [
    "merged_df['Cold7_avg'] = np.where((merged_df['MC_Sampling'] >= '2022-10-29') &\n",
    "                        (merged_df['MC_Sampling'] < '2023-05-01'), merged_df['D_18O_MC'], np.nan) \n",
    "merged_df['Warm7_avg'] = np.where((merged_df['MC_Sampling']  < '2022-10-29') |\n",
    "                        (merged_df['MC_Sampling']  >= '2023-05-01'),merged_df['D_18O_MC'], np.nan)\n",
    "\n",
    "\n",
    "print('non weighted cold stream', merged_df['Cold7_avg'].mean())\n",
    "print('non weighted warm stream', merged_df['Warm7_avg'].mean())"
   ]
  },
  {
   "cell_type": "markdown",
   "id": "4ca32b3c-bac7-4ec9-b246-c1a201308cc8",
   "metadata": {},
   "source": [
    "# AM3 SE"
   ]
  },
  {
   "cell_type": "code",
   "execution_count": 26,
   "id": "f8592c95-daa8-4dcd-8bef-4aeb67d2649f",
   "metadata": {},
   "outputs": [],
   "source": [
    "# AM3 - Site 4 \n",
    "# Winter Start = 2022-11-10\n",
    "# Summer Start = 2023-03-17\n",
    "conditions = [\n",
    "    (df['Collection_Date'] >= '12/13/2022') & (df['Collection_Date'] < '02/01/2023') & (df['Site_no'] == 1.0),\n",
    "    (df['Collection_Date'] >= '12/02/2022') & (df['Collection_Date'] < '03/10/2023') & (df['Site_no'] == 2.0),\n",
    "    (df['Collection_Date'] >= '12/02/2022') & (df['Collection_Date'] < '03/10/2023') & (df['Site_no'] == 3.0),\n",
    "    (df['Collection_Date'] >= '11/10/2022') & (df['Collection_Date'] < '03/17/2023') & (df['Site_no'] == 4.0),\n",
    "    (df['Collection_Date'] >= '11/16/2022') & (df['Collection_Date'] < '04/21/2023') & (df['Site_no'] == 5.0),\n",
    "    (df['Collection_Date'] >= '11/16/2022') & (df['Collection_Date'] < '04/22/2023') & (df['Site_no'] == 6.0),\n",
    "    (df['Collection_Date'] >= '11/16/2022') & (df['Collection_Date'] < '04/23/2023') & (df['Site_no'] == 7.0),\n",
    "    (df['Collection_Date'] >= '11/16/2022') & (df['Collection_Date'] < '04/23/2023') & (df['Site_no'] == 8.0),\n",
    "    (df['Collection_Date'] >= '11/02/2022') & (df['Collection_Date'] < '04/23/2023') & (df['Site_no'] == 9.0),\n",
    "    (df['Collection_Date'] >= '11/02/2022') & (df['Collection_Date'] < '04/23/2023') & (df['Site_no'] == 10.0)]\n",
    "# Define the choices\n",
    "choices = [df['D_18O_Precip'],df['D_18O_Precip'],df['D_18O_Precip'],\n",
    "           df['D_18O_Precip'],df['D_18O_Precip'],df['D_18O_Precip']\n",
    "           ,df['D_18O_Precip'],df['D_18O_Precip'],df['D_18O_Precip'],\n",
    "           df['D_18O_Precip']]\n",
    "# Create the new column\n",
    "df['wrf_Cold7'] = np.select(conditions, choices, default=np.nan)\n",
    "#warm is everything not cold\n",
    "df['wrf_Warm7'] = df.loc[df['wrf_Cold7'].isna(), 'D_18O_Precip']\n",
    "\n",
    "delta_Cold7 = df['wrf_Cold7'].mean()\n",
    "delta_Warm7 = df['wrf_Warm7'].mean()\n",
    "#MC \n",
    "df['wrf_MC_Cold7'] = np.where((df['MC_Sampling'] >= '2022-11-10') &\n",
    "                        (df['MC_Sampling'] < '2023-03-17'), df['D_18O_MC'], np.nan) \n",
    "df['wrf_MC_Warm7'] = np.where((df['MC_Sampling']  < '2022-11-10') |\n",
    "                        (df['MC_Sampling']  >= '2023-03-17'),df['D_18O_MC'], np.nan)\n",
    "#Use avg streamflow for SE\n",
    "AM3_MC_Cold = df['wrf_MC_Cold7'].mean()\n",
    "AM3_MC_Warm = df['wrf_MC_Warm7'].mean()\n",
    "\n",
    "#Cold Season Streamflow\n",
    "df['AM3_fM_QC_PW'] = (AM3_MC_Cold - delta_Cold7) / (delta_Warm7 - delta_Cold7)\n",
    "df['AM3_fM_QC_PC'] = 1 - df.AM3_fM_QC_PW\n",
    "\n",
    "#Warm Season Streamflow\n",
    "df['AM3_fM_QW_PW'] = (AM3_MC_Warm - delta_Cold7) / (delta_Warm7 - delta_Cold7)\n",
    "df['AM3_fM_QW_PC'] = 1 - df.AM3_fM_QW_PW"
   ]
  },
  {
   "cell_type": "code",
   "execution_count": 27,
   "id": "7f9581e9-9ed7-4e83-b527-b2d27d68ffdb",
   "metadata": {},
   "outputs": [
    {
     "name": "stdout",
     "output_type": "stream",
     "text": [
      "Mean qc: -16.46600077777778\n",
      "Variance qc: 0.030350419840444544\n",
      "SE of the Mean qc: 0.01228808828231847\n",
      "\n",
      "Mean qw: -16.466952125\n",
      "Variance qw: 0.3318533669410503\n",
      "SE of the Mean qw: 0.04063264421405677\n",
      "\n",
      "Mean pc: -18.915311027397262\n",
      "Variance pc: 5.44610678768514\n",
      "SE of the Mean pc: 0.16460576735096405\n",
      "\n",
      "Mean pw: -12.285800675\n",
      "Variance pw: 11.611066426452245\n",
      "SE of the Mean pw: 0.24034662392904704\n"
     ]
    }
   ],
   "source": [
    "# Am3 Stream cold SE\n",
    "data_am1qc = df['wrf_MC_Cold7']\n",
    "# Calculate the mean\n",
    "mean_am1qc = np.mean(data_am1qc)\n",
    "# Calculate the variance using Bessel's correction (ddof=1)\n",
    "var_am1qc = np.var(data_am1qc, ddof=1)\n",
    "# Calculate the standard error of the mean\n",
    "n_am1qc = len(data_am1qc)\n",
    "#standard_error = np.sqrt(variance_y / n)\n",
    "se_am1qc = np.sqrt(var_am1qc / n_am1qc)\n",
    "print(\"Mean qc:\", mean_am1qc)\n",
    "print(\"Variance qc:\", var_am1qc)\n",
    "print(\"SE of the Mean qc:\", se_am1qc)\n",
    "print('')\n",
    "\n",
    "#AM3 Stream Warm\n",
    "data_am1qw = df['wrf_MC_Warm7']\n",
    "# Calculate the mean\n",
    "mean_am1qw = np.mean(data_am1qw)\n",
    "# Calculate the variance using Bessel's correction (ddof=1)\n",
    "var_am1_qw = np.var(data_am1qw, ddof=1)\n",
    "# Calculate the standard error of the mean\n",
    "n_am1qw = len(data_am1qw)\n",
    "#standard_error = np.sqrt(variance_y / n)\n",
    "se_am1qw = np.sqrt(var_am1_qw / n_am1qw)\n",
    "print(\"Mean qw:\", mean_am1qw)\n",
    "print(\"Variance qw:\", var_am1_qw)\n",
    "print(\"SE of the Mean qw:\", se_am1qw)\n",
    "print('')\n",
    "\n",
    "# Precip cold SE\n",
    "data_am1pc = df['wrf_Cold7']\n",
    "# Calculate the mean\n",
    "mean_am1pc = np.mean(data_am1pc)\n",
    "# Calculate the variance using Bessel's correction (ddof=1)\n",
    "var_am1pc = np.var(data_am1pc, ddof=1)\n",
    "# Calculate the standard error of the mean\n",
    "n_am1pc = len(data_am1pc)\n",
    "#standard_error = np.sqrt(variance_y / n)\n",
    "se_am1pc = np.sqrt(var_am1pc / n_am1pc)\n",
    "print(\"Mean pc:\", mean_am1pc)\n",
    "print(\"Variance pc:\", var_am1pc)\n",
    "print(\"SE of the Mean pc:\", se_am1pc)\n",
    "print('')\n",
    "\n",
    "#AM3 Precip Warm\n",
    "data_am1pw = df['wrf_Warm7']\n",
    "# Calculate the mean\n",
    "mean_am1pw = np.mean(data_am1pw)\n",
    "# Calculate the variance using Bessel's correction (ddof=1)\n",
    "var_am1_pw = np.var(data_am1pw, ddof=1)\n",
    "# Calculate the standard error of the mean\n",
    "n_am1pw = len(data_am1pw)\n",
    "#standard_error = np.sqrt(variance_y / n)\n",
    "se_am1pw = np.sqrt(var_am1_pw / n_am1pw)\n",
    "print(\"Mean pw:\", mean_am1pw)\n",
    "print(\"Variance pw:\", var_am1_pw)\n",
    "print(\"SE of the Mean pw:\", se_am1pw)\n",
    "#np.var is the same unweighed equation"
   ]
  },
  {
   "cell_type": "code",
   "execution_count": 28,
   "id": "f9894ff4-6835-4e5a-8790-250e5a4142c7",
   "metadata": {},
   "outputs": [
    {
     "name": "stdout",
     "output_type": "stream",
     "text": [
      "f_Qw_pc mean 0.6306878227421537\n",
      "f_Qw_pw mean 0.3693121772578461\n",
      "f_Qc_pw mean 0.3694556791413412\n",
      "f_Qc_pc mean 0.630544320858659\n",
      "1. SE of the fraction of Q-warm from P-warm: 0.15760078993748852\n"
     ]
    }
   ],
   "source": [
    "#Am3 SE Eq 1\n",
    "# Isotopic signatures and their standard errors\n",
    "delta_pw = delta_Warm7  # isotopic sig for warm precipitation:  Warm = individual values \n",
    "delta_pc = delta_Cold7  # isotopic sig for cold precipitation Cold\n",
    "delta_Qc = AM3_MC_Cold  # isotopic sig for cold stream mixing\n",
    "delta_Qw = AM3_MC_Warm  # isotopic sig for warm stream mixing \n",
    "\n",
    "SE_delta_pw = se_am1pw  # standard error for warm precipitation\n",
    "SE_delta_pc = se_am1pc  # standard error for cold precipitation\n",
    "\n",
    "SE_delta_Q_c = se_am1qc # standard error for cold stream mixing\n",
    "SE_delta_Q_w = se_am1qw # standard error for warm stream mixing\n",
    "\n",
    "# Fraction of warm streamflow\n",
    "f_Qw_pc = df['AM3_fM_QW_PC'].mean()\n",
    "f_Qw_pw = df['AM3_fM_QW_PW'].mean()\n",
    "print('f_Qw_pc mean',f_Qw_pc)\n",
    "print('f_Qw_pw mean',f_Qw_pw)\n",
    "# Fraction of cold streamflow\n",
    "f_Qc_pw = df['AM3_fM_QC_PW'].mean()\n",
    "f_Qc_pc = df['AM3_fM_QC_PC'].mean()\n",
    "print('f_Qc_pw mean',f_Qc_pw)\n",
    "print('f_Qc_pc mean',f_Qc_pc)\n",
    "\n",
    "#1 Calculate the squared terms for each component of the equation\n",
    "term1 = ((SE_delta_Q_w) / (delta_Qw - delta_pc)) **2\n",
    "term2 = ((SE_delta_pw) / (delta_pc - delta_pw)) **2\n",
    "term3 = ((f_Qw_pc) * (SE_delta_pc  / (delta_Qw - delta_pc)))** 2\n",
    "\n",
    "# Summing the squared terms and taking the square root to find SE\n",
    "SE_f_Qw_pw = np.sqrt(term1 + term2 + term3)\n",
    "SE_f_Qw_pw = SE_f_Qw_pw / f_Qw_pw\n",
    "print(\"1. SE of the fraction of Q-warm from P-warm:\", SE_f_Qw_pw)"
   ]
  },
  {
   "cell_type": "code",
   "execution_count": 29,
   "id": "6441e81b-b899-441d-b5e5-a32be54621fd",
   "metadata": {},
   "outputs": [
    {
     "name": "stdout",
     "output_type": "stream",
     "text": [
      "2. SE of the fraction of Qw from Pc: 0.054040175906622016\n",
      "3. SE of the fraction of Qc from Pw: 0.15155563350714074\n",
      "4. SE of the fraction of Qc from Pc: 0.05203140351123079\n"
     ]
    }
   ],
   "source": [
    "#Am3 SE Eq 2. \n",
    "term1 = ((SE_delta_Q_w) / (delta_Qw - delta_pw)) **2\n",
    "term2 = ((SE_delta_pc) / (delta_pw - delta_pc)) **2\n",
    "term3 = ((f_Qw_pw) * (SE_delta_pw  / (delta_Qw - delta_pw)))** 2\n",
    "# Summing the squared terms and taking the square root to find SE \n",
    "SE_f_Qw_pc = np.sqrt(term1 + term2 + term3)\n",
    "SE_f_Qw_pc = SE_f_Qw_pc / f_Qw_pc\n",
    "print(\"2. SE of the fraction of Qw from Pc:\", (SE_f_Qw_pc))\n",
    "\n",
    "#3\n",
    "term1 = ((SE_delta_Q_c) / (delta_Qc - delta_pc)) **2 #they have the same columns\n",
    "term2 = ((SE_delta_pw) / (delta_pc - delta_pw)) **2\n",
    "term3 = ((f_Qc_pc) * (SE_delta_pc  / (delta_Qc - delta_pc)))** 2 #they have the same columns\n",
    "# Summing the squared terms and taking the square root to find SE\n",
    "SE_f_Qc_pw = np.sqrt(term1 + term2 + term3)\n",
    "SE_f_Qc_pw = SE_f_Qc_pw / f_Qc_pw\n",
    "print(\"3. SE of the fraction of Qc from Pw:\", SE_f_Qc_pw)\n",
    "\n",
    "#4\n",
    "term1 = ((SE_delta_Q_c) / (delta_Qc - delta_pw)) **2 #they have the same columns\n",
    "term2 = ((SE_delta_pc) / (delta_pw - delta_pc)) **2\n",
    "term3 = ((f_Qc_pw) * (SE_delta_pw  / (delta_Qc - delta_pw)))** 2 #they have the same columns\n",
    "# Summing the squared terms and taking the square root to find SE\n",
    "SE_f_Qc_pc = np.sqrt(term1 + term2 + term3)\n",
    "SE_f_Qc_pc = SE_f_Qc_pc / f_Qc_pc\n",
    "print(\"4. SE of the fraction of Qc from Pc:\", SE_f_Qc_pc)"
   ]
  },
  {
   "cell_type": "markdown",
   "id": "337fa082-f0cb-4dda-afe3-308a1e9a0a54",
   "metadata": {},
   "source": [
    "# AM4 SE"
   ]
  },
  {
   "cell_type": "code",
   "execution_count": 30,
   "id": "57a2927b-6c3b-4bea-9023-527a6692bf41",
   "metadata": {},
   "outputs": [],
   "source": [
    "#AM4 \n",
    "conditions = [\n",
    "    (df['Collection_Date'] >= '12/6/2022') & (df['Collection_Date'] < '03/02/2023') & (df['Site_no'] == 1.0),\n",
    "    (df['Collection_Date'] >= '11/12/2022') & (df['Collection_Date'] < '04/01/2023') & (df['Site_no'] == 2.0),\n",
    "    (df['Collection_Date'] >= '12/03/2022') & (df['Collection_Date'] < '04/01/2023') & (df['Site_no'] == 3.0),\n",
    "    (df['Collection_Date'] >= '11/11/2022') & (df['Collection_Date'] < '04/09/2023') & (df['Site_no'] == 4.0),\n",
    "    (df['Collection_Date'] >= '11/08/2022') & (df['Collection_Date'] < '04/10/2023') & (df['Site_no'] == 5.0),\n",
    "    (df['Collection_Date'] >= '11/07/2022') & (df['Collection_Date'] < '04/26/2023') & (df['Site_no'] == 6.0),\n",
    "    (df['Collection_Date'] >= '11/07/2022') & (df['Collection_Date'] < '04/26/2023') & (df['Site_no'] == 7.0),\n",
    "    (df['Collection_Date'] >= '11/07/2022') & (df['Collection_Date'] < '04/26/2023') & (df['Site_no'] == 8.0),\n",
    "    (df['Collection_Date'] >= '10/28/2022') & (df['Collection_Date'] < '04/27/2023') & (df['Site_no'] == 9.0),\n",
    "    (df['Collection_Date'] >= '10/27/2022') & (df['Collection_Date'] < '04/29/2023') & (df['Site_no'] == 10.0)\n",
    "]\n",
    "\n",
    "# Define the choices\n",
    "choices = [df['D_18O_Precip'],df['D_18O_Precip'],df['D_18O_Precip'],\n",
    "           df['D_18O_Precip'],df['D_18O_Precip'],df['D_18O_Precip']\n",
    "           ,df['D_18O_Precip'],df['D_18O_Precip'],df['D_18O_Precip'],\n",
    "           df['D_18O_Precip']]\n",
    "\n",
    "# Create the new column\n",
    "df['moving_Cold7'] = np.select(conditions, choices, default=np.nan)\n",
    "\n",
    "# Create the new column 'warm_wrf_7' for all other values\n",
    "df['moving_Warm7'] = df.loc[df['moving_Cold7'].isna(), 'D_18O_Precip']\n",
    "\n",
    "delta_Cold = df['moving_Cold7'].mean()\n",
    "delta_Warm = df['moving_Warm7'].mean()\n",
    "\n",
    "\n",
    "df['MC_Cold'] = np.where((df['MC_Sampling'] >= '2022-11-11') &\n",
    "                        (df['MC_Sampling'] < '2023-04-09'), df['D_18O_MC'], np.nan) \n",
    "df['MC_Warm'] = np.where((df['MC_Sampling']  < '2022-11-11') |\n",
    "                        (df['MC_Sampling']  >= '2023-04-09'),df['D_18O_MC'], np.nan)\n",
    "AM4_MC_Cold = df['MC_Cold'].mean()\n",
    "AM4_MC_Warm = df['MC_Warm'].mean()\n",
    "\n",
    "#Cold Season Streamflow\n",
    "df['AM4_fM_QC_PW'] = (AM4_MC_Cold - delta_Cold) / (delta_Warm - delta_Cold)\n",
    "df['AM4_fM_QC_PC'] = 1 - df.AM4_fM_QC_PW\n",
    "\n",
    "#Warm Season Streamflow\n",
    "df['AM4_fM_QW_PW'] = (AM4_MC_Warm - delta_Cold) / (delta_Warm - delta_Cold)\n",
    "df['AM4_fM_QW_PC'] = 1 - df.AM4_fM_QW_PW"
   ]
  },
  {
   "cell_type": "code",
   "execution_count": 31,
   "id": "eb471958-ea59-4b2c-a190-10d58d1fe22f",
   "metadata": {},
   "outputs": [
    {
     "name": "stdout",
     "output_type": "stream",
     "text": [
      "Mean qc: -16.503651100000003\n",
      "Variance qc: 0.04115361860365578\n",
      "SE of the Mean qc: 0.014308891332401213\n",
      "\n",
      "Mean qw: -16.441915333333334\n",
      "Variance qw: 0.3448113342318099\n",
      "SE of the Mean qw: 0.04141834466495642\n",
      "\n",
      "Mean pc: -18.8366567654321\n",
      "Variance pc: 5.721939610835305\n",
      "SE of the Mean pc: 0.16872273482828815\n",
      "\n",
      "Mean pw: -11.637674458333331\n",
      "Variance pw: 7.799474540191099\n",
      "SE of the Mean pw: 0.19698567440641146\n"
     ]
    }
   ],
   "source": [
    "# Am4 Stream cold SE\n",
    "# take the average for the streamflow isotope not individal in the model. \n",
    "data_am1qc = df['MC_Cold']\n",
    "# Calculate the mean\n",
    "mean_am1qc = np.mean(data_am1qc)\n",
    "# Calculate the variance using Bessel's correction (ddof=1)\n",
    "var_am1qc = np.var(data_am1qc, ddof=1)\n",
    "# Calculate the standard error of the mean\n",
    "n_am1qc = len(data_am1qc)\n",
    "#standard_error = np.sqrt(variance_y / n)\n",
    "se_am1qc = np.sqrt(var_am1qc / n_am1qc)\n",
    "print(\"Mean qc:\", mean_am1qc)\n",
    "print(\"Variance qc:\", var_am1qc)\n",
    "print(\"SE of the Mean qc:\", se_am1qc)\n",
    "print('')\n",
    "\n",
    "#AM4 Stream Warm\n",
    "data_am1qw = df['MC_Warm']\n",
    "# Calculate the mean\n",
    "mean_am1qw = np.mean(data_am1qw)\n",
    "# Calculate the variance using Bessel's correction (ddof=1)\n",
    "var_am1_qw = np.var(data_am1qw, ddof=1)\n",
    "# Calculate the standard error of the mean\n",
    "n_am1qw = len(data_am1qw)\n",
    "#standard_error = np.sqrt(variance_y / n)\n",
    "se_am1qw = np.sqrt(var_am1_qw / n_am1qw)\n",
    "print(\"Mean qw:\", mean_am1qw)\n",
    "print(\"Variance qw:\", var_am1_qw)\n",
    "print(\"SE of the Mean qw:\", se_am1qw)\n",
    "print('')\n",
    "\n",
    "# Precip cold SE\n",
    "data_am1pc = df['moving_Cold7']\n",
    "# Calculate the mean\n",
    "mean_am1pc = np.mean(data_am1pc)\n",
    "# Calculate the variance using Bessel's correction (ddof=1)\n",
    "var_am1pc = np.var(data_am1pc, ddof=1)\n",
    "# Calculate the standard error of the mean\n",
    "n_am1pc = len(data_am1pc)\n",
    "#standard_error = np.sqrt(variance_y / n)\n",
    "se_am1pc = np.sqrt(var_am1pc / n_am1pc)\n",
    "print(\"Mean pc:\", mean_am1pc)\n",
    "print(\"Variance pc:\", var_am1pc)\n",
    "print(\"SE of the Mean pc:\", se_am1pc)\n",
    "print('')\n",
    "\n",
    "#AM4 Precip Warm\n",
    "data_am1pw = df['moving_Warm7']\n",
    "# Calculate the mean\n",
    "mean_am1pw = np.mean(data_am1pw)\n",
    "# Calculate the variance using Bessel's correction (ddof=1)\n",
    "var_am1_pw = np.var(data_am1pw, ddof=1)\n",
    "# Calculate the standard error of the mean\n",
    "n_am1pw = len(data_am1pw)\n",
    "#standard_error = np.sqrt(variance_y / n)\n",
    "se_am1pw = np.sqrt(var_am1_pw / n_am1pw)\n",
    "print(\"Mean pw:\", mean_am1pw)\n",
    "print(\"Variance pw:\", var_am1_pw)\n",
    "print(\"SE of the Mean pw:\", se_am1pw)\n",
    "#np.var is the same unweighed equation"
   ]
  },
  {
   "cell_type": "code",
   "execution_count": 32,
   "id": "90049ead-038c-4d6b-ad7c-b1a13d094127",
   "metadata": {},
   "outputs": [
    {
     "name": "stdout",
     "output_type": "stream",
     "text": [
      "1. f_Qw_pw mean 0.33264999550524804\n",
      "2. f_Qw_pc mean 0.6673500044947521\n",
      "3. f_Qc_pw mean 0.3240743713360107\n",
      "4. f_Qc_pc mean 0.6759256286639894\n"
     ]
    }
   ],
   "source": [
    "#Am4 SE Eq 1\n",
    "# Isotopic signatures and their standard errors\n",
    "delta_pw = delta_Warm  # isotopic sig for warm precipitation:  Warm = individual values \n",
    "delta_pc = delta_Cold  # isotopic sig for cold precipitation Cold\n",
    "delta_Qc = AM4_MC_Cold  # isotopic sig for cold stream mixing\n",
    "delta_Qw = AM4_MC_Warm  # isotopic sig for warm stream mixing \n",
    "\n",
    "SE_delta_pw = se_am1pw  # standard error for warm precipitation\n",
    "SE_delta_pc = se_am1pc  # standard error for cold precipitation\n",
    "\n",
    "SE_delta_Q_c = se_am1qc # standard error for cold stream mixing\n",
    "SE_delta_Q_w = se_am1qw # standard error for warm stream mixing\n",
    "\n",
    "# Fraction of warm streamflow\n",
    "f_Qw_pw = df['AM4_fM_QW_PW'].mean()\n",
    "f_Qw_pc = df['AM4_fM_QW_PC'].mean()\n",
    "print('1. f_Qw_pw mean',f_Qw_pw)\n",
    "print('2. f_Qw_pc mean',f_Qw_pc)\n",
    "# Fraction of cold streamflow\n",
    "f_Qc_pw = df['AM4_fM_QC_PW'].mean()\n",
    "f_Qc_pc = df['AM4_fM_QC_PC'].mean()\n",
    "print('3. f_Qc_pw mean',f_Qc_pw)\n",
    "print('4. f_Qc_pc mean',f_Qc_pc)"
   ]
  },
  {
   "cell_type": "code",
   "execution_count": 33,
   "id": "4d8be4ac-a64c-4a6a-9ad3-749fd1eb2b46",
   "metadata": {},
   "outputs": [
    {
     "name": "stdout",
     "output_type": "stream",
     "text": [
      "1. SE of the fraction of Q-warm from P-warm: 0.17160441877504728\n",
      "2. SE of the fraction of Qw from Pc: 0.04263793616066153\n",
      "3. SE of the fraction of Qc from Pw: 0.17389524534280648\n",
      "4. SE of the fraction of Qc from Pc: 0.03997415156836063\n"
     ]
    }
   ],
   "source": [
    "#AM4\n",
    "#1 Calculate the squared terms for each component of the equation\n",
    "term1 = ((SE_delta_Q_w) / (delta_Qw - delta_pc)) **2\n",
    "term2 = ((SE_delta_pw) / (delta_pc - delta_pw)) **2\n",
    "term3 = ((f_Qw_pc) * (SE_delta_pc  / (delta_Qw - delta_pc)))** 2\n",
    "# Summing the squared terms and taking the square root to find SE\n",
    "SE_f_Qw_pw = np.sqrt(term1 + term2 + term3)\n",
    "SE_f_Qw_pw = SE_f_Qw_pw / f_Qw_pw\n",
    "print(\"1. SE of the fraction of Q-warm from P-warm:\", SE_f_Qw_pw)\n",
    "\n",
    "#SE Eq 2. \n",
    "term1 = ((SE_delta_Q_w) / (delta_Qw - delta_pw)) **2\n",
    "term2 = ((SE_delta_pc) / (delta_pw - delta_pc)) **2\n",
    "term3 = ((f_Qw_pw) * (SE_delta_pw  / (delta_Qw - delta_pw)))** 2\n",
    "# Summing the squared terms and taking the square root to find SE \n",
    "SE_f_Qw_pc = np.sqrt(term1 + term2 + term3)\n",
    "SE_f_Qw_pc = SE_f_Qw_pc / f_Qw_pc\n",
    "print(\"2. SE of the fraction of Qw from Pc:\", (SE_f_Qw_pc))\n",
    "\n",
    "#3\n",
    "term1 = ((SE_delta_Q_c) / (delta_Qc - delta_pc)) **2 #they have the same columns\n",
    "term2 = ((SE_delta_pw) / (delta_pc - delta_pw)) **2\n",
    "term3 = ((f_Qc_pc) * (SE_delta_pc  / (delta_Qc - delta_pc)))** 2 #they have the same columns\n",
    "# Summing the squared terms and taking the square root to find SE\n",
    "SE_f_Qc_pw = np.sqrt(term1 + term2 + term3)\n",
    "SE_f_Qc_pw = SE_f_Qc_pw / f_Qc_pw\n",
    "print(\"3. SE of the fraction of Qc from Pw:\", SE_f_Qc_pw)\n",
    "\n",
    "#4\n",
    "term1 = ((SE_delta_Q_c) / (delta_Qc - delta_pw)) **2 #they have the same columns\n",
    "term2 = ((SE_delta_pc) / (delta_pw - delta_pc)) **2\n",
    "term3 = ((f_Qc_pw) * (SE_delta_pw  / (delta_Qc - delta_pw)))** 2 #they have the same columns\n",
    "# Summing the squared terms and taking the square root to find SE\n",
    "SE_f_Qc_pc = np.sqrt(term1 + term2 + term3)\n",
    "SE_f_Qc_pc = SE_f_Qc_pc / f_Qc_pc\n",
    "print(\"4. SE of the fraction of Qc from Pc:\", SE_f_Qc_pc)"
   ]
  },
  {
   "attachments": {
    "68ccc630-6f46-46af-93c9-7943b1642935.png": {
     "image/png": "[encoded data removed]"
    }
   },
   "cell_type": "markdown",
   "id": "3911a36e-1fbb-40b9-b923-d42a066d8a24",
   "metadata": {},
   "source": [
    "# AM5 SE\n",
    "## need to use weighted for everything\n",
    "### Winter Start = 2022-12-18\n",
    "### Summer Start = 2023-05-16 \n",
    "![image.png](attachment:68ccc630-6f46-46af-93c9-7943b1642935.png)"
   ]
  },
  {
   "cell_type": "code",
   "execution_count": 34,
   "id": "3f9ad955-47a8-4f37-89db-9cb1106d700d",
   "metadata": {},
   "outputs": [],
   "source": [
    "delta_MCE_Snow = -19.53\n",
    "#Weighted Mean: -19.816\n",
    "SE_snow = 0.414\n",
    "\n",
    "delta_MCE_Rain = -12.80\n",
    "#Weighted Mean: -12.82\n",
    "SE_rain = 0.495\n",
    "\n",
    "#USE SITE 4 DATES FOR RAIN AND SNOW\n",
    "merged_df['stream_Warm'] = np.where((merged_df['MC_Sampling'] >= '2023-05-16') &\n",
    "                        (merged_df['MC_Sampling'] < '2023-12-18')\n",
    "                                         | (merged_df['MC_Sampling'] < '2022-12-18'), merged_df['D_18O_MC'], np.nan) \n",
    "merged_df['stream_Cold'] = np.where((merged_df['MC_Sampling']  >= '2022-12-18') &\n",
    "                        (merged_df['MC_Sampling']  < '2023-05-16'),merged_df['D_18O_MC'], np.nan)\n",
    "\n",
    "warm_stream = merged_df['stream_Warm']\n",
    "cold_stream = merged_df['stream_Cold']\n",
    "\n",
    "merged_df['event_Warm_stream'] = np.where((merged_df['MC_Sampling'] >= '2023-05-16') &\n",
    "                        (merged_df['MC_Sampling'] < '2023-12-18')\n",
    "                                         | (merged_df['MC_Sampling'] < '2022-12-18'), merged_df['MC_Q_event'], np.nan) \n",
    "merged_df['event_Cold_stream'] = np.where((merged_df['MC_Sampling']  >= '2022-12-18') &\n",
    "                        (merged_df['MC_Sampling']  < '2023-05-16'),merged_df['MC_Q_event'], np.nan)\n",
    "\n",
    "MC_Cold = (merged_df['stream_Cold'] * merged_df['event_Cold_stream']).sum() / (merged_df['event_Cold_stream']).sum()\n",
    "#print('weighted cold stream',MC_Cold)\n",
    "#using average streamflow!!\n",
    "MC_Cold = MC_Cold.mean()\n",
    "\n",
    "MC_Warm = (merged_df['stream_Warm'] * merged_df['event_Warm_stream']).sum() / (merged_df['event_Warm_stream']).sum()\n",
    "\n",
    "#EMMA\n",
    "df['fM__wghtd_Qc_Rain'] = (MC_Cold - delta_MCE_Snow) / (delta_MCE_Rain - delta_MCE_Snow)\n",
    "df['fM__wghtd_Qc_Snow'] = 1 - df.fM__wghtd_Qc_Rain\n",
    "\n",
    "df['fM__wghtd_Qw_Rain'] = (MC_Warm - delta_MCE_Snow) / (delta_MCE_Rain - delta_MCE_Snow)\n",
    "df['fM__wghtd_Qw_Snow'] = 1 - df.fM__wghtd_Qw_Rain"
   ]
  },
  {
   "cell_type": "code",
   "execution_count": 35,
   "id": "e6dd213e-9892-464e-8c1e-64f099e4553e",
   "metadata": {},
   "outputs": [
    {
     "name": "stdout",
     "output_type": "stream",
     "text": [
      "Cold Weighted Mean: -17.109794047869563\n",
      "Cold Weighted Variance: 0.2584708246196119\n",
      "Cold neff: 3.650246624037188\n",
      "Cold SE Weighted Mean: 0.26609986866794666\n"
     ]
    }
   ],
   "source": [
    "#weighted seasons only\n",
    "y = merged_df['stream_Cold']  # isotopic measurements\n",
    "w = merged_df['event_Cold_stream']  # weights (streamflow volumes cfs)\n",
    "\n",
    "# Calculate weighted average\n",
    "# eq 4\n",
    "yw = np.sum(w * y) / np.sum(w)\n",
    "\n",
    "# Calculate weighted variance\n",
    "# eq 8\n",
    "var_w = (np.sum(w * (y - yw) ** 2) / np.sum(w)) * ((np.sum(w)**2)/ ((np.sum(w)**2)-np.sum(w**2)))\n",
    "\n",
    "# Calculate effective sample size\n",
    "# eq 6\n",
    "n_eff = (np.sum(w) ** 2) / np.sum(w ** 2)\n",
    "\n",
    "# Calculate standard error of the weighted mean\n",
    "# eq 5\n",
    "se_yw_c = np.sqrt(var_w / n_eff)\n",
    "\n",
    "print(\"Cold Weighted Mean:\", yw)\n",
    "print(\"Cold Weighted Variance:\", var_w)\n",
    "print(\"Cold neff:\", n_eff)\n",
    "print(\"Cold SE Weighted Mean:\", se_yw_c)"
   ]
  },
  {
   "cell_type": "code",
   "execution_count": 36,
   "id": "65ffdef1-f093-49ff-8c80-431653db34cf",
   "metadata": {},
   "outputs": [
    {
     "name": "stdout",
     "output_type": "stream",
     "text": [
      "Warm Weighted Mean: -16.98079690117298\n",
      "Warm Weighted Variance: 0.27709998560489546\n",
      "Warm neff: 3.7078703110958684\n",
      "Warm SE Weighted Mean: 0.2733732297999174\n"
     ]
    }
   ],
   "source": [
    "#weighted seasons only\n",
    "y = merged_df['stream_Warm']  # isotopic measurements\n",
    "w = merged_df['event_Warm_stream']  # weights (streamflow volumes cfs)\n",
    "\n",
    "# Calculate weighted average\n",
    "# eq 4\n",
    "yw = np.sum(w * y) / np.sum(w)\n",
    "\n",
    "# Calculate weighted variance\n",
    "# eq 8\n",
    "var_w = (np.sum(w * (y - yw) ** 2) / np.sum(w)) * ((np.sum(w)**2)/ ((np.sum(w)**2)-np.sum(w**2)))\n",
    "\n",
    "# Calculate effective sample size\n",
    "# eq 6\n",
    "n_eff = (np.sum(w) ** 2) / np.sum(w ** 2)\n",
    "\n",
    "# Calculate standard error of the weighted mean\n",
    "# eq 5\n",
    "se_yw_w = np.sqrt(var_w / n_eff)\n",
    "\n",
    "print(\"Warm Weighted Mean:\", yw)\n",
    "print(\"Warm Weighted Variance:\", var_w)\n",
    "print(\"Warm neff:\", n_eff)\n",
    "print(\"Warm SE Weighted Mean:\", se_yw_w)"
   ]
  },
  {
   "cell_type": "code",
   "execution_count": 37,
   "id": "7f06a868-1aa5-4b82-9818-de691cc17fdd",
   "metadata": {},
   "outputs": [
    {
     "name": "stdout",
     "output_type": "stream",
     "text": [
      "1. f_Qw_pw mean 0.3787820354869274\n",
      "2. f_Qw_pc mean 0.6212179645130727\n",
      "3. f_Qc_pw mean 0.359614554551328\n",
      "4. f_Qc_pc mean 0.6403854454486718\n"
     ]
    }
   ],
   "source": [
    "#Am5 SE Eq 1\n",
    "# Isotopic signatures and their standard errors\n",
    "delta_pw = delta_MCE_Rain  # isotopic sig for warm precipitation:  average\n",
    "delta_pc = delta_MCE_Snow  # isotopic sig for cold precipitation average\n",
    "delta_Qc = MC_Cold  # isotopic sig for cold stream mixing\n",
    "delta_Qw = MC_Warm  # isotopic sig for warm stream mixing \n",
    "\n",
    "SE_delta_pw = 0.495  # standard error for warm precipitation\n",
    "SE_delta_pc = 0.414  # standard error for cold precipitation\n",
    "\n",
    "SE_delta_Q_c = se_yw_c # standard error for cold stream mixing\n",
    "SE_delta_Q_w = se_yw_w # standard error for warm stream mixing\n",
    "\n",
    "# Fraction of warm streamflow\n",
    "f_Qw_pw = df['fM__wghtd_Qw_Rain'].mean()\n",
    "f_Qw_pc = df['fM__wghtd_Qw_Snow'].mean()\n",
    "print('1. f_Qw_pw mean',f_Qw_pw)\n",
    "print('2. f_Qw_pc mean',f_Qw_pc)\n",
    "# Fraction of cold streamflow\n",
    "f_Qc_pw = df['fM__wghtd_Qc_Rain'].mean()\n",
    "f_Qc_pc = df['fM__wghtd_Qc_Snow'].mean()\n",
    "print('3. f_Qc_pw mean',f_Qc_pw)\n",
    "print('4. f_Qc_pc mean',f_Qc_pc)"
   ]
  },
  {
   "cell_type": "code",
   "execution_count": 38,
   "id": "502ec0b1-9aeb-4e6f-af9f-e9d8e28d29f6",
   "metadata": {},
   "outputs": [
    {
     "name": "stdout",
     "output_type": "stream",
     "text": [
      "1. SE of the fraction of Q-warm from P-warm: 0.43451200344227886\n",
      "2. SE of the fraction of Qw from Pc: 0.16154462514288695\n",
      "3. SE of the fraction of Qc from Pw: 0.477598758698249\n",
      "4. SE of the fraction of Qc from Pc: 0.1506103454642071\n"
     ]
    }
   ],
   "source": [
    "#AM5 Weighted stream (mass) and Precip (area * mass)\n",
    "#1 Calculate the squared terms for each component of the equation\n",
    "term1 = ((SE_delta_Q_w) / (delta_Qw - delta_pc)) **2\n",
    "term2 = ((SE_delta_pw) / (delta_pc - delta_pw)) **2\n",
    "term3 = ((f_Qw_pc) * (SE_delta_pc  / (delta_Qw - delta_pc)))** 2\n",
    "# Summing the squared terms and taking the square root to find SE\n",
    "SE_f_Qw_pw = np.sqrt(term1 + term2 + term3)\n",
    "SE_f_Qw_pw = SE_f_Qw_pw / f_Qw_pw\n",
    "print(\"1. SE of the fraction of Q-warm from P-warm:\", SE_f_Qw_pw)\n",
    "\n",
    "#SE Eq 2. \n",
    "term1 = ((SE_delta_Q_w) / (delta_Qw - delta_pw)) **2\n",
    "term2 = ((SE_delta_pc) / (delta_pw - delta_pc)) **2\n",
    "term3 = ((f_Qw_pw) * (SE_delta_pw  / (delta_Qw - delta_pw)))** 2\n",
    "# Summing the squared terms and taking the square root to find SE \n",
    "SE_f_Qw_pc = np.sqrt(term1 + term2 + term3)\n",
    "SE_f_Qw_pc = SE_f_Qw_pc / f_Qw_pc\n",
    "print(\"2. SE of the fraction of Qw from Pc:\", SE_f_Qw_pc)\n",
    "\n",
    "#3\n",
    "term1 = ((SE_delta_Q_c) / (delta_Qc - delta_pc)) **2 #they have the same columns\n",
    "term2 = ((SE_delta_pw) / (delta_pc - delta_pw)) **2\n",
    "term3 = ((f_Qc_pc) * (SE_delta_pc  / (delta_Qc - delta_pc)))** 2 #they have the same columns\n",
    "# Summing the squared terms and taking the square root to find SE\n",
    "SE_f_Qc_pw = np.sqrt(term1 + term2 + term3)\n",
    "SE_f_Qc_pw = SE_f_Qc_pw / f_Qc_pw\n",
    "print(\"3. SE of the fraction of Qc from Pw:\", SE_f_Qc_pw)\n",
    "\n",
    "#4\n",
    "term1 = ((SE_delta_Q_c) / (delta_Qc - delta_pw)) **2 #they have the same columns\n",
    "term2 = ((SE_delta_pc) / (delta_pw - delta_pc)) **2\n",
    "term3 = ((f_Qc_pw) * (SE_delta_pw  / (delta_Qc - delta_pw)))** 2 #they have the same columns\n",
    "# Summing the squared terms and taking the square root to find SE\n",
    "SE_f_Qc_pc = np.sqrt(term1 + term2 + term3)\n",
    "SE_f_Qc_pc = SE_f_Qc_pc / f_Qc_pc\n",
    "print(\"4. SE of the fraction of Qc from Pc:\", SE_f_Qc_pc)"
   ]
  },
  {
   "cell_type": "markdown",
   "id": "f7e66ee2-aa4e-48e2-b8ab-03d4af23eaa3",
   "metadata": {},
   "source": [
    "# AM6 SE: Sine unweighted"
   ]
  },
  {
   "cell_type": "code",
   "execution_count": 39,
   "id": "095e2c74-94e4-49b4-93b8-beeb2af2bb51",
   "metadata": {},
   "outputs": [],
   "source": [
    "#Sine curve fitting - Site 4 @ 50% of watershed area \n",
    "# Winter Start = 2023-02-27\n",
    "# Summer Start =  2023-07-27\n",
    "\n",
    "delta_Sine_trough = -19.67\n",
    "delta_Sine_peak = -9.75\n",
    "\n",
    "\n",
    "df['sine_Warm'] = np.where((df['MC_Sampling'] >= '2023-02-27') &\n",
    "                        (df['MC_Sampling'] < '2023-07-27'), df['D_18O_MC'], np.nan) \n",
    "df['sine_Cold'] = np.where((df['MC_Sampling']  < '2023-02-27') |\n",
    "                        (df['MC_Sampling']  >= '2023-07-27'),df['D_18O_MC'], np.nan)\n",
    "\n",
    "AM6_MC_Cold = df['sine_Cold'].mean()\n",
    "AM6_MC_Warm = df['sine_Warm'].mean()\n",
    "\n",
    "df['fM__Sine_Qw_pw'] = (AM6_MC_Warm - delta_Sine_trough) / (delta_Sine_peak - delta_Sine_trough)\n",
    "df['fM__Sine_Qw_pc'] = 1 - df['fM__Sine_Qw_pw']\n",
    "\n",
    "df['fM__Sine_Qc_pw'] = (AM6_MC_Cold - delta_Sine_trough) / (delta_Sine_peak - delta_Sine_trough)\n",
    "df['fM__Sine_Qc_pc'] = 1 - df['fM__Sine_Qc_pw']"
   ]
  },
  {
   "cell_type": "code",
   "execution_count": 40,
   "id": "27497cbb-e775-4d0f-95eb-24e7a9d60cea",
   "metadata": {},
   "outputs": [
    {
     "name": "stdout",
     "output_type": "stream",
     "text": [
      "Mean qc: -16.184929599999997\n",
      "SE of the Mean qc: 0.016778866592064134\n",
      "Mean qw: -16.8891297\n",
      "SE of the Mean qw: 0.02834085302940881\n"
     ]
    }
   ],
   "source": [
    "# Am6 Stream cold SE\n",
    "data_am1qc = df['sine_Cold']\n",
    "# Calculate the mean\n",
    "mean_am1qc = np.mean(data_am1qc)\n",
    "# Calculate the variance using Bessel's correction (ddof=1)\n",
    "var_am1qc = np.var(data_am1qc, ddof=1)\n",
    "# Calculate the standard error of the mean\n",
    "n_am1qc = len(data_am1qc)\n",
    "#standard_error = np.sqrt(variance_y / n)\n",
    "se_am1qc = np.sqrt(var_am1qc / n_am1qc)\n",
    "print(\"Mean qc:\", mean_am1qc)\n",
    "print(\"SE of the Mean qc:\", se_am1qc)\n",
    "\n",
    "#AM6 Stream Warm\n",
    "data_am1qw = df['sine_Warm']\n",
    "# Calculate the mean\n",
    "mean_am1qw = np.mean(data_am1qw)\n",
    "# Calculate the variance using Bessel's correction (ddof=1)\n",
    "var_am1_qw = np.var(data_am1qw, ddof=1)\n",
    "# Calculate the standard error of the mean\n",
    "n_am1qw = len(data_am1qw)\n",
    "#standard_error = np.sqrt(variance_y / n)\n",
    "se_am1qw = np.sqrt(var_am1_qw / n_am1qw)\n",
    "print(\"Mean qw:\", mean_am1qw)\n",
    "print(\"SE of the Mean qw:\", se_am1qw)\n",
    "\n",
    "#Peak f SE 0.07915216091593402 #this was calculated through one value?? yes this was just site 10!!!\n",
    "#Trough f SE 0.1223973051897811\n",
    "#i did not try to calculate them through the other methods. doulble check to see if they would still be teh same values by using eq3\n",
    "# Precip cold SE (trough)\n",
    "data_am1pc = 0.122\n",
    "#AM6 Precip Warm (peak)\n",
    "data_am1pw = 0.079\n",
    "\n",
    "#Manual calcualation of Se 6/3/23\n",
    "#SE_Peak =  0.5911029239199097\n",
    "#SE_Trough =  0.18819139193916384\n",
    "\n",
    "#06/10/24 individaul sites / total sites\n",
    "#this is the fraction\n",
    "#SE_Peak = 0.132\n",
    "#SE_Trough = 0.111\n",
    "\n",
    "#residual SE this is raw \n",
    "SE_Peak = 0.75646\n",
    "SE_Trough =  0.7143"
   ]
  },
  {
   "cell_type": "code",
   "execution_count": 41,
   "id": "f9bdad8a-9e3a-4ad5-bb0e-e111d60ebfb3",
   "metadata": {},
   "outputs": [
    {
     "name": "stdout",
     "output_type": "stream",
     "text": [
      "1. f_Qw_pw mean 0.2803296673387096\n",
      "2. f_Qw_pc mean 0.7196703326612904\n",
      "3. f_Qc_pw mean 0.35131758064516166\n",
      "4. f_Qc_pc mean 0.6486824193548382\n"
     ]
    }
   ],
   "source": [
    "#Am6 SE Eq 1\n",
    "# Isotopic signatures and their standard errors\n",
    "delta_pw = delta_Sine_peak  # isotopic sig for warm precipitation:  average\n",
    "delta_pc = delta_Sine_trough  # isotopic sig for cold precipitation average\n",
    "delta_Qc = AM6_MC_Cold  # isotopic sig for cold stream mixing average\n",
    "delta_Qw = AM6_MC_Warm  # isotopic sig for warm stream mixing average\n",
    "## i can also use am5 mass weighing standdard error metric rather than the sine equation SE **\n",
    "#SE_delta_pw = data_am1pw  # standard error for warm precipitation\n",
    "#SE_delta_pc = data_am1pc  # standard error for cold precipitation\n",
    "SE_delta_pw = SE_Peak\n",
    "SE_delta_pC = SE_Trough\n",
    "\n",
    "SE_delta_Q_c = se_am1qc # standard error for cold stream mixing\n",
    "SE_delta_Q_w = se_am1qw # standard error for warm stream mixing\n",
    "\n",
    "# Fraction of warm streamflow\n",
    "f_Qw_pw = df['fM__Sine_Qw_pw'].mean()\n",
    "f_Qw_pc = df['fM__Sine_Qw_pc'].mean()\n",
    "print('1. f_Qw_pw mean',f_Qw_pw)\n",
    "print('2. f_Qw_pc mean',f_Qw_pc)\n",
    "# Fraction of cold streamflow\n",
    "f_Qc_pw = df['fM__Sine_Qc_pw'].mean()\n",
    "f_Qc_pc = df['fM__Sine_Qc_pc'].mean()\n",
    "print('3. f_Qc_pw mean',f_Qc_pw)\n",
    "print('4. f_Qc_pc mean',f_Qc_pc)"
   ]
  },
  {
   "cell_type": "code",
   "execution_count": 42,
   "id": "87c4db0f-2162-47e7-894a-46a241b7b90f",
   "metadata": {},
   "outputs": [
    {
     "name": "stdout",
     "output_type": "stream",
     "text": [
      "1. SE of the fraction of Q-warm from P-warm: 0.13190114136821335\n",
      "2. SE of the fraction of Qw from Pc: 0.07139214249495392\n",
      "3. SE of the fraction of Qc from Pw: 0.30888901012096875\n",
      "4. SE of the fraction of Qc from Pc: 0.09060203824037914\n"
     ]
    }
   ],
   "source": [
    "#AM6 \n",
    "#1 Calculate the squared terms for each component of the equation\n",
    "term1 = ((SE_delta_Q_w) / (delta_Qw - delta_pc)) **2\n",
    "term2 = ((SE_delta_pw) / (delta_pc - delta_pw)) **2\n",
    "# the SE_delta_pc is driving the high value term 1 and 2 are negligable\n",
    "# no this is not the case becuase a higher SE will produce a lower overall value when sqrd\n",
    "#need to look into yes thats it. the numerator needs to be smaller and it would be if the SE was smaller\n",
    "term3 = ((f_Qw_pc) * (SE_delta_pc  / (delta_Qw - delta_pc)))** 2\n",
    "# Summing the squared terms and taking the square root to find SE\n",
    "SE_f_Qw_pw = np.sqrt(term1 + term2 + term3)\n",
    "# .1319 / .719\n",
    "SE_f_Qw_pw = SE_f_Qw_pw #/ f_Qw_pw\n",
    "print(\"1. SE of the fraction of Q-warm from P-warm:\", SE_f_Qw_pw)\n",
    "\n",
    "#SE Eq 2. \n",
    "term1 = ((SE_delta_Q_w) / (delta_Qw - delta_pw)) **2\n",
    "term2 = ((SE_delta_pc) / (delta_pw - delta_pc)) **2\n",
    "term3 = ((f_Qw_pw) * (SE_delta_pw  / (delta_Qw - delta_pw)))** 2\n",
    "# Summing the squared terms and taking the square root to find SE \n",
    "SE_f_Qw_pc = np.sqrt(term1 + term2 + term3)\n",
    "SE_f_Qw_pc = SE_f_Qw_pc / f_Qw_pc\n",
    "print(\"2. SE of the fraction of Qw from Pc:\", SE_f_Qw_pc)\n",
    "\n",
    "#3\n",
    "term1 = ((SE_delta_Q_c) / (delta_Qc - delta_pc)) **2 \n",
    "term2 = ((SE_delta_pw) / (delta_pc - delta_pw)) **2\n",
    "term3 = ((f_Qc_pc) * (SE_delta_pc  / (delta_Qc - delta_pc)))** 2 \n",
    "# Summing the squared terms and taking the square root to find SE\n",
    "SE_f_Qc_pw = np.sqrt(term1 + term2 + term3)\n",
    "SE_f_Qc_pw = SE_f_Qc_pw / f_Qc_pw\n",
    "print(\"3. SE of the fraction of Qc from Pw:\", SE_f_Qc_pw)\n",
    "\n",
    "#4\n",
    "term1 = ((SE_delta_Q_c) / (delta_Qc - delta_pw)) **2 \n",
    "term2 = ((SE_delta_pc) / (delta_pw - delta_pc)) **2\n",
    "term3 = ((f_Qc_pw) * (SE_delta_pw  / (delta_Qc - delta_pw)))** 2 \n",
    "# Summing the squared terms and taking the square root to find SE\n",
    "SE_f_Qc_pc = np.sqrt(term1 + term2 + term3)\n",
    "SE_f_Qc_pc = SE_f_Qc_pc / f_Qc_pc\n",
    "print(\"4. SE of the fraction of Qc from Pc:\", SE_f_Qc_pc)"
   ]
  },
  {
   "cell_type": "markdown",
   "id": "f8dcbf74-d288-4f76-a6c0-3f4872b50305",
   "metadata": {},
   "source": [
    "# AM7 SE"
   ]
  },
  {
   "cell_type": "code",
   "execution_count": 43,
   "id": "f30d4e0d-9326-419a-9a31-ddf38507aa80",
   "metadata": {},
   "outputs": [
    {
     "name": "stdout",
     "output_type": "stream",
     "text": [
      "weighted cold stream am6 -17.1273861005571\n",
      "weighted warm stream am6 -16.906525800555034\n"
     ]
    }
   ],
   "source": [
    "#Am7 \n",
    "delta_Sine_Cold_Mass = -19.50\n",
    "delata_Sine_Warm_Mass = -10.43\n",
    "\n",
    "merged_df['sine_stream_Warm'] = np.where((merged_df['MC_Sampling'] >= '2023-05-29') &\n",
    "                        (merged_df['MC_Sampling'] < '2023-10-26')\n",
    "                                         | (merged_df['MC_Sampling'] < '2022-10-26'), merged_df['D_18O_MC'], np.nan) \n",
    "merged_df['sine__stream_Cold'] = np.where((merged_df['MC_Sampling']  >= '2022-10-26') &\n",
    "                        (merged_df['MC_Sampling']  < '2023-05-29'),merged_df['D_18O_MC'], np.nan)\n",
    "\n",
    "merged_df['event_Warm_sine'] = np.where((merged_df['MC_Sampling'] >= '2023-05-29') &\n",
    "                        (merged_df['MC_Sampling'] < '2023-10-26')\n",
    "                                         | (merged_df['MC_Sampling'] < '2022-10-26'), merged_df['MC_Q_event'], np.nan) \n",
    "merged_df['event_Cold_sine'] = np.where((merged_df['MC_Sampling']  >= '2022-10-26') &\n",
    "                        (merged_df['MC_Sampling']  < '2023-05-29'),merged_df['MC_Q_event'], np.nan)\n",
    "\n",
    "AM7_MC_Cold = (merged_df['sine__stream_Cold'] * merged_df['event_Cold_sine']).sum() / (merged_df['event_Cold_sine']).sum()\n",
    "print('weighted cold stream am6',AM7_MC_Cold)\n",
    "\n",
    "AM7_MC_Warm = (merged_df['sine_stream_Warm'] * merged_df['event_Warm_sine']).sum() / (merged_df['event_Warm_sine']).sum()\n",
    "print('weighted warm stream am6',AM7_MC_Warm)\n",
    "\n",
    "df['fM__Sine_Qw_pw_mass'] = (AM7_MC_Warm - delta_Sine_Cold_Mass) / (delata_Sine_Warm_Mass - delta_Sine_Cold_Mass)\n",
    "df['fM__Sine_Qw_pc_mass'] = 1 - df['fM__Sine_Qw_pw_mass']\n",
    "\n",
    "df['fM__Sine_Qc_pw_mass'] = (AM7_MC_Cold - delta_Sine_Cold_Mass) / (delata_Sine_Warm_Mass - delta_Sine_Cold_Mass)\n",
    "df['fM__Sine_Qc_pc_mass'] = 1 - df['fM__Sine_Qc_pw_mass']"
   ]
  },
  {
   "cell_type": "code",
   "execution_count": 44,
   "id": "afa17969-2f68-4c11-b00f-ae864ae43719",
   "metadata": {},
   "outputs": [
    {
     "name": "stdout",
     "output_type": "stream",
     "text": [
      "Cold Weighted Mean: -16.906525800555034\n",
      "Cold Weighted Variance: 0.2889147545431668\n",
      "Cold neff: 2.1284369877790255\n",
      "Cold SE Weighted Mean: 0.3684295553469248\n"
     ]
    }
   ],
   "source": [
    "#AM7 weighted seasons only convert standard error from sine curve to a percet. \n",
    "y = merged_df['sine_stream_Warm']  # isotopic measurements\n",
    "w = merged_df['event_Warm_sine']  # weights (streamflow volumes cfs)\n",
    "\n",
    "# Calculate weighted average\n",
    "# eq 4\n",
    "yw = np.sum(w * y) / np.sum(w)\n",
    "\n",
    "# Calculate weighted variance\n",
    "# eq 8\n",
    "var_w = (np.sum(w * (y - yw) ** 2) / np.sum(w)) * ((np.sum(w)**2)/ ((np.sum(w)**2)-np.sum(w**2)))\n",
    "\n",
    "# Calculate effective sample size\n",
    "# eq 6\n",
    "n_eff = (np.sum(w) ** 2) / np.sum(w ** 2)\n",
    "\n",
    "# Calculate standard error of the weighted mean\n",
    "# eq 5\n",
    "se_yw_c = np.sqrt(var_w / n_eff)\n",
    "\n",
    "print(\"Cold Weighted Mean:\", yw)\n",
    "print(\"Cold Weighted Variance:\", var_w)\n",
    "print(\"Cold neff:\", n_eff)\n",
    "print(\"Cold SE Weighted Mean:\", se_yw_c)"
   ]
  },
  {
   "cell_type": "code",
   "execution_count": 45,
   "id": "ff7519cb-a7ef-49da-b95d-76a8d64a745d",
   "metadata": {},
   "outputs": [
    {
     "name": "stdout",
     "output_type": "stream",
     "text": [
      "Warm Weighted Mean: -16.98079690117298\n",
      "Warm Weighted Variance: 0.27709998560489546\n",
      "Warm neff: 3.7078703110958684\n",
      "Warm SE Weighted Mean: 0.2733732297999174\n"
     ]
    }
   ],
   "source": [
    "#weighted seasons only\n",
    "y = merged_df['stream_Warm']  # isotopic measurements\n",
    "w = merged_df['event_Warm_stream']  # weights (streamflow volumes cfs)\n",
    "\n",
    "# Calculate weighted average\n",
    "# eq 4\n",
    "yw = np.sum(w * y) / np.sum(w)\n",
    "\n",
    "# Calculate weighted variance\n",
    "# eq 8\n",
    "var_w = (np.sum(w * (y - yw) ** 2) / np.sum(w)) * ((np.sum(w)**2)/ ((np.sum(w)**2)-np.sum(w**2)))\n",
    "\n",
    "# Calculate effective sample size\n",
    "# eq 6\n",
    "n_eff = (np.sum(w) ** 2) / np.sum(w ** 2)\n",
    "\n",
    "# Calculate standard error of the weighted mean\n",
    "# eq 5\n",
    "se_yw_w = np.sqrt(var_w / n_eff)\n",
    "\n",
    "print(\"Warm Weighted Mean:\", yw)\n",
    "print(\"Warm Weighted Variance:\", var_w)\n",
    "print(\"Warm neff:\", n_eff)\n",
    "print(\"Warm SE Weighted Mean:\", se_yw_w)"
   ]
  },
  {
   "cell_type": "code",
   "execution_count": 46,
   "id": "b80e7f17-7e4c-4358-99a2-97eafceb7c00",
   "metadata": {},
   "outputs": [
    {
     "name": "stdout",
     "output_type": "stream",
     "text": [
      "1. f_Qw_pw mean 0.2859398235330723\n",
      "2. f_Qw_pc mean 0.7140601764669279\n",
      "3. f_Qc_pw mean 0.2615891840620618\n",
      "4. f_Qc_pc mean 0.7384108159379383\n"
     ]
    }
   ],
   "source": [
    "#Am7 SE Eq 1\n",
    "# Isotopic signatures and their standard errors\n",
    "delta_pw = delata_Sine_Warm_Mass  # isotopic sig for warm precipitation:  average\n",
    "delta_pc = delta_Sine_Cold_Mass  # isotopic sig for cold precipitation average\n",
    "delta_Qc = -16.906  # isotopic sig for cold stream mixing\n",
    "delta_Qw = -16.980  # isotopic sig for warm stream mixing \n",
    "\n",
    "#where does this come from????\n",
    "#it is the same standard error as AM6. this SE for sine curve fraction, this is not weighted\n",
    "#is there a way to weight this??\n",
    "SE_delta_pw = 0.69145  # standard error for warm precipitation\n",
    "#Warm SE Weighted Mean: 0.6914581731187124\n",
    "SE_delta_pc = 0.2097  # standard error for cold precipitation\n",
    "#Cold SE Weighted Mean precip am7: 0.2097182659448261\n",
    "\n",
    "SE_delta_Q_c = se_yw_c # standard error for cold stream mixing\n",
    "SE_delta_Q_w = se_yw_w # standard error for warm stream mixing\n",
    "\n",
    "# Fraction of warm streamflow\n",
    "f_Qw_pw = df['fM__Sine_Qw_pw_mass'].mean()\n",
    "f_Qw_pc = df['fM__Sine_Qw_pc_mass'].mean()\n",
    "print('1. f_Qw_pw mean',f_Qw_pw)\n",
    "print('2. f_Qw_pc mean',f_Qw_pc)\n",
    "# Fraction of cold streamflow\n",
    "f_Qc_pw = df['fM__Sine_Qc_pw_mass'].mean()\n",
    "f_Qc_pc = df['fM__Sine_Qc_pc_mass'].mean()\n",
    "print('3. f_Qc_pw mean',f_Qc_pw)\n",
    "print('4. f_Qc_pc mean',f_Qc_pc)"
   ]
  },
  {
   "cell_type": "code",
   "execution_count": 47,
   "id": "7915e163-c668-4149-97df-1d9626342f23",
   "metadata": {},
   "outputs": [
    {
     "name": "stdout",
     "output_type": "stream",
     "text": [
      "1. SE of the fraction of Q-warm from P-warm: 0.5081322810104834\n",
      "2. SE of the fraction of Qw from Pc: 0.07906750531461872\n",
      "3. SE of the fraction of Qc from Pw: 0.6571192029181637\n",
      "4. SE of the fraction of Qc from Pc: 0.09136269638824254\n"
     ]
    }
   ],
   "source": [
    "#AM7\n",
    "#1 Calculate the squared terms for each component of the equation\n",
    "term1 = ((SE_delta_Q_w) / (delta_Qw - delta_pc)) **2\n",
    "term2 = ((SE_delta_pw) / (delta_pc - delta_pw)) **2\n",
    "term3 = ((f_Qw_pc) * (SE_delta_pc  / (delta_Qw - delta_pc)))** 2\n",
    "# Summing the squared terms and taking the square root to find SE\n",
    "SE_f_Qw_pw = np.sqrt(term1 + term2 + term3)\n",
    "SE_f_Qw_pw = SE_f_Qw_pw / f_Qw_pw\n",
    "print(\"1. SE of the fraction of Q-warm from P-warm:\", SE_f_Qw_pw)\n",
    "\n",
    "#SE Eq 2. \n",
    "term1 = ((SE_delta_Q_w) / (delta_Qw - delta_pw)) **2\n",
    "term2 = ((SE_delta_pc) / (delta_pw - delta_pc)) **2\n",
    "term3 = ((f_Qw_pw) * (SE_delta_pw  / (delta_Qw - delta_pw)))** 2\n",
    "# Summing the squared terms and taking the square root to find SE \n",
    "SE_f_Qw_pc = np.sqrt(term1 + term2 + term3)\n",
    "SE_f_Qw_pc = SE_f_Qw_pc / f_Qw_pc\n",
    "print(\"2. SE of the fraction of Qw from Pc:\", SE_f_Qw_pc)\n",
    "\n",
    "#3 - double check this term....it shouldn't be so high!!\n",
    "term1 = ((SE_delta_Q_c) / (delta_Qc - delta_pc)) **2 \n",
    "term2 = ((SE_delta_pw) / (delta_pc - delta_pw)) **2\n",
    "term3 = ((f_Qc_pc) * (SE_delta_pc  / (delta_Qc - delta_pc)))** 2 \n",
    "# Summing the squared terms and taking the square root to find SE\n",
    "SE_f_Qc_pw = np.sqrt(term1 + term2 + term3)\n",
    "SE_f_Qc_pw = SE_f_Qc_pw / f_Qc_pw\n",
    "print(\"3. SE of the fraction of Qc from Pw:\", SE_f_Qc_pw)\n",
    "\n",
    "#4\n",
    "term1 = ((SE_delta_Q_c) / (delta_Qc - delta_pw)) **2 \n",
    "term2 = ((SE_delta_pc) / (delta_pw - delta_pc)) **2\n",
    "term3 = ((f_Qc_pw) * (SE_delta_pw  / (delta_Qc - delta_pw)))** 2 \n",
    "# Summing the squared terms and taking the square root to find SE\n",
    "SE_f_Qc_pc = np.sqrt(term1 + term2 + term3)\n",
    "SE_f_Qc_pc = SE_f_Qc_pc / f_Qc_pc\n",
    "print(\"4. SE of the fraction of Qc from Pc:\", SE_f_Qc_pc)"
   ]
  },
  {
   "cell_type": "markdown",
   "id": "fba2f06b-023e-494a-b30b-551673bc3ddb",
   "metadata": {},
   "source": [
    "# AM8 SE"
   ]
  },
  {
   "cell_type": "code",
   "execution_count": 48,
   "id": "afce8893-be82-4a5b-bfcd-2ff2fb03ba39",
   "metadata": {},
   "outputs": [],
   "source": [
    "#Am8 \n",
    "d_Sine_Cold_AW = -19.85\n",
    "d_Sine_Warm_AW = -8.95\n",
    "\n",
    "df['fM__Sine_Qw_pw_aw'] = (AM7_MC_Warm - d_Sine_Cold_AW) / (d_Sine_Warm_AW - d_Sine_Cold_AW)\n",
    "df['fM__Sine_Qw_pc_aw'] = 1 - df['fM__Sine_Qw_pw_aw']\n",
    "\n",
    "df['fM__Sine_Qc_pw_aw'] = (AM7_MC_Cold - d_Sine_Cold_AW) / (d_Sine_Warm_AW - d_Sine_Cold_AW)\n",
    "df['fM__Sine_Qc_pc_aw'] = 1 - df['fM__Sine_Qc_pw_aw']"
   ]
  },
  {
   "cell_type": "code",
   "execution_count": 49,
   "id": "031c824e-f09c-439d-a1f5-7a2ac3a30e62",
   "metadata": {},
   "outputs": [
    {
     "name": "stdout",
     "output_type": "stream",
     "text": [
      "1. f_Qw_pw mean 0.27004350453623543\n",
      "2. f_Qw_pc mean 0.7299564954637646\n",
      "3. f_Qc_pw mean 0.24978109169200924\n",
      "4. f_Qc_pc mean 0.7502189083079907\n"
     ]
    }
   ],
   "source": [
    "#Am8 SE variables\n",
    "# Isotopic signatures and their standard errors\n",
    "delta_pw = d_Sine_Warm_AW  # isotopic sig for warm precipitation:  average\n",
    "delta_pc = d_Sine_Cold_AW  # isotopic sig for cold precipitation average\n",
    "delta_Qc = -16.906  # isotopic sig for cold stream mixing\n",
    "delta_Qw = -16.980  # isotopic sig for warm stream mixing  \n",
    "\n",
    "SE_delta_pw = 0.4866  # standard error for warm precipitation\n",
    "#warm SE Weighted Mean: 0.486615\n",
    "SE_delta_pc = 0.2223  # standard error for cold precipitation\n",
    "#Cold SE Weighted Mean: 0.2223\n",
    "\n",
    "SE_delta_Q_c = se_yw_c # standard error for cold stream mixing\n",
    "SE_delta_Q_w = se_yw_w # standard error for warm stream mixing\n",
    "\n",
    "# Fraction of warm streamflow\n",
    "f_Qw_pw = df['fM__Sine_Qw_pw_aw'].mean()\n",
    "f_Qw_pc = df['fM__Sine_Qw_pc_aw'].mean()\n",
    "print('1. f_Qw_pw mean',f_Qw_pw)\n",
    "print('2. f_Qw_pc mean',f_Qw_pc)\n",
    "# Fraction of cold streamflow\n",
    "f_Qc_pw = df['fM__Sine_Qc_pw_aw'].mean()\n",
    "f_Qc_pc = df['fM__Sine_Qc_pc_aw'].mean()\n",
    "print('3. f_Qc_pw mean',f_Qc_pw)\n",
    "print('4. f_Qc_pc mean',f_Qc_pc)"
   ]
  },
  {
   "cell_type": "code",
   "execution_count": 50,
   "id": "4f2f5540-4b19-434d-bea6-4e386c2da0ca",
   "metadata": {},
   "outputs": [
    {
     "name": "stdout",
     "output_type": "stream",
     "text": [
      "1. SE of the fraction of Q-warm from P-warm: 0.44224807526035664\n",
      "2. SE of the fraction of Qw from Pc: 0.058807339747246556\n",
      "3. SE of the fraction of Qc from Pw: 0.5782744157622692\n",
      "4. SE of the fraction of Qc from Pc: 0.07045449602510656\n"
     ]
    }
   ],
   "source": [
    "#AM8\n",
    "#1 Calculate the squared terms for each component of the equation\n",
    "term1 = ((SE_delta_Q_w) / (delta_Qw - delta_pc)) **2\n",
    "term2 = ((SE_delta_pw) / (delta_pc - delta_pw)) **2\n",
    "term3 = ((f_Qw_pc) * (SE_delta_pc  / (delta_Qw - delta_pc)))** 2\n",
    "# Summing the squared terms and taking the square root to find SE\n",
    "SE_f_Qw_pw = np.sqrt(term1 + term2 + term3)\n",
    "SE_f_Qw_pw = SE_f_Qw_pw / f_Qw_pw\n",
    "print(\"1. SE of the fraction of Q-warm from P-warm:\", SE_f_Qw_pw)\n",
    "\n",
    "#SE Eq 2. \n",
    "term1 = ((SE_delta_Q_w) / (delta_Qw - delta_pw)) **2\n",
    "term2 = ((SE_delta_pc) / (delta_pw - delta_pc)) **2\n",
    "term3 = ((f_Qw_pw) * (SE_delta_pw  / (delta_Qw - delta_pw)))** 2\n",
    "# Summing the squared terms and taking the square root to find SE \n",
    "SE_f_Qw_pc = np.sqrt(term1 + term2 + term3)\n",
    "SE_f_Qw_pc = SE_f_Qw_pc / f_Qw_pc\n",
    "print(\"2. SE of the fraction of Qw from Pc:\", (SE_f_Qw_pc))\n",
    "\n",
    "#3\n",
    "term1 = ((SE_delta_Q_c) / (delta_Qc - delta_pc)) **2 #they have the same columns\n",
    "term2 = ((SE_delta_pw) / (delta_pc - delta_pw)) **2\n",
    "term3 = ((f_Qc_pc) * (SE_delta_pc  / (delta_Qc - delta_pc)))** 2 #they have the same columns\n",
    "# Summing the squared terms and taking the square root to find SE\n",
    "SE_f_Qc_pw = np.sqrt(term1 + term2 + term3)\n",
    "SE_f_Qc_pw = SE_f_Qc_pw / f_Qc_pw\n",
    "print(\"3. SE of the fraction of Qc from Pw:\", SE_f_Qc_pw)\n",
    "\n",
    "#4\n",
    "term1 = ((SE_delta_Q_c) / (delta_Qc - delta_pw)) **2 #they have the same columns\n",
    "term2 = ((SE_delta_pc) / (delta_pw - delta_pc)) **2\n",
    "term3 = ((f_Qc_pw) * (SE_delta_pw  / (delta_Qc - delta_pw)))** 2 #they have the same columns\n",
    "# Summing the squared terms and taking the square root to find SE\n",
    "SE_f_Qc_pc = np.sqrt(term1 + term2 + term3)\n",
    "SE_f_Qc_pc = SE_f_Qc_pc / f_Qc_pc\n",
    "print(\"4. SE of the fraction of Qc from Pc:\", SE_f_Qc_pc)"
   ]
  },
  {
   "cell_type": "code",
   "execution_count": 51,
   "id": "44eafb68-169f-4b1e-bc14-77e8f3a0d5a0",
   "metadata": {},
   "outputs": [
    {
     "data": {
      "text/plain": [
       "<matplotlib.legend.Legend at 0x136537a7e00>"
      ]
     },
     "execution_count": 51,
     "metadata": {},
     "output_type": "execute_result"
    },
    {
     "data": {
      "image/png": "[encoded data removed]",
      "text/plain": [
       "<Figure size 1000x600 with 1 Axes>"
      ]
     },
     "metadata": {},
     "output_type": "display_data"
    }
   ],
   "source": [
    "#Precip fraction per season with standard errors\n",
    "# 8 y-values per category\n",
    "x_labels = ['Cold','Warm','Cold','Warm']\n",
    "Seasons = ['Qc - Pc','Qw - Pc','Qc - Pw','Qw - Pw']\n",
    "#Seasons = ['Warm Season Q','','Cold Season Q','Q']\n",
    "\n",
    "y_values = {   \n",
    "    'Qc - Pc': [.66,.7,.63,.68,.64,.65,.74,.75],  #4\n",
    "    'Qw - Pc': [.61,.68,.63,.67,.62,.72,.71,.73], #2\n",
    "    'Qc - Pw': [.34,.3,.37,.32,.36,.35,.26,.25],  #3\n",
    "    'Qw - Pw': [.39,.32,.37,.33,.38,.28,.29,.27]} #1\n",
    "    \n",
    "SE = {      \n",
    "    'Qc - Pc': [.04,.037,.052,.04,.152,.09,.091,.07],  #4\n",
    "    'Qw - Pc': [.047,.041,.054,.043,.16,.07,.08,.059],  #2\n",
    "    'Qc - Pw': [.16,.013,.152,.174,.478,.31,.657,.579],#3\n",
    "    'Qw - Pw': [.12,.183,.157,.172,.435,.47,.51,.442] #1\n",
    "    \n",
    "}\n",
    "# Convert categories to numerical values\n",
    "x = np.arange(len(Seasons))\n",
    "\n",
    "# Define a color map for the points\n",
    "colors = plt.cm.viridis(np.linspace(0, 1, 8))\n",
    "#This is Am1 but its is same as AM2\n",
    "labels = ['MC0','MC1/2', 'MC3', 'MC4', 'MC5', 'MC6', 'MC7', 'MC8']\n",
    "\n",
    "plt.figure(figsize=(10, 6))\n",
    "# shaded boxes\n",
    "# Create white-filled boxes with dashed gray outlines\n",
    "for i in range(len(Seasons)):\n",
    "    plt.axvspan(i - 0.5, i + 0.5, facecolor='white', edgecolor='gray', linestyle='--', linewidth=1, alpha=0.5)\n",
    "\n",
    "# Plot each category separately\n",
    "for i, category in enumerate(Seasons):\n",
    "    y_vals = y_values[category]\n",
    "    y_errs = SE[category]\n",
    "    # Create slight jittering for x values to prevent overlap\n",
    "    x_vals = i + np.linspace(-0.2, 0.2, len(y_vals))\n",
    "    for j in range(len(y_vals)):\n",
    "        plt.errorbar(x_vals[j], y_vals[j], yerr=y_errs[j], fmt='o', capsize=0, capthick=2, ecolor=colors[j], color=colors[j], label=labels[j] if i == 0 else \"_nolegend_\")\n",
    "        \n",
    "# Adding main titles for groups of boxes\n",
    "plt.text(0.52, 0.93, 'Cold Season Precipitation', ha='center', va='bottom', fontsize=12, fontweight='bold')\n",
    "plt.text(2.49, 0.93, 'Warm Season Precipitation', ha='center', va='bottom', fontsize=12, fontweight='bold')\n",
    "plt.axhline(0, color='darkgray', linestyle='--')\n",
    "#plt.xticks(x, Seasons)\n",
    "plt.xticks(np.arange(len(Seasons)), x_labels, fontsize=12)\n",
    "plt.xlim(-0.5, len(Seasons) - 0.5)\n",
    "plt.xticks(fontsize=14)\n",
    "plt.yticks(fontsize=14)\n",
    "plt.xlabel('Streamflow',fontsize=14)\n",
    "plt.ylabel('Precipitation Fraction',fontsize=14)\n",
    "plt.ylim(-0.1,1.0)\n",
    "\n",
    "# legend handles\n",
    "legend_handles = [mlines.Line2D([], [], color=colors[i], marker='o', linestyle='None', markersize=10, label=labels[i]) for i in range(8)]\n",
    "plt.legend(handles=legend_handles, title=\"EM Definitions\",title_fontsize=13, bbox_to_anchor=(1.015, 1),fontsize=14) "
   ]
  },
  {
   "cell_type": "code",
   "execution_count": 52,
   "id": "9f498f52-d2fe-46f6-b493-715bb72e2159",
   "metadata": {},
   "outputs": [
    {
     "name": "stdout",
     "output_type": "stream",
     "text": [
      "qc_pc_mean  0.076\n",
      "qw_pc_mean  0.07242857142857144\n",
      "qc_pw_mean  0.3375714285714286\n",
      "qw_pw_mean  0.33842857142857147\n"
     ]
    }
   ],
   "source": [
    "#y_values\n",
    "qc_pc_mean = (0.037+0.052+0.04+0.152+0.09+.091+.07)/7\n",
    "qw_pc_mean = (0.041+0.054+0.043+0.16+0.07+.08+.059)/7\n",
    "qc_pw_mean = (0.013+0.152+0.174+0.478+0.31+0.657+0.579)/7\n",
    "qw_pw_mean = (0.183+0.157+0.172+0.435+0.47+0.51+0.442)/7\n",
    "print('qc_pc_mean ', qc_pc_mean)\n",
    "print('qw_pc_mean ',qw_pc_mean)\n",
    "print('qc_pw_mean ',qc_pw_mean)\n",
    "print('qw_pw_mean ',qw_pw_mean)"
   ]
  },
  {
   "cell_type": "markdown",
   "id": "14eb5d52-e104-4d41-a9e6-6978dfecaa36",
   "metadata": {},
   "source": [
    "## Variance in alternative methods:"
   ]
  },
  {
   "cell_type": "code",
   "execution_count": 53,
   "id": "e0e1519f-b645-4308-ae92-fc29eb7d1ed4",
   "metadata": {},
   "outputs": [
    {
     "name": "stdout",
     "output_type": "stream",
     "text": [
      "1. f_Qw_pw mean 0.2803296673387096\n",
      "2. f_Qw_pc mean 0.7196703326612904\n",
      "1. f_Qw_pw mean 0.2859398235330723\n",
      "2. f_Qw_pc mean 0.7140601764669279\n",
      "3. f_Qc_pw mean 0.2615891840620618\n",
      "4. f_Qc_pc mean 0.7384108159379383\n",
      "1. f_Qw_pw mean 0.27004350453623543\n",
      "2. f_Qw_pc mean 0.7299564954637646\n"
     ]
    }
   ],
   "source": [
    "#6 Fraction of warm streamflow\n",
    "f_Qw_pw = df['fM__Sine_Qw_pw'].mean()\n",
    "f_Qw_pc = df['fM__Sine_Qw_pc'].mean()\n",
    "print('1. f_Qw_pw mean',f_Qw_pw)\n",
    "print('2. f_Qw_pc mean',f_Qw_pc)\n",
    "# Fraction of cold streamflow\n",
    "f_Qc_pw = df['fM__Sine_Qc_pw'].mean()\n",
    "f_Qc_pc = df['fM__Sine_Qc_pc'].mean()\n",
    "\n",
    "#7 Fraction of warm streamflow\n",
    "f_Qw_pw = df['fM__Sine_Qw_pw_mass'].mean()\n",
    "f_Qw_pc = df['fM__Sine_Qw_pc_mass'].mean()\n",
    "print('1. f_Qw_pw mean',f_Qw_pw)\n",
    "print('2. f_Qw_pc mean',f_Qw_pc)\n",
    "# Fraction of cold streamflow\n",
    "f_Qc_pw = df['fM__Sine_Qc_pw_mass'].mean()\n",
    "f_Qc_pc = df['fM__Sine_Qc_pc_mass'].mean()\n",
    "print('3. f_Qc_pw mean',f_Qc_pw)\n",
    "print('4. f_Qc_pc mean',f_Qc_pc)\n",
    "\n",
    "#8\n",
    "f_Qw_pw = df['fM__Sine_Qw_pw_aw'].mean()\n",
    "f_Qw_pc = df['fM__Sine_Qw_pc_aw'].mean()\n",
    "print('1. f_Qw_pw mean',f_Qw_pw)\n",
    "print('2. f_Qw_pc mean',f_Qw_pc)\n",
    "# Fraction of cold streamflow\n",
    "f_Qc_pw = df['fM__Sine_Qc_pw_aw'].mean()\n",
    "f_Qc_pc = df['fM__Sine_Qc_pc_aw'].mean()"
   ]
  }
 ],
 "metadata": {
  "kernelspec": {
   "display_name": "Python [conda env:Mores_Creek]",
   "language": "python",
   "name": "conda-env-Mores_Creek-py"
  },
  "language_info": {
   "codemirror_mode": {
    "name": "ipython",
    "version": 3
   },
   "file_extension": ".py",
   "mimetype": "text/x-python",
   "name": "python",
   "nbconvert_exporter": "python",
   "pygments_lexer": "ipython3",
   "version": "3.13.5"
  }
 },
 "nbformat": 4,
 "nbformat_minor": 5
}
